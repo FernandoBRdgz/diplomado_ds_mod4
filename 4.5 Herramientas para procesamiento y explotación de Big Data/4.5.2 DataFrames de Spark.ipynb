{
  "cells": [
    {
      "cell_type": "markdown",
      "metadata": {
        "id": "view-in-github",
        "colab_type": "text"
      },
      "source": [
        "<a href=\"https://colab.research.google.com/github/FernandoBRdgz/diplomado_ds_mod4/blob/main/4.5%20Herramientas%20para%20procesamiento%20y%20explotaci%C3%B3n%20de%20Big%20Data/4.5.2%20DataFrames%20de%20Spark.ipynb\" target=\"_parent\"><img src=\"https://colab.research.google.com/assets/colab-badge.svg\" alt=\"Open In Colab\"/></a>"
      ]
    },
    {
      "cell_type": "markdown",
      "source": [
        "### Fundamentos\n",
        "\n",
        "Los Spark DataFrames son la piedra angular y la forma principal de trabajar con Spark y Python después de Spark 2.0.\n",
        "\n",
        "Los DataFrames actúan como potentes facilitadores para el manejo de tablas, y manejan fácilmente grandes conjuntos de datos.\n",
        "\n",
        "El cambio a DataFrames ofrece muchas ventajas:\n",
        "* Una sintaxis mucho más simple\n",
        "* Capacidad de usar SQL directamente en el marco de datos\n",
        "* Las operaciones se distribuyen automáticamente entre los RDD\n",
        "\n",
        "Si ha usado anteriormente la biblioteca de pandas de Python o incluso R, probablemente ya esté familiarizado con el concepto de DataFrames.\n",
        "\n",
        "Los Spark DataFrames amplían muchos de estos conceptos, lo que le permite transferir ese conocimiento fácilmente al comprender la sintáxis simple.\n",
        "\n",
        "Recuerde que la principal ventaja de usar Spark DataFrames frente a otras herramientas es que Spark puede manejar grandes conjuntos de datos que no cabrían en una sola computadora."
      ],
      "metadata": {
        "id": "SfbOdqWXQa0G",
        "application/vnd.databricks.v1+cell": {
          "title": "",
          "showTitle": false,
          "inputWidgets": {},
          "nuid": "141e1ea8-d8af-4323-a750-5e47f2a52e53"
        }
      }
    },
    {
      "cell_type": "code",
      "source": [
        "dbutils.fs.ls(\"/\")"
      ],
      "metadata": {
        "application/vnd.databricks.v1+cell": {
          "title": "",
          "showTitle": false,
          "inputWidgets": {},
          "nuid": "bfd66b5f-48a5-4b74-af29-4ddf91ce6353"
        },
        "id": "jjlnRDKrXVrL"
      },
      "outputs": [],
      "execution_count": null
    },
    {
      "cell_type": "code",
      "source": [
        "generation = \"mod4gen<x>\""
      ],
      "metadata": {
        "application/vnd.databricks.v1+cell": {
          "title": "",
          "showTitle": false,
          "inputWidgets": {},
          "nuid": "5ad28997-2391-4a7b-b729-ed6e01b9b04c"
        },
        "id": "uybOJO_uXVrM"
      },
      "outputs": [],
      "execution_count": null
    },
    {
      "cell_type": "markdown",
      "source": [
        "Para montar un Blob Storage en Azure Databricks:\n",
        "```\n",
        "dbutils.fs.mount(\n",
        "  source = \"wasbs://<container-name>@<storage-account-name>.blob.core.windows.net\",\n",
        "  mount_point = \"/mnt/<mount-name>\",\n",
        "  extra_configs = {\"fs.azure.account.key.<storage-account-name>.blob.core.windows.net\": \"<your-key>\"})\n",
        "```"
      ],
      "metadata": {
        "application/vnd.databricks.v1+cell": {
          "title": "",
          "showTitle": false,
          "inputWidgets": {},
          "nuid": "bf3cb036-8a33-4600-b77c-ebf53b72ced4"
        },
        "id": "f3Kr5r1UXVrM"
      }
    },
    {
      "cell_type": "code",
      "source": [
        "dbutils.fs.mount(\n",
        "  source = \"wasbs://input@minidatalake.blob.core.windows.net\",\n",
        "  mount_point = f\"/mnt/{generation}/input\",\n",
        "  extra_configs = {\"fs.azure.account.key.minidatalake.blob.core.windows.net\": \"<your-key>\"})"
      ],
      "metadata": {
        "application/vnd.databricks.v1+cell": {
          "title": "",
          "showTitle": false,
          "inputWidgets": {},
          "nuid": "72958ebb-6cae-4a5d-aff6-299f49d95dc8"
        },
        "id": "bqlek9GHXVrN"
      },
      "outputs": [],
      "execution_count": null
    },
    {
      "cell_type": "code",
      "source": [
        "dbutils.fs.mount(\n",
        "  source = \"wasbs://output@minidatalake.blob.core.windows.net\",\n",
        "  mount_point = f\"/mnt/{generation}/output\",\n",
        "  extra_configs = {\"fs.azure.account.key.minidatalake.blob.core.windows.net\": \"<your-key>\"})"
      ],
      "metadata": {
        "application/vnd.databricks.v1+cell": {
          "title": "",
          "showTitle": false,
          "inputWidgets": {},
          "nuid": "646af02b-8c3d-400c-a5cd-d32df47d5aa3"
        },
        "id": "Iy0Q0D8tXVrN"
      },
      "outputs": [],
      "execution_count": null
    },
    {
      "cell_type": "code",
      "source": [
        "# dbutils.fs.unmount(f\"/mnt/{generation}/input\")\n",
        "# dbutils.fs.unmount(f\"/mnt/{generation}/output\")"
      ],
      "metadata": {
        "application/vnd.databricks.v1+cell": {
          "title": "",
          "showTitle": false,
          "inputWidgets": {},
          "nuid": "04bd66ca-49be-4c18-8f8a-65f458aa45d7"
        },
        "id": "Sy236o3EXVrO"
      },
      "outputs": [],
      "execution_count": null
    },
    {
      "cell_type": "code",
      "source": [
        "dbutils.fs.ls(f\"/mnt/{generation}/input\")"
      ],
      "metadata": {
        "application/vnd.databricks.v1+cell": {
          "title": "",
          "showTitle": false,
          "inputWidgets": {},
          "nuid": "5fe87215-70ee-4668-976d-4a460d695982"
        },
        "id": "YaMkkATjXVrO"
      },
      "outputs": [],
      "execution_count": null
    },
    {
      "cell_type": "code",
      "source": [
        "df = spark.read.csv(f\"/mnt/{generation}/input/appl_stock.csv\", inferSchema=True, header=True)"
      ],
      "metadata": {
        "application/vnd.databricks.v1+cell": {
          "title": "",
          "showTitle": false,
          "inputWidgets": {},
          "nuid": "100bdb3e-d3df-45a0-8c3c-6b4890ed0864"
        },
        "id": "FLHiC-CVXVrO"
      },
      "outputs": [],
      "execution_count": null
    },
    {
      "cell_type": "code",
      "source": [
        "df.show()"
      ],
      "metadata": {
        "application/vnd.databricks.v1+cell": {
          "title": "",
          "showTitle": false,
          "inputWidgets": {},
          "nuid": "8a928f87-53ab-4a87-97dd-8a755922f6f7"
        },
        "id": "OtwpyV-KXVrP"
      },
      "outputs": [],
      "execution_count": null
    },
    {
      "cell_type": "code",
      "source": [
        "df.display()"
      ],
      "metadata": {
        "application/vnd.databricks.v1+cell": {
          "title": "",
          "showTitle": false,
          "inputWidgets": {},
          "nuid": "141fc387-b948-495c-9b9d-a2be0b45afde"
        },
        "id": "a8x5h9caXVrP"
      },
      "outputs": [],
      "execution_count": null
    },
    {
      "cell_type": "markdown",
      "source": [
        "Carga de datos semi-estructurados"
      ],
      "metadata": {
        "application/vnd.databricks.v1+cell": {
          "title": "",
          "showTitle": false,
          "inputWidgets": {},
          "nuid": "6be62481-9de2-4286-b7e0-896781c2e976"
        },
        "id": "B9nriyKQXVrP"
      }
    },
    {
      "cell_type": "code",
      "source": [
        "df = spark.read.json(f\"/mnt/{generation}/input/people.json\")"
      ],
      "metadata": {
        "collapsed": true,
        "id": "sKR7woR3Qa0U",
        "application/vnd.databricks.v1+cell": {
          "title": "",
          "showTitle": false,
          "inputWidgets": {},
          "nuid": "4c31ed3c-1e2d-4882-b8df-7524b66d1487"
        }
      },
      "outputs": [],
      "execution_count": null
    },
    {
      "cell_type": "code",
      "source": [
        "# Observe cómo faltan datos\n",
        "display(df)"
      ],
      "metadata": {
        "id": "m3eBslepQa0W",
        "application/vnd.databricks.v1+cell": {
          "title": "",
          "showTitle": false,
          "inputWidgets": {},
          "nuid": "8857f99b-8aba-447a-853a-683535eccdcc"
        }
      },
      "outputs": [],
      "execution_count": null
    },
    {
      "cell_type": "code",
      "source": [
        "df.printSchema()"
      ],
      "metadata": {
        "id": "_anA_IbVQa0Z",
        "application/vnd.databricks.v1+cell": {
          "title": "",
          "showTitle": false,
          "inputWidgets": {},
          "nuid": "eda87bf7-6236-4b0c-9ecb-e3aa537b263e"
        }
      },
      "outputs": [],
      "execution_count": null
    },
    {
      "cell_type": "code",
      "source": [
        "df.columns"
      ],
      "metadata": {
        "id": "jF90w61rQa0b",
        "application/vnd.databricks.v1+cell": {
          "title": "",
          "showTitle": false,
          "inputWidgets": {},
          "nuid": "7ca2b2ad-26a1-4843-8c4b-d34e6c6cace9"
        }
      },
      "outputs": [],
      "execution_count": null
    },
    {
      "cell_type": "code",
      "source": [
        "df.describe().display()"
      ],
      "metadata": {
        "id": "iJHP2Z9CQa0c",
        "application/vnd.databricks.v1+cell": {
          "title": "",
          "showTitle": false,
          "inputWidgets": {},
          "nuid": "2a2b5e28-4772-4f2b-b554-106ca0b62b49"
        }
      },
      "outputs": [],
      "execution_count": null
    },
    {
      "cell_type": "markdown",
      "source": [
        "Algunos tipos de datos facilitan la inferencia del esquema (como formatos tabulares como CSV).\n",
        "\n",
        "Sin embargo, a menudo se tiene que configurar un esquema manualmente si se está trabajando con un método `.read` que no tiene `inferSchema()` incorporado.\n",
        "\n",
        "Spark tiene algunas funciones necesarias para realizar esta operación, solo se requiere una estructura más específica."
      ],
      "metadata": {
        "id": "dO1n_92oQa0d",
        "application/vnd.databricks.v1+cell": {
          "title": "",
          "showTitle": false,
          "inputWidgets": {},
          "nuid": "a3197ec2-741e-4a31-9252-98b9f45af1bf"
        }
      }
    },
    {
      "cell_type": "code",
      "source": [
        "from pyspark.sql.types import StructField, StringType, IntegerType, StructType"
      ],
      "metadata": {
        "collapsed": true,
        "id": "g7NkrlfAQa0d",
        "application/vnd.databricks.v1+cell": {
          "title": "",
          "showTitle": false,
          "inputWidgets": {},
          "nuid": "c86f85e2-73d7-45bc-9749-5c9d89aad8aa"
        }
      },
      "outputs": [],
      "execution_count": null
    },
    {
      "cell_type": "code",
      "source": [
        "data_schema = [StructField(\"age\", IntegerType(), True),StructField(\"name\", StringType(), True)]"
      ],
      "metadata": {
        "collapsed": true,
        "id": "1vlBG3lYQa0f",
        "application/vnd.databricks.v1+cell": {
          "title": "",
          "showTitle": false,
          "inputWidgets": {},
          "nuid": "0fc02872-010f-4757-9f7c-3e0c1ff29d87"
        }
      },
      "outputs": [],
      "execution_count": null
    },
    {
      "cell_type": "code",
      "source": [
        "final_struc = StructType(fields=data_schema)"
      ],
      "metadata": {
        "collapsed": true,
        "id": "WYj1WtCBQa0f",
        "application/vnd.databricks.v1+cell": {
          "title": "",
          "showTitle": false,
          "inputWidgets": {},
          "nuid": "468915ba-1585-4b67-9c5d-6f06a260948f"
        }
      },
      "outputs": [],
      "execution_count": null
    },
    {
      "cell_type": "code",
      "source": [
        "df = spark.read.json(f\"/mnt/{generation}/input/people.json\", schema=final_struc)"
      ],
      "metadata": {
        "id": "3PPFNK_GQa0g",
        "application/vnd.databricks.v1+cell": {
          "title": "",
          "showTitle": false,
          "inputWidgets": {},
          "nuid": "f7b8dfad-ca46-43b0-a160-7de2d93b69f8"
        }
      },
      "outputs": [],
      "execution_count": null
    },
    {
      "cell_type": "code",
      "source": [
        "df.printSchema()"
      ],
      "metadata": {
        "id": "ex7tBFtxQa0h",
        "application/vnd.databricks.v1+cell": {
          "title": "",
          "showTitle": false,
          "inputWidgets": {},
          "nuid": "e8a8ed7e-f5dc-43b4-a783-108246b11cf3"
        }
      },
      "outputs": [],
      "execution_count": null
    },
    {
      "cell_type": "code",
      "source": [
        "df['age']"
      ],
      "metadata": {
        "id": "Bk_wc6O7Qa0h",
        "application/vnd.databricks.v1+cell": {
          "title": "",
          "showTitle": false,
          "inputWidgets": {},
          "nuid": "5198561c-3763-4897-ad72-7815c5322556"
        }
      },
      "outputs": [],
      "execution_count": null
    },
    {
      "cell_type": "code",
      "source": [
        "type(df['age'])"
      ],
      "metadata": {
        "id": "VKVBJvsZQa0i",
        "application/vnd.databricks.v1+cell": {
          "title": "",
          "showTitle": false,
          "inputWidgets": {},
          "nuid": "a998c112-2f5c-4224-930e-b61231c3e4bf"
        }
      },
      "outputs": [],
      "execution_count": null
    },
    {
      "cell_type": "code",
      "source": [
        "df.select('age')"
      ],
      "metadata": {
        "id": "xJzsINrJQa0j",
        "application/vnd.databricks.v1+cell": {
          "title": "",
          "showTitle": false,
          "inputWidgets": {},
          "nuid": "f303a916-48d5-44d0-9e0e-5b97a8c11277"
        }
      },
      "outputs": [],
      "execution_count": null
    },
    {
      "cell_type": "code",
      "source": [
        "type(df.select('age'))"
      ],
      "metadata": {
        "id": "mNx_o_qpQa0j",
        "application/vnd.databricks.v1+cell": {
          "title": "",
          "showTitle": false,
          "inputWidgets": {},
          "nuid": "02230042-2cea-41f5-b3d2-1750f31d94a6"
        }
      },
      "outputs": [],
      "execution_count": null
    },
    {
      "cell_type": "code",
      "source": [
        "df.select('age').display()"
      ],
      "metadata": {
        "id": "yVFqdSTiQa0k",
        "application/vnd.databricks.v1+cell": {
          "title": "",
          "showTitle": false,
          "inputWidgets": {},
          "nuid": "69995d75-ff53-4db8-90d7-8809d83b2936"
        }
      },
      "outputs": [],
      "execution_count": null
    },
    {
      "cell_type": "code",
      "source": [
        "# Devuelve la lista de objetos Row\n",
        "df.head(2)"
      ],
      "metadata": {
        "id": "Hx6wcwuqQa0k",
        "application/vnd.databricks.v1+cell": {
          "title": "",
          "showTitle": false,
          "inputWidgets": {},
          "nuid": "59a883e2-c604-4a44-9062-f5fa41227fe3"
        }
      },
      "outputs": [],
      "execution_count": null
    },
    {
      "cell_type": "markdown",
      "source": [
        "Múltiples columnas:"
      ],
      "metadata": {
        "id": "8lzrpDglQa0l",
        "application/vnd.databricks.v1+cell": {
          "title": "",
          "showTitle": false,
          "inputWidgets": {},
          "nuid": "50ed02f3-cd5f-4717-98c7-91b5fbaaa8ea"
        }
      }
    },
    {
      "cell_type": "code",
      "source": [
        "df.select(['age','name'])"
      ],
      "metadata": {
        "id": "3hPj-WWKQa0l",
        "application/vnd.databricks.v1+cell": {
          "title": "",
          "showTitle": false,
          "inputWidgets": {},
          "nuid": "e50ff66d-1213-4e2c-9755-06ce31e5c913"
        }
      },
      "outputs": [],
      "execution_count": null
    },
    {
      "cell_type": "code",
      "source": [
        "df.select(['age','name']).display()"
      ],
      "metadata": {
        "id": "Lbv4yveTQa0m",
        "application/vnd.databricks.v1+cell": {
          "title": "",
          "showTitle": false,
          "inputWidgets": {},
          "nuid": "73366913-fe62-4b86-8fed-27a2bc92eea2"
        }
      },
      "outputs": [],
      "execution_count": null
    },
    {
      "cell_type": "markdown",
      "source": [
        "Creación de nuevas columnas"
      ],
      "metadata": {
        "id": "ChTzo4RoQa0n",
        "application/vnd.databricks.v1+cell": {
          "title": "",
          "showTitle": false,
          "inputWidgets": {},
          "nuid": "0266bded-c2a0-4850-b907-da084822598e"
        }
      }
    },
    {
      "cell_type": "code",
      "source": [
        "# Agregar una nueva columna con una copia simple\n",
        "df.withColumn('newage', df['age']).display()"
      ],
      "metadata": {
        "id": "l0aWv9ZfQa0n",
        "application/vnd.databricks.v1+cell": {
          "title": "",
          "showTitle": false,
          "inputWidgets": {},
          "nuid": "b53ca27b-7592-4669-bec1-f081ae90cbd5"
        }
      },
      "outputs": [],
      "execution_count": null
    },
    {
      "cell_type": "code",
      "source": [
        "df.display()"
      ],
      "metadata": {
        "id": "CP3RJp5_Qa0o",
        "application/vnd.databricks.v1+cell": {
          "title": "",
          "showTitle": false,
          "inputWidgets": {},
          "nuid": "615b9650-a4dc-49be-9958-5589e35fba34"
        }
      },
      "outputs": [],
      "execution_count": null
    },
    {
      "cell_type": "code",
      "source": [
        "# Renombrado simple\n",
        "df.withColumnRenamed('age','supernewage').display()"
      ],
      "metadata": {
        "id": "umbnyx7TQa0o",
        "application/vnd.databricks.v1+cell": {
          "title": "",
          "showTitle": false,
          "inputWidgets": {},
          "nuid": "8a86c8ce-da4e-46be-80a2-977e7a039c5a"
        }
      },
      "outputs": [],
      "execution_count": null
    },
    {
      "cell_type": "markdown",
      "source": [
        "Operaciones más complejas para crear nuevas columnas."
      ],
      "metadata": {
        "id": "t6lz-Kk0Qa0o",
        "application/vnd.databricks.v1+cell": {
          "title": "",
          "showTitle": false,
          "inputWidgets": {},
          "nuid": "303d6644-c45f-4b8d-885f-116bab780148"
        }
      }
    },
    {
      "cell_type": "code",
      "source": [
        "df.withColumn('doubleage', df['age']*2).display()"
      ],
      "metadata": {
        "id": "I7sXDHZ9Qa0p",
        "application/vnd.databricks.v1+cell": {
          "title": "",
          "showTitle": false,
          "inputWidgets": {},
          "nuid": "14109aec-e749-47be-9830-2c51104b6f19"
        }
      },
      "outputs": [],
      "execution_count": null
    },
    {
      "cell_type": "code",
      "source": [
        "df.withColumn('add_one_age', df['age']+1).display()"
      ],
      "metadata": {
        "id": "wM2OGeApQa0p",
        "application/vnd.databricks.v1+cell": {
          "title": "",
          "showTitle": false,
          "inputWidgets": {},
          "nuid": "ba4335bb-8e3f-4331-aab9-6a3c7ecf6c85"
        }
      },
      "outputs": [],
      "execution_count": null
    },
    {
      "cell_type": "code",
      "source": [
        "df.withColumn('half_age', df['age']/2).display()"
      ],
      "metadata": {
        "id": "BkyMF8WZQa0p",
        "application/vnd.databricks.v1+cell": {
          "title": "",
          "showTitle": false,
          "inputWidgets": {},
          "nuid": "8fa2c1ca-13c3-4637-8233-de0d306b8700"
        }
      },
      "outputs": [],
      "execution_count": null
    },
    {
      "cell_type": "code",
      "source": [
        "df.withColumn('half_age',df['age']/2)"
      ],
      "metadata": {
        "id": "XIW4G0PzQa0p",
        "application/vnd.databricks.v1+cell": {
          "title": "",
          "showTitle": false,
          "inputWidgets": {},
          "nuid": "c4a01d59-8fe8-4083-b716-d81e771fe4d2"
        }
      },
      "outputs": [],
      "execution_count": null
    },
    {
      "cell_type": "markdown",
      "source": [
        "### Uso de SQL\n",
        "\n",
        "Para usar consultas SQL directamente con el dataframe, se debe registrar en una vista temporal"
      ],
      "metadata": {
        "id": "ntGgI0GBQa0q",
        "application/vnd.databricks.v1+cell": {
          "title": "",
          "showTitle": false,
          "inputWidgets": {},
          "nuid": "4a7e7415-9b7f-467b-9d44-fa121d0adeaf"
        }
      }
    },
    {
      "cell_type": "code",
      "source": [
        "# Registra el DataFrame como una vista temporal de SQL\n",
        "df.createOrReplaceTempView(\"people\")"
      ],
      "metadata": {
        "collapsed": true,
        "id": "Oz4TmyzWQa0q",
        "application/vnd.databricks.v1+cell": {
          "title": "",
          "showTitle": false,
          "inputWidgets": {},
          "nuid": "3a9966fa-c175-45e0-b8f1-41cba6f707d7"
        }
      },
      "outputs": [],
      "execution_count": null
    },
    {
      "cell_type": "code",
      "source": [
        "sql_results = spark.sql(\"SELECT * FROM people\")"
      ],
      "metadata": {
        "id": "dHvDzPHpQa0q",
        "application/vnd.databricks.v1+cell": {
          "title": "",
          "showTitle": false,
          "inputWidgets": {},
          "nuid": "823b2745-8a22-4205-8dfd-51d34898727e"
        }
      },
      "outputs": [],
      "execution_count": null
    },
    {
      "cell_type": "code",
      "source": [
        "sql_results"
      ],
      "metadata": {
        "id": "uzqN_Dv-Qa0q",
        "application/vnd.databricks.v1+cell": {
          "title": "",
          "showTitle": false,
          "inputWidgets": {},
          "nuid": "02365aa7-1d76-426b-900b-5515c4fec187"
        }
      },
      "outputs": [],
      "execution_count": null
    },
    {
      "cell_type": "code",
      "source": [
        "sql_results.display()"
      ],
      "metadata": {
        "id": "7hQW2gotQa0r",
        "application/vnd.databricks.v1+cell": {
          "title": "",
          "showTitle": false,
          "inputWidgets": {},
          "nuid": "9697525f-15ad-41cb-bd15-5272099dfb6e"
        }
      },
      "outputs": [],
      "execution_count": null
    },
    {
      "cell_type": "code",
      "source": [
        "spark.sql(\"SELECT * FROM people WHERE age=30\").display()"
      ],
      "metadata": {
        "id": "zhW-RM8JQa0r",
        "application/vnd.databricks.v1+cell": {
          "title": "",
          "showTitle": false,
          "inputWidgets": {},
          "nuid": "ed9d10d3-f47f-4d4f-a6e3-e202b3eaa8fc"
        }
      },
      "outputs": [],
      "execution_count": null
    }
  ],
  "metadata": {
    "language_info": {
      "mimetype": "text/x-python",
      "name": "python",
      "pygments_lexer": "ipython3",
      "codemirror_mode": {
        "name": "ipython",
        "version": 3
      },
      "version": "3.5.3",
      "nbconvert_exporter": "python",
      "file_extension": ".py"
    },
    "kernelspec": {
      "display_name": "Python [conda root]",
      "language": "python",
      "name": "conda-root-py"
    },
    "anaconda-cloud": {},
    "application/vnd.databricks.v1+notebook": {
      "notebookName": "4.5.2 DataFrames de Spark",
      "dashboards": [],
      "notebookMetadata": {
        "pythonIndentUnit": 4
      },
      "language": "python",
      "widgets": {},
      "notebookOrigID": 1838353049573343
    },
    "colab": {
      "provenance": [],
      "include_colab_link": true
    },
    "nbpresent": {
      "slides": {},
      "themes": {
        "default": "0535adbc-b74f-46cc-9cd6-4eabe2477c8e",
        "theme": {
          "0535adbc-b74f-46cc-9cd6-4eabe2477c8e": {
            "text-base": {
              "color": "mainColor",
              "font-family": "Lato",
              "font-size": 5
            },
            "id": "0535adbc-b74f-46cc-9cd6-4eabe2477c8e",
            "backgrounds": {
              "backgroundColor": {
                "background-color": "backgroundColor",
                "id": "backgroundColor"
              }
            },
            "rules": {
              "h4": {
                "color": "headingColor",
                "font-family": "Oswald",
                "font-size": 3
              },
              "h3": {
                "color": "headingColor",
                "font-family": "Oswald",
                "font-size": 3.75
              },
              "li": {
                "color": "mainColor",
                "font-family": "Lato",
                "font-size": 5
              },
              "a": {
                "color": "linkColor"
              },
              "h7": {
                "color": "headingColor",
                "font-family": "Oswald"
              },
              "h2": {
                "color": "headingColor",
                "font-family": "Oswald",
                "font-size": 5
              },
              "p": {
                "color": "mainColor",
                "font-family": "Lato",
                "font-size": 5
              },
              "h6": {
                "color": "headingColor",
                "font-family": "Oswald"
              },
              "h1": {
                "color": "headingColor",
                "font-family": "Oswald",
                "font-size": 7
              },
              "h5": {
                "color": "headingColor",
                "font-family": "Oswald"
              }
            },
            "palette": {
              "backgroundColor": {
                "id": "backgroundColor",
                "rgb": [
                  43,
                  43,
                  43
                ]
              },
              "headingColor": {
                "id": "headingColor",
                "rgb": [
                  238,
                  238,
                  238
                ]
              },
              "linkColor": {
                "id": "linkColor",
                "rgb": [
                  19,
                  218,
                  236
                ]
              },
              "mainColor": {
                "id": "mainColor",
                "rgb": [
                  238,
                  238,
                  238
                ]
              }
            }
          },
          "cc59980f-cb69-400a-b63a-1fb85ca73c8a": {
            "text-base": {
              "color": "19cc588f-0593-49c9-9f4b-e4d7cc113b1c",
              "font-family": "Lato",
              "font-size": 4
            },
            "id": "cc59980f-cb69-400a-b63a-1fb85ca73c8a",
            "backgrounds": {
              "dc7afa04-bf90-40b1-82a5-726e3cff5267": {
                "background-color": "31af15d2-7e15-44c5-ab5e-e04b16a89eff",
                "id": "dc7afa04-bf90-40b1-82a5-726e3cff5267"
              }
            },
            "rules": {
              "pre": {
                "font-family": "Anonymous Pro",
                "font-size": 4
              },
              "h4": {
                "color": "c5cc3653-2ee1-402a-aba2-7caae1da4f6c",
                "font-family": "Lato",
                "font-size": 5
              },
              "h3": {
                "color": "50f92c45-a630-455b-aec3-788680ec7410",
                "font-family": "Lato",
                "font-size": 5.5
              },
              "li": {
                "color": "50f92c45-a630-455b-aec3-788680ec7410",
                "font-size": 3.25
              },
              "a": {
                "color": "19cc588f-0593-49c9-9f4b-e4d7cc113b1c"
              },
              "h7": {
                "font-family": "Lato"
              },
              "code": {
                "font-family": "Anonymous Pro"
              },
              "h2": {
                "color": "19cc588f-0593-49c9-9f4b-e4d7cc113b1c",
                "font-family": "Merriweather",
                "font-size": 6
              },
              "blockquote": {
                "color": "50f92c45-a630-455b-aec3-788680ec7410",
                "font-size": 3
              },
              "h6": {
                "font-family": "Lato"
              },
              "h1": {
                "color": "19cc588f-0593-49c9-9f4b-e4d7cc113b1c",
                "font-family": "Merriweather",
                "font-size": 8
              },
              "h5": {
                "font-family": "Lato"
              }
            },
            "palette": {
              "efa7f048-9acb-414c-8b04-a26811511a21": {
                "id": "efa7f048-9acb-414c-8b04-a26811511a21",
                "rgb": [
                  25.118061674008803,
                  73.60176211453744,
                  107.4819383259912
                ]
              },
              "50f92c45-a630-455b-aec3-788680ec7410": {
                "id": "50f92c45-a630-455b-aec3-788680ec7410",
                "rgb": [
                  197,
                  226,
                  245
                ]
              },
              "19cc588f-0593-49c9-9f4b-e4d7cc113b1c": {
                "id": "19cc588f-0593-49c9-9f4b-e4d7cc113b1c",
                "rgb": [
                  252,
                  252,
                  252
                ]
              },
              "31af15d2-7e15-44c5-ab5e-e04b16a89eff": {
                "id": "31af15d2-7e15-44c5-ab5e-e04b16a89eff",
                "rgb": [
                  68,
                  68,
                  68
                ]
              },
              "c5cc3653-2ee1-402a-aba2-7caae1da4f6c": {
                "id": "c5cc3653-2ee1-402a-aba2-7caae1da4f6c",
                "rgb": [
                  43,
                  126,
                  184
                ]
              }
            }
          }
        }
      }
    }
  },
  "nbformat": 4,
  "nbformat_minor": 0
}