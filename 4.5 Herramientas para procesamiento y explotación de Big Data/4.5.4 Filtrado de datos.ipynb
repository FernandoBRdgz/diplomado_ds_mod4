{
  "cells": [
    {
      "cell_type": "markdown",
      "metadata": {
        "id": "view-in-github",
        "colab_type": "text"
      },
      "source": [
        "<a href=\"https://colab.research.google.com/github/FernandoBRdgz/diplomado_ds_mod4/blob/main/4.5%20Herramientas%20para%20procesamiento%20y%20explotaci%C3%B3n%20de%20Big%20Data/4.5.4%20Filtrado%20de%20datos.ipynb\" target=\"_parent\"><img src=\"https://colab.research.google.com/assets/colab-badge.svg\" alt=\"Open In Colab\"/></a>"
      ]
    },
    {
      "cell_type": "markdown",
      "source": [
        "### Filtrado de datos"
      ],
      "metadata": {
        "id": "Alsb8nxXK0rh",
        "application/vnd.databricks.v1+cell": {
          "title": "",
          "showTitle": false,
          "inputWidgets": {},
          "nuid": "72b421d8-238d-4eb3-8135-34f65e94d5a8"
        }
      }
    },
    {
      "cell_type": "code",
      "source": [
        "import pyspark"
      ],
      "metadata": {
        "application/vnd.databricks.v1+cell": {
          "title": "",
          "showTitle": false,
          "inputWidgets": {},
          "nuid": "6d0bce7b-adde-45fe-9cf0-b76ac7c4766b"
        },
        "id": "K92klix4X5Vy"
      },
      "outputs": [],
      "execution_count": null
    },
    {
      "cell_type": "code",
      "source": [
        "generation = \"mod4gen<x>\""
      ],
      "metadata": {
        "application/vnd.databricks.v1+cell": {
          "title": "",
          "showTitle": false,
          "inputWidgets": {},
          "nuid": "24cb1d4b-ed6a-49d1-bc4d-ec8dad70ea0e"
        },
        "id": "zuv4vEoSX5V0"
      },
      "outputs": [],
      "execution_count": null
    },
    {
      "cell_type": "code",
      "source": [
        "dbutils.fs.ls(f\"/mnt/{generation}/input\")"
      ],
      "metadata": {
        "application/vnd.databricks.v1+cell": {
          "title": "",
          "showTitle": false,
          "inputWidgets": {},
          "nuid": "eb742269-4bc4-4ef4-84e2-26351b8661a2"
        },
        "id": "j3lY7c1RX5V0"
      },
      "outputs": [],
      "execution_count": null
    },
    {
      "cell_type": "code",
      "source": [
        "df = spark.read.csv(f\"/mnt/{generation}/input/appl_stock.csv\", inferSchema=True, header=True)"
      ],
      "metadata": {
        "id": "wtk4YeYuK0rr",
        "application/vnd.databricks.v1+cell": {
          "title": "",
          "showTitle": false,
          "inputWidgets": {},
          "nuid": "4e10eb36-6c75-4011-b61a-ee86dfe1c0fc"
        }
      },
      "outputs": [],
      "execution_count": null
    },
    {
      "cell_type": "code",
      "source": [
        "df.printSchema()"
      ],
      "metadata": {
        "application/vnd.databricks.v1+cell": {
          "title": "",
          "showTitle": false,
          "inputWidgets": {},
          "nuid": "470f034a-9f90-4181-8a6e-6a882a7148ae"
        },
        "id": "Q1Y3Sqm5X5V1"
      },
      "outputs": [],
      "execution_count": null
    },
    {
      "cell_type": "markdown",
      "source": [
        "## Filtrado de datos\n",
        "\n",
        "Una gran ventaja de trabajar con DataFrames es la capacidad de filtrar rápidamente los datos según las condiciones.\n",
        "\n",
        "Los Spark DataFrames están construidos sobre la plataforma Spark SQL, lo que significa que si ya conoces SQL, puedes tomar esos datos rápida y fácilmente usando comandos SQL o usando los métodos de un DataFrame."
      ],
      "metadata": {
        "collapsed": false,
        "id": "pOJ1alyoK0rt",
        "application/vnd.databricks.v1+cell": {
          "title": "",
          "showTitle": false,
          "inputWidgets": {},
          "nuid": "54d8db05-dfc3-40ef-bf5e-09caa7c3196f"
        }
      }
    },
    {
      "cell_type": "code",
      "source": [
        "# Uso de SQL\n",
        "df.filter(\"Close<500\").display()"
      ],
      "metadata": {
        "id": "VLuCPYvlK0ru",
        "application/vnd.databricks.v1+cell": {
          "title": "",
          "showTitle": false,
          "inputWidgets": {},
          "nuid": "a815d253-f5ca-4942-9788-c9b60ace1587"
        }
      },
      "outputs": [],
      "execution_count": null
    },
    {
      "cell_type": "code",
      "source": [
        "# SQL con .select()\n",
        "df.filter(\"Close<500\").select(\"Open\").display()"
      ],
      "metadata": {
        "id": "Sv2lJfsYK0rw",
        "application/vnd.databricks.v1+cell": {
          "title": "",
          "showTitle": false,
          "inputWidgets": {},
          "nuid": "1ed4874a-bd21-4138-b127-e81d6aa84691"
        }
      },
      "outputs": [],
      "execution_count": null
    },
    {
      "cell_type": "code",
      "source": [
        "# SQL con .select()\n",
        "df.filter(\"Close<500\").select([\"Open\",\"Close\"]).display()"
      ],
      "metadata": {
        "id": "qbOJSkQoK0rx",
        "application/vnd.databricks.v1+cell": {
          "title": "",
          "showTitle": false,
          "inputWidgets": {},
          "nuid": "1465489d-c806-46a4-af49-d99a599b99bd"
        }
      },
      "outputs": [],
      "execution_count": null
    },
    {
      "cell_type": "markdown",
      "source": [
        "El uso de operadores de comparación tradicionales de Python es otra forma de hacer esto, se verán muy similares a los operadores de SQL, excepto que debe asegurarse de llamar a la columna completa dentro del DataFrame, usando el formato: `df[\"nombre de la columna\"]`"
      ],
      "metadata": {
        "id": "Kmp1oLgSK0ry",
        "application/vnd.databricks.v1+cell": {
          "title": "",
          "showTitle": false,
          "inputWidgets": {},
          "nuid": "239b9abb-9a74-48bf-a5cf-c52c10d127e3"
        }
      }
    },
    {
      "cell_type": "code",
      "source": [
        "df.filter(df[\"Close\"] < 200).display()"
      ],
      "metadata": {
        "id": "KD-1z5gUK0rz",
        "application/vnd.databricks.v1+cell": {
          "title": "",
          "showTitle": false,
          "inputWidgets": {},
          "nuid": "9ca852fd-eb52-4b47-9335-6d5db4b0518f"
        }
      },
      "outputs": [],
      "execution_count": null
    },
    {
      "cell_type": "code",
      "source": [
        "# Esta celda producirá un error. Asegúrese siempre de leer el error para profundizar en el.\n",
        "#df.filter(df[\"Close\"] < 200 and df['Open'] > 200).display()"
      ],
      "metadata": {
        "id": "LqVUeiT6K0r0",
        "application/vnd.databricks.v1+cell": {
          "title": "",
          "showTitle": false,
          "inputWidgets": {},
          "nuid": "b0369a14-0ab0-4b19-bb6f-e91dc9b737b2"
        }
      },
      "outputs": [],
      "execution_count": null
    },
    {
      "cell_type": "code",
      "source": [
        "# Asegúrese de agregar el paréntesis que separa las declaraciones\n",
        "df.filter( (df[\"Close\"]<200) & (df['Open']>200) ).display()"
      ],
      "metadata": {
        "id": "Do91cWi3K0r0",
        "application/vnd.databricks.v1+cell": {
          "title": "",
          "showTitle": false,
          "inputWidgets": {},
          "nuid": "7be32f3d-e2bf-4318-b364-7f96bcadbe26"
        }
      },
      "outputs": [],
      "execution_count": null
    },
    {
      "cell_type": "code",
      "source": [
        "# Asegúrese de agregar el paréntesis que separa las declaraciones\n",
        "df.filter( (df[\"Close\"]<200) | (df['Open']>200) ).display()"
      ],
      "metadata": {
        "id": "nsM1xWKKK0r1",
        "application/vnd.databricks.v1+cell": {
          "title": "",
          "showTitle": false,
          "inputWidgets": {},
          "nuid": "7513ff56-64c9-4394-9a16-9973609d19cb"
        }
      },
      "outputs": [],
      "execution_count": null
    },
    {
      "cell_type": "code",
      "source": [
        "# Asegúrese de agregar el paréntesis que separa las declaraciones\n",
        "df.filter( (df[\"Close\"]<200) & ~(df['Open']<200) ).display()"
      ],
      "metadata": {
        "id": "QEexPWuLK0r2",
        "application/vnd.databricks.v1+cell": {
          "title": "",
          "showTitle": false,
          "inputWidgets": {},
          "nuid": "4a9470af-7c3b-4062-a888-2d564b5c050f"
        }
      },
      "outputs": [],
      "execution_count": null
    },
    {
      "cell_type": "code",
      "source": [
        "df.filter(df[\"Low\"] == 197.16).display()"
      ],
      "metadata": {
        "id": "hNWQcfoqK0r3",
        "application/vnd.databricks.v1+cell": {
          "title": "",
          "showTitle": false,
          "inputWidgets": {},
          "nuid": "cd0d0637-0dc2-459f-803e-850d6bbd2483"
        }
      },
      "outputs": [],
      "execution_count": null
    },
    {
      "cell_type": "code",
      "source": [
        "type(df.filter(df[\"Low\"] == 197.16))"
      ],
      "metadata": {
        "application/vnd.databricks.v1+cell": {
          "title": "",
          "showTitle": false,
          "inputWidgets": {},
          "nuid": "82953e21-d784-4545-a921-bbc43fa91813"
        },
        "id": "1b1nTmT4X5V4"
      },
      "outputs": [],
      "execution_count": null
    },
    {
      "cell_type": "code",
      "source": [
        "# Recopilación de resultados como objetos de Python\n",
        "df.filter(df[\"Low\"] == 197.16).collect()"
      ],
      "metadata": {
        "id": "VZ0b4He3K0r3",
        "application/vnd.databricks.v1+cell": {
          "title": "",
          "showTitle": false,
          "inputWidgets": {},
          "nuid": "8278c014-8fcb-491c-a9d5-0e83be8a67e0"
        }
      },
      "outputs": [],
      "execution_count": null
    },
    {
      "cell_type": "code",
      "source": [
        "result = df.filter(df[\"Low\"] == 197.16).collect()"
      ],
      "metadata": {
        "collapsed": true,
        "id": "C3cAQTjZK0r4",
        "application/vnd.databricks.v1+cell": {
          "title": "",
          "showTitle": false,
          "inputWidgets": {},
          "nuid": "28431526-9cfb-498f-b346-9ed20fd04e16"
        }
      },
      "outputs": [],
      "execution_count": null
    },
    {
      "cell_type": "code",
      "source": [
        "# Tenga en cuenta que la estructura anidada devuelve un objeto Row anidado\n",
        "type(result[0])"
      ],
      "metadata": {
        "id": "x3IrFMGuK0r4",
        "application/vnd.databricks.v1+cell": {
          "title": "",
          "showTitle": false,
          "inputWidgets": {},
          "nuid": "30e20363-a85f-460f-aaaa-ddb5db2c1910"
        }
      },
      "outputs": [],
      "execution_count": null
    },
    {
      "cell_type": "code",
      "source": [
        "row = result[0]\n",
        "row"
      ],
      "metadata": {
        "collapsed": true,
        "id": "5xAJzX2uK0r5",
        "application/vnd.databricks.v1+cell": {
          "title": "",
          "showTitle": false,
          "inputWidgets": {},
          "nuid": "84ca0cbf-9406-453d-b5d6-80a46e31667b"
        }
      },
      "outputs": [],
      "execution_count": null
    },
    {
      "cell_type": "code",
      "source": [
        "# Las \"Rows\" se pueden convertir en diccionarios\n",
        "row.asDict()"
      ],
      "metadata": {
        "id": "fljCzo_xK0r5",
        "application/vnd.databricks.v1+cell": {
          "title": "",
          "showTitle": false,
          "inputWidgets": {},
          "nuid": "c6ea0a42-7ed7-4f63-b62f-f6d6be732327"
        }
      },
      "outputs": [],
      "execution_count": null
    },
    {
      "cell_type": "code",
      "source": [
        "# El objeto Row es también un iterable\n",
        "for item in row:\n",
        "    print(item)"
      ],
      "metadata": {
        "id": "HP7KN8BhK0r6",
        "application/vnd.databricks.v1+cell": {
          "title": "",
          "showTitle": false,
          "inputWidgets": {},
          "nuid": "5c9deb06-08bd-4ec8-a9f7-f86de77c4c93"
        }
      },
      "outputs": [],
      "execution_count": null
    }
  ],
  "metadata": {
    "language_info": {
      "mimetype": "text/x-python",
      "name": "python",
      "pygments_lexer": "ipython3",
      "codemirror_mode": {
        "name": "ipython",
        "version": 3
      },
      "version": "3.5.3",
      "nbconvert_exporter": "python",
      "file_extension": ".py"
    },
    "kernelspec": {
      "display_name": "Python [conda root]",
      "language": "python",
      "name": "conda-root-py"
    },
    "anaconda-cloud": {},
    "application/vnd.databricks.v1+notebook": {
      "notebookName": "4.5.4 Filtrado de datos",
      "dashboards": [],
      "notebookMetadata": {
        "pythonIndentUnit": 4
      },
      "language": "python",
      "widgets": {},
      "notebookOrigID": 1042727843157800
    },
    "colab": {
      "provenance": [],
      "include_colab_link": true
    }
  },
  "nbformat": 4,
  "nbformat_minor": 0
}