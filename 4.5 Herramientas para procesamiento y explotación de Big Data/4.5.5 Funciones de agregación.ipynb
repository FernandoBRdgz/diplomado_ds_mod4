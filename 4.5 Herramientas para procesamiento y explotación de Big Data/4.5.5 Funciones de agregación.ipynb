{
  "cells": [
    {
      "cell_type": "markdown",
      "metadata": {
        "id": "view-in-github",
        "colab_type": "text"
      },
      "source": [
        "<a href=\"https://colab.research.google.com/github/FernandoBRdgz/diplomado_ds_mod4/blob/main/4.5%20Herramientas%20para%20procesamiento%20y%20explotaci%C3%B3n%20de%20Big%20Data/4.5.5%20Funciones%20de%20agregaci%C3%B3n.ipynb\" target=\"_parent\"><img src=\"https://colab.research.google.com/assets/colab-badge.svg\" alt=\"Open In Colab\"/></a>"
      ]
    },
    {
      "cell_type": "markdown",
      "source": [
        "### Agrupaciones y Funciones de agregación"
      ],
      "metadata": {
        "application/vnd.databricks.v1+cell": {
          "title": "",
          "showTitle": false,
          "inputWidgets": {},
          "nuid": "b8362a76-c5ff-40e9-a9e4-1e5102a2d2e7"
        },
        "id": "3_B-2U2fX-pu"
      }
    },
    {
      "cell_type": "code",
      "source": [
        "generation = \"mod4gen<x>\""
      ],
      "metadata": {
        "application/vnd.databricks.v1+cell": {
          "title": "",
          "showTitle": false,
          "inputWidgets": {},
          "nuid": "0e6a276e-7f1e-49d5-a012-f1ecaf3d2a0c"
        },
        "id": "TmE9Niw9X-py"
      },
      "outputs": [],
      "execution_count": null
    },
    {
      "cell_type": "code",
      "source": [
        "df = spark.read.csv(f\"/mnt/{generation}/input/sales_info.csv\", inferSchema=True, header=True)"
      ],
      "metadata": {
        "collapsed": true,
        "application/vnd.databricks.v1+cell": {
          "title": "",
          "showTitle": false,
          "inputWidgets": {},
          "nuid": "6b972879-71d5-4ce8-9ac0-ebccc5f6d5b1"
        },
        "id": "2jIIfMk_X-pz"
      },
      "outputs": [],
      "execution_count": null
    },
    {
      "cell_type": "code",
      "source": [
        "df.printSchema()"
      ],
      "metadata": {
        "application/vnd.databricks.v1+cell": {
          "title": "",
          "showTitle": false,
          "inputWidgets": {},
          "nuid": "4da795de-eb0d-4c24-9dfd-27fede64a4ec"
        },
        "id": "l0IioVpnX-p0"
      },
      "outputs": [],
      "execution_count": null
    },
    {
      "cell_type": "code",
      "source": [
        "df.display()"
      ],
      "metadata": {
        "application/vnd.databricks.v1+cell": {
          "title": "",
          "showTitle": false,
          "inputWidgets": {},
          "nuid": "3c7c84d5-9cc5-4e04-8746-85c86a9b8663"
        },
        "id": "XaFHQBIgX-p0"
      },
      "outputs": [],
      "execution_count": null
    },
    {
      "cell_type": "code",
      "source": [
        "# Agrupación por empresa\n",
        "df.groupBy(\"Company\")"
      ],
      "metadata": {
        "application/vnd.databricks.v1+cell": {
          "title": "",
          "showTitle": false,
          "inputWidgets": {},
          "nuid": "1ec13e05-598a-439a-ae7c-6e4bd0f7f585"
        },
        "id": "KnR3NyPiX-p0"
      },
      "outputs": [],
      "execution_count": null
    },
    {
      "cell_type": "markdown",
      "source": [
        "Del objeto `GroupedData` se pueden utilizar varios métodos."
      ],
      "metadata": {
        "application/vnd.databricks.v1+cell": {
          "title": "",
          "showTitle": false,
          "inputWidgets": {},
          "nuid": "e1927dc0-f5b2-4250-b45f-810ae3dc13b9"
        },
        "id": "hf6KgIneX-p1"
      }
    },
    {
      "cell_type": "code",
      "source": [
        "# Media\n",
        "df.groupBy(\"Company\").mean().display()"
      ],
      "metadata": {
        "application/vnd.databricks.v1+cell": {
          "title": "",
          "showTitle": false,
          "inputWidgets": {},
          "nuid": "34fcdb90-5025-4c01-993e-ceeb0b1f3c9d"
        },
        "id": "HtbsrHHtX-p1"
      },
      "outputs": [],
      "execution_count": null
    },
    {
      "cell_type": "code",
      "source": [
        "# Conteo\n",
        "df.groupBy(\"Company\").count().display()"
      ],
      "metadata": {
        "application/vnd.databricks.v1+cell": {
          "title": "",
          "showTitle": false,
          "inputWidgets": {},
          "nuid": "f3c2cf3a-2f5a-413f-be34-539b2517feb9"
        },
        "id": "e4nPi1lyX-p2"
      },
      "outputs": [],
      "execution_count": null
    },
    {
      "cell_type": "code",
      "source": [
        "# Máximos\n",
        "df.groupBy(\"Company\").max().display()"
      ],
      "metadata": {
        "application/vnd.databricks.v1+cell": {
          "title": "",
          "showTitle": false,
          "inputWidgets": {},
          "nuid": "05b8b953-1d85-49f9-b8bf-6568b2b48c65"
        },
        "id": "TFw4Ja0DX-p2"
      },
      "outputs": [],
      "execution_count": null
    },
    {
      "cell_type": "code",
      "source": [
        "# Mínimo\n",
        "df.groupBy(\"Company\").min().display()"
      ],
      "metadata": {
        "application/vnd.databricks.v1+cell": {
          "title": "",
          "showTitle": false,
          "inputWidgets": {},
          "nuid": "65ad6407-1f5c-4ec3-b122-2304264556df"
        },
        "id": "_RImfpGLX-p2"
      },
      "outputs": [],
      "execution_count": null
    },
    {
      "cell_type": "code",
      "source": [
        "# Suma\n",
        "df.groupBy(\"Company\").sum().display()"
      ],
      "metadata": {
        "application/vnd.databricks.v1+cell": {
          "title": "",
          "showTitle": false,
          "inputWidgets": {},
          "nuid": "d5179d7a-3197-4b24-9f2c-0ff612398f24"
        },
        "id": "oy-H2fAHX-p3"
      },
      "outputs": [],
      "execution_count": null
    },
    {
      "cell_type": "markdown",
      "source": [
        "No todos los métodos necesitan una llamada groupby, en su lugar, se puede llamar al método generalizado `.agg()`, que llamará al agregado de todas las filas en la columna especificada del DataFrame.\n",
        "\n",
        "Se pueden tomar argumentos como una sola columna o crear múltiples llamadas agregadas a la vez usando notación de diccionario."
      ],
      "metadata": {
        "application/vnd.databricks.v1+cell": {
          "title": "",
          "showTitle": false,
          "inputWidgets": {},
          "nuid": "d5ed02f8-e0b2-41a1-863f-497d9470b45f"
        },
        "id": "BYF7sZ5LX-p3"
      }
    },
    {
      "cell_type": "code",
      "source": [
        "# Ventas máximas\n",
        "df.agg({\"Sales\":\"max\"}).display()"
      ],
      "metadata": {
        "application/vnd.databricks.v1+cell": {
          "title": "",
          "showTitle": false,
          "inputWidgets": {},
          "nuid": "eec240b6-a9e2-47b8-a905-2bbe05ab989b"
        },
        "id": "2PmV0ysDX-p3"
      },
      "outputs": [],
      "execution_count": null
    },
    {
      "cell_type": "code",
      "source": [
        "# También se podría haber hecho esto con en el groupBy por objeto\n",
        "grouped = df.groupBy(\"Company\")"
      ],
      "metadata": {
        "collapsed": true,
        "application/vnd.databricks.v1+cell": {
          "title": "",
          "showTitle": false,
          "inputWidgets": {},
          "nuid": "e6bc2ce5-61ec-462d-983e-ef23ae5811e2"
        },
        "id": "pN28HIKcX-p4"
      },
      "outputs": [],
      "execution_count": null
    },
    {
      "cell_type": "code",
      "source": [
        "grouped.agg({\"Sales\":\"max\"}).display()"
      ],
      "metadata": {
        "application/vnd.databricks.v1+cell": {
          "title": "",
          "showTitle": false,
          "inputWidgets": {},
          "nuid": "8b6aa956-c6d7-4b53-94bf-866a2083dada"
        },
        "id": "u5nE92n-X-p4"
      },
      "outputs": [],
      "execution_count": null
    },
    {
      "cell_type": "markdown",
      "source": [
        "### Funciones\n",
        "\n",
        "Hay una variedad de funciones que puede importar desde pyspark.sql.functions.\n",
        "\n",
        "Consulte la documentación para ver la lista completa disponible:\n",
        "https://spark.apache.org/docs/3.1.1/api/python/reference/pyspark.sql.html#functions"
      ],
      "metadata": {
        "application/vnd.databricks.v1+cell": {
          "title": "",
          "showTitle": false,
          "inputWidgets": {},
          "nuid": "fd7c50d6-80b5-49d3-839d-0cce6b9a07b4"
        },
        "id": "pKaGOGEhX-p4"
      }
    },
    {
      "cell_type": "code",
      "source": [
        "from pyspark.sql.functions import countDistinct, avg, stddev"
      ],
      "metadata": {
        "application/vnd.databricks.v1+cell": {
          "title": "",
          "showTitle": false,
          "inputWidgets": {},
          "nuid": "a146da3a-962b-4e18-ae37-1e38a2abe6fd"
        },
        "id": "pTKMSvM2X-p4"
      },
      "outputs": [],
      "execution_count": null
    },
    {
      "cell_type": "code",
      "source": [
        "df.select(countDistinct(\"Sales\")).display()"
      ],
      "metadata": {
        "application/vnd.databricks.v1+cell": {
          "title": "",
          "showTitle": false,
          "inputWidgets": {},
          "nuid": "6173df94-eb1c-42a6-91ec-2419f8593582"
        },
        "id": "xAirIC7JX-p4"
      },
      "outputs": [],
      "execution_count": null
    },
    {
      "cell_type": "markdown",
      "source": [
        "A menudo querrá cambiar el nombre, use el método .alias() para esto:"
      ],
      "metadata": {
        "application/vnd.databricks.v1+cell": {
          "title": "",
          "showTitle": false,
          "inputWidgets": {},
          "nuid": "3620aead-1dd7-436d-9225-c8e15b80f3a7"
        },
        "id": "A6j-p5y_X-p4"
      }
    },
    {
      "cell_type": "code",
      "source": [
        "df.select(countDistinct(\"Sales\").alias(\"Distinct Sales\")).display()"
      ],
      "metadata": {
        "application/vnd.databricks.v1+cell": {
          "title": "",
          "showTitle": false,
          "inputWidgets": {},
          "nuid": "9231154a-e74c-454a-8e9f-f6e71f7de811"
        },
        "id": "hF-L5NJhX-p5"
      },
      "outputs": [],
      "execution_count": null
    },
    {
      "cell_type": "code",
      "source": [
        "df.select(avg(\"Sales\")).display()"
      ],
      "metadata": {
        "application/vnd.databricks.v1+cell": {
          "title": "",
          "showTitle": false,
          "inputWidgets": {},
          "nuid": "aa8c8e56-2fe5-4cde-8bb0-9a575498fdf8"
        },
        "id": "B7U_V0uUX-p5"
      },
      "outputs": [],
      "execution_count": null
    },
    {
      "cell_type": "code",
      "source": [
        "df.select(stddev(\"Sales\")).display()"
      ],
      "metadata": {
        "application/vnd.databricks.v1+cell": {
          "title": "",
          "showTitle": false,
          "inputWidgets": {},
          "nuid": "5e57f5c8-d3e5-43a6-9533-60be7cc80840"
        },
        "id": "Kk-jp1dxX-p5"
      },
      "outputs": [],
      "execution_count": null
    },
    {
      "cell_type": "markdown",
      "source": [
        "Spark devuelve una alta precisión reflejada en la catidad de dígitos. Se utiliza la función `format_number` para arreglar eso."
      ],
      "metadata": {
        "application/vnd.databricks.v1+cell": {
          "title": "",
          "showTitle": false,
          "inputWidgets": {},
          "nuid": "f3d5e789-cecd-4de3-abeb-f758f4296b66"
        },
        "id": "XxyJAnQFX-p5"
      }
    },
    {
      "cell_type": "code",
      "source": [
        "from pyspark.sql.functions import format_number"
      ],
      "metadata": {
        "collapsed": true,
        "application/vnd.databricks.v1+cell": {
          "title": "",
          "showTitle": false,
          "inputWidgets": {},
          "nuid": "d9bab472-27f4-43e3-b465-f71545078b8a"
        },
        "id": "3HklNjdLX-p5"
      },
      "outputs": [],
      "execution_count": null
    },
    {
      "cell_type": "code",
      "source": [
        "sales_std = df.select(stddev(\"Sales\").alias(\"std\"))"
      ],
      "metadata": {
        "collapsed": true,
        "application/vnd.databricks.v1+cell": {
          "title": "",
          "showTitle": false,
          "inputWidgets": {},
          "nuid": "37f28bf8-4335-4b86-a1e2-6dc122810c27"
        },
        "id": "lptHz8vnX-p5"
      },
      "outputs": [],
      "execution_count": null
    },
    {
      "cell_type": "code",
      "source": [
        "sales_std.display()"
      ],
      "metadata": {
        "application/vnd.databricks.v1+cell": {
          "title": "",
          "showTitle": false,
          "inputWidgets": {},
          "nuid": "a842c978-da2a-4b63-a83e-ae4eda863c7f"
        },
        "id": "fs6XEMJuX-p5"
      },
      "outputs": [],
      "execution_count": null
    },
    {
      "cell_type": "code",
      "source": [
        "sales_std.select(format_number(\"std\", 2)).display()   # format_number(\"column name\", decimal places)"
      ],
      "metadata": {
        "application/vnd.databricks.v1+cell": {
          "title": "",
          "showTitle": false,
          "inputWidgets": {},
          "nuid": "6ec71375-3f79-42f5-9d86-687e4f6a5160"
        },
        "id": "x62Db1RLX-p6"
      },
      "outputs": [],
      "execution_count": null
    },
    {
      "cell_type": "markdown",
      "source": [
        "#### Order By\n",
        "\n",
        "Puede ordenar fácilmente con el método orderBy"
      ],
      "metadata": {
        "application/vnd.databricks.v1+cell": {
          "title": "",
          "showTitle": false,
          "inputWidgets": {},
          "nuid": "08f77113-4679-432d-a6f1-d1bab4f0ba56"
        },
        "id": "ABUQz0hwX-p6"
      }
    },
    {
      "cell_type": "code",
      "source": [
        "# OrderBy ascendente\n",
        "df.orderBy(\"Sales\").display()"
      ],
      "metadata": {
        "application/vnd.databricks.v1+cell": {
          "title": "",
          "showTitle": false,
          "inputWidgets": {},
          "nuid": "2f5c44ea-b070-4954-8bae-2b6f0363befa"
        },
        "id": "oJPvTb86X-p6"
      },
      "outputs": [],
      "execution_count": null
    },
    {
      "cell_type": "code",
      "source": [
        "# OrderBy descendente\n",
        "df.orderBy(df[\"Sales\"].desc()).display()"
      ],
      "metadata": {
        "application/vnd.databricks.v1+cell": {
          "title": "",
          "showTitle": false,
          "inputWidgets": {},
          "nuid": "9eb9a418-6a57-41a9-b31f-6fc7b8b8968d"
        },
        "id": "Un91iwPxX-p6"
      },
      "outputs": [],
      "execution_count": null
    }
  ],
  "metadata": {
    "anaconda-cloud": {},
    "kernelspec": {
      "display_name": "Python [conda root]",
      "language": "python",
      "name": "conda-root-py"
    },
    "language_info": {
      "mimetype": "text/x-python",
      "name": "python",
      "pygments_lexer": "ipython3",
      "codemirror_mode": {
        "name": "ipython",
        "version": 3
      },
      "version": "3.5.3",
      "nbconvert_exporter": "python",
      "file_extension": ".py"
    },
    "application/vnd.databricks.v1+notebook": {
      "notebookName": "4.5.5 Funciones de agregación",
      "dashboards": [],
      "notebookMetadata": {
        "pythonIndentUnit": 4
      },
      "language": "python",
      "widgets": {},
      "notebookOrigID": 267889027352959
    },
    "colab": {
      "provenance": [],
      "include_colab_link": true
    }
  },
  "nbformat": 4,
  "nbformat_minor": 0
}