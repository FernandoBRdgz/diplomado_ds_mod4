{
  "cells": [
    {
      "cell_type": "markdown",
      "metadata": {
        "id": "view-in-github",
        "colab_type": "text"
      },
      "source": [
        "<a href=\"https://colab.research.google.com/github/FernandoBRdgz/diplomado_ds_mod4/blob/main/4.5%20Herramientas%20para%20procesamiento%20y%20explotaci%C3%B3n%20de%20Big%20Data/4.5.3%20Manipulaci%C3%B3n%20de%20Fechas.ipynb\" target=\"_parent\"><img src=\"https://colab.research.google.com/assets/colab-badge.svg\" alt=\"Open In Colab\"/></a>"
      ]
    },
    {
      "cell_type": "markdown",
      "source": [
        "### Fechas en Spark"
      ],
      "metadata": {
        "application/vnd.databricks.v1+cell": {
          "title": "",
          "showTitle": false,
          "inputWidgets": {},
          "nuid": "5ac21c05-ce8a-4155-9bb3-7d8249d5d24c"
        },
        "id": "hBa89M1IX0PR"
      }
    },
    {
      "cell_type": "code",
      "source": [
        "import pyspark"
      ],
      "metadata": {
        "application/vnd.databricks.v1+cell": {
          "title": "",
          "showTitle": false,
          "inputWidgets": {},
          "nuid": "3acd2495-66ee-4823-af60-949be18b9030"
        },
        "id": "agGbJf4QX0PV"
      },
      "outputs": [],
      "execution_count": null
    },
    {
      "cell_type": "code",
      "source": [
        "generation = \"mod4gen<>\""
      ],
      "metadata": {
        "application/vnd.databricks.v1+cell": {
          "title": "",
          "showTitle": false,
          "inputWidgets": {},
          "nuid": "93c03f7d-f938-4240-8f8b-a22f55e0c77f"
        },
        "id": "vEI_YruXX0PW"
      },
      "outputs": [],
      "execution_count": null
    },
    {
      "cell_type": "code",
      "source": [
        "df = spark.read.csv(f\"/mnt/{generation}/input/appl_stock.csv\", inferSchema=True, header=True)"
      ],
      "metadata": {
        "application/vnd.databricks.v1+cell": {
          "title": "",
          "showTitle": false,
          "inputWidgets": {},
          "nuid": "453b84e0-ed50-4dc0-b90d-07716565a415"
        },
        "id": "RiI8fvMIX0PX"
      },
      "outputs": [],
      "execution_count": null
    },
    {
      "cell_type": "code",
      "source": [
        "df.display()"
      ],
      "metadata": {
        "application/vnd.databricks.v1+cell": {
          "title": "",
          "showTitle": false,
          "inputWidgets": {},
          "nuid": "13d66759-751b-4281-b051-d6638f50e5fc"
        },
        "id": "RinXpMB4X0PX"
      },
      "outputs": [],
      "execution_count": null
    },
    {
      "cell_type": "code",
      "source": [
        "df.printSchema()"
      ],
      "metadata": {
        "application/vnd.databricks.v1+cell": {
          "title": "",
          "showTitle": false,
          "inputWidgets": {},
          "nuid": "0df0c93e-39dd-4777-9968-6068bf5efcc4"
        },
        "id": "1z6w0hZwX0PX"
      },
      "outputs": [],
      "execution_count": null
    },
    {
      "cell_type": "code",
      "source": [
        "from pyspark.sql.functions import to_date, dayofmonth, hour, dayofyear, month, year, weekofyear"
      ],
      "metadata": {
        "collapsed": true,
        "application/vnd.databricks.v1+cell": {
          "title": "",
          "showTitle": false,
          "inputWidgets": {},
          "nuid": "d80e1009-7d0f-415b-8b72-89814fa4ab4b"
        },
        "id": "XvdDFq54X0PY"
      },
      "outputs": [],
      "execution_count": null
    },
    {
      "cell_type": "code",
      "source": [
        "df = df.withColumn(\"Date\", to_date(\"Date\", \"yyyy-MM-dd\"))\n",
        "df.display()"
      ],
      "metadata": {
        "application/vnd.databricks.v1+cell": {
          "title": "",
          "showTitle": false,
          "inputWidgets": {},
          "nuid": "992d47b7-17f6-4509-9557-33e3fe53edd9"
        },
        "id": "yAG4vSbfX0PY"
      },
      "outputs": [],
      "execution_count": null
    },
    {
      "cell_type": "code",
      "source": [
        "df.printSchema()"
      ],
      "metadata": {
        "application/vnd.databricks.v1+cell": {
          "title": "",
          "showTitle": false,
          "inputWidgets": {},
          "nuid": "22aec393-e27f-4610-8b12-8f2e5b20a99f"
        },
        "id": "uxghFfizX0PZ"
      },
      "outputs": [],
      "execution_count": null
    },
    {
      "cell_type": "code",
      "source": [
        "df.select(dayofmonth(df[\"Date\"])).display()"
      ],
      "metadata": {
        "application/vnd.databricks.v1+cell": {
          "title": "",
          "showTitle": false,
          "inputWidgets": {},
          "nuid": "7ced3b15-abb9-4154-8b5f-bb0596bc28b3"
        },
        "id": "QV0PPa5OX0PZ"
      },
      "outputs": [],
      "execution_count": null
    },
    {
      "cell_type": "code",
      "source": [
        "df.select(hour(df[\"Date\"])).display()"
      ],
      "metadata": {
        "application/vnd.databricks.v1+cell": {
          "title": "",
          "showTitle": false,
          "inputWidgets": {},
          "nuid": "ef08b1d6-6178-47f7-9ab5-0a8df8c88fa8"
        },
        "id": "LI2qpZ9cX0PZ"
      },
      "outputs": [],
      "execution_count": null
    },
    {
      "cell_type": "code",
      "source": [
        "df.select(dayofyear(df[\"Date\"])).display()"
      ],
      "metadata": {
        "application/vnd.databricks.v1+cell": {
          "title": "",
          "showTitle": false,
          "inputWidgets": {},
          "nuid": "d4754e98-bbf0-4d8c-8512-62591d030f7a"
        },
        "id": "yzTwW6vpX0Pa"
      },
      "outputs": [],
      "execution_count": null
    },
    {
      "cell_type": "code",
      "source": [
        "df.select(month(df[\"Date\"])).display()"
      ],
      "metadata": {
        "application/vnd.databricks.v1+cell": {
          "title": "",
          "showTitle": false,
          "inputWidgets": {},
          "nuid": "ad0e7eba-96a3-41cf-b6f0-d6421b9c3c9c"
        },
        "id": "udf6JDzFX0Pa"
      },
      "outputs": [],
      "execution_count": null
    },
    {
      "cell_type": "code",
      "source": [
        "df.select(weekofyear(df[\"Date\"])).display()"
      ],
      "metadata": {
        "application/vnd.databricks.v1+cell": {
          "title": "",
          "showTitle": false,
          "inputWidgets": {},
          "nuid": "2dd6ac18-b461-4d93-94a1-2fdd504cbe36"
        },
        "id": "GPwfNyDkX0Pa"
      },
      "outputs": [],
      "execution_count": null
    },
    {
      "cell_type": "code",
      "source": [
        "df.select(year(df[\"Date\"])).display()"
      ],
      "metadata": {
        "application/vnd.databricks.v1+cell": {
          "title": "",
          "showTitle": false,
          "inputWidgets": {},
          "nuid": "bbb7ee90-3a17-4efc-a76e-487fafd6bffa"
        },
        "id": "gzxK5eJ6X0Pa"
      },
      "outputs": [],
      "execution_count": null
    },
    {
      "cell_type": "code",
      "source": [
        "df.withColumn(\"Year\", year(df[\"Date\"])).display()"
      ],
      "metadata": {
        "application/vnd.databricks.v1+cell": {
          "title": "",
          "showTitle": false,
          "inputWidgets": {},
          "nuid": "619812e4-eb90-4658-a8fa-9a4c126db635"
        },
        "id": "YM2KJC37X0Pb"
      },
      "outputs": [],
      "execution_count": null
    },
    {
      "cell_type": "markdown",
      "source": [
        "Por ejemplo, suponga que se desea conocer el precio de cierre promedio por año.\n",
        "\n",
        "Esto puede ser resuelto fácilmente con una llamada a la función `groupBy()` y `year()`:"
      ],
      "metadata": {
        "application/vnd.databricks.v1+cell": {
          "title": "",
          "showTitle": false,
          "inputWidgets": {},
          "nuid": "d7373275-b2ff-4d45-ac3d-22c765b6434f"
        },
        "id": "6zi-_NVwX0Pb"
      }
    },
    {
      "cell_type": "code",
      "source": [
        "newdf = df.withColumn(\"Year\", year(df['Date']))\n",
        "newdf.groupBy(\"Year\").mean()[[\"avg(Year)\",\"avg(Close)\"]].display()"
      ],
      "metadata": {
        "scrolled": true,
        "application/vnd.databricks.v1+cell": {
          "title": "",
          "showTitle": false,
          "inputWidgets": {},
          "nuid": "6ee07b42-332d-4da6-ab36-2f09b5d74db1"
        },
        "id": "Qh8ZlrrLX0Pb"
      },
      "outputs": [],
      "execution_count": null
    },
    {
      "cell_type": "markdown",
      "source": [
        "Aún no del todo presentable. Para ello se utiliza el método `.alias()` así como `format_number()` para limpiar la salida."
      ],
      "metadata": {
        "application/vnd.databricks.v1+cell": {
          "title": "",
          "showTitle": false,
          "inputWidgets": {},
          "nuid": "4fc5b7e1-15f9-454e-a4c2-70e29ec53eb7"
        },
        "id": "CugbZP-ZX0Pb"
      }
    },
    {
      "cell_type": "code",
      "source": [
        "from pyspark.sql.functions import format_number"
      ],
      "metadata": {
        "application/vnd.databricks.v1+cell": {
          "title": "",
          "showTitle": false,
          "inputWidgets": {},
          "nuid": "dd46aee4-0ce2-4bf0-a014-bb218dabe2c2"
        },
        "id": "NiFKp2hEX0Pc"
      },
      "outputs": [],
      "execution_count": null
    },
    {
      "cell_type": "code",
      "source": [
        "result = newdf.groupBy(\"Year\").mean()[[\"avg(Year)\",\"avg(Close)\"]]\n",
        "result = result.withColumnRenamed(\"avg(Year)\",\"Year\")\n",
        "result = result.select(\"Year\", format_number(\"avg(Close)\", 2).alias(\"Mean Close\"))\n",
        "result.display()"
      ],
      "metadata": {
        "application/vnd.databricks.v1+cell": {
          "title": "",
          "showTitle": false,
          "inputWidgets": {},
          "nuid": "6bc51873-5594-4b93-85bb-ab3a4dd70a11"
        },
        "id": "UmjtIQe8X0Pc"
      },
      "outputs": [],
      "execution_count": null
    },
    {
      "cell_type": "code",
      "source": [
        "result.orderBy(\"Year\").display()"
      ],
      "metadata": {
        "application/vnd.databricks.v1+cell": {
          "title": "",
          "showTitle": false,
          "inputWidgets": {},
          "nuid": "88587972-0c94-4661-934b-45a21810d6b6"
        },
        "id": "C5RFCRSgX0Pc"
      },
      "outputs": [],
      "execution_count": null
    }
  ],
  "metadata": {
    "anaconda-cloud": {},
    "kernelspec": {
      "display_name": "Python [conda root]",
      "language": "python",
      "name": "conda-root-py"
    },
    "language_info": {
      "mimetype": "text/x-python",
      "name": "python",
      "pygments_lexer": "ipython3",
      "codemirror_mode": {
        "name": "ipython",
        "version": 3
      },
      "version": "3.5.3",
      "nbconvert_exporter": "python",
      "file_extension": ".py"
    },
    "application/vnd.databricks.v1+notebook": {
      "notebookName": "4.5.3 Manipulación de Fechas",
      "dashboards": [],
      "notebookMetadata": {
        "pythonIndentUnit": 4
      },
      "language": "python",
      "widgets": {},
      "notebookOrigID": 1042727843157776
    },
    "colab": {
      "provenance": [],
      "include_colab_link": true
    }
  },
  "nbformat": 4,
  "nbformat_minor": 0
}