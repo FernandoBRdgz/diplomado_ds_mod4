{
  "cells": [
    {
      "cell_type": "markdown",
      "metadata": {
        "id": "view-in-github",
        "colab_type": "text"
      },
      "source": [
        "<a href=\"https://colab.research.google.com/github/FernandoBRdgz/diplomado_ds_mod4/blob/main/4.5%20Herramientas%20para%20procesamiento%20y%20explotaci%C3%B3n%20de%20Big%20Data/4.5.1%20Introducci%C3%B3n%20a%20Databricks.ipynb\" target=\"_parent\"><img src=\"https://colab.research.google.com/assets/colab-badge.svg\" alt=\"Open In Colab\"/></a>"
      ]
    },
    {
      "cell_type": "markdown",
      "source": [
        "## Notebooks de Databricks\n",
        "\n",
        "Un notebook es una colección de celdas ejecutables (comandos), está pensado principalmente para el desarrollo y ejecución de celdas de código.\n",
        "\n",
        "**Particularidades de Databricks**: https://docs.databricks.com/notebooks/notebooks-use.html"
      ],
      "metadata": {
        "id": "y2LUgpXQfZj9",
        "application/vnd.databricks.v1+cell": {
          "title": "",
          "showTitle": false,
          "inputWidgets": {},
          "nuid": "4d4863fc-e185-4cfe-a6d9-4f0a31c6fc5a"
        }
      }
    },
    {
      "cell_type": "markdown",
      "source": [
        "### Python"
      ],
      "metadata": {
        "id": "_Eidh3r1fZkI",
        "application/vnd.databricks.v1+cell": {
          "title": "",
          "showTitle": false,
          "inputWidgets": {},
          "nuid": "268d8d35-5b6f-43b4-8105-e6c857abad27"
        }
      }
    },
    {
      "cell_type": "code",
      "source": [
        "%python\n",
        "hello = \"Hello Databricks!\"\n",
        "print(hello)"
      ],
      "metadata": {
        "id": "2wJkfAszfZkK",
        "application/vnd.databricks.v1+cell": {
          "title": "",
          "showTitle": false,
          "inputWidgets": {},
          "nuid": "e3adfb62-feee-417b-ab88-9e07e0d74a18"
        }
      },
      "outputs": [],
      "execution_count": null
    },
    {
      "cell_type": "markdown",
      "source": [
        "### Scala"
      ],
      "metadata": {
        "id": "5_oRznOrfZkO",
        "application/vnd.databricks.v1+cell": {
          "title": "",
          "showTitle": false,
          "inputWidgets": {},
          "nuid": "37a8cc62-766f-4c7d-b0ef-64d57ba5b3d3"
        }
      }
    },
    {
      "cell_type": "code",
      "source": [
        "%scala\n",
        "val hello : String = \"Hello Databricks!\";\n",
        "println(hello);"
      ],
      "metadata": {
        "id": "qb-quLTLfZkP",
        "application/vnd.databricks.v1+cell": {
          "title": "",
          "showTitle": false,
          "inputWidgets": {},
          "nuid": "39d57657-52e2-4787-a9cc-0a9cc9ddecdc"
        }
      },
      "outputs": [],
      "execution_count": null
    },
    {
      "cell_type": "markdown",
      "source": [
        "### R"
      ],
      "metadata": {
        "id": "f2tYKiQlfZkR",
        "application/vnd.databricks.v1+cell": {
          "title": "",
          "showTitle": false,
          "inputWidgets": {},
          "nuid": "02159bc5-ef40-40c7-835c-65e85fb4f5e0"
        }
      }
    },
    {
      "cell_type": "code",
      "source": [
        "%r\n",
        "hello <- \"Hello Databricks!\"\n",
        "print(hello)"
      ],
      "metadata": {
        "id": "lXgfPGbTfZkS",
        "application/vnd.databricks.v1+cell": {
          "title": "",
          "showTitle": false,
          "inputWidgets": {},
          "nuid": "334bd79e-1dc5-40ce-8ddf-d29b24399cfc"
        }
      },
      "outputs": [],
      "execution_count": null
    },
    {
      "cell_type": "markdown",
      "source": [
        "### SQL"
      ],
      "metadata": {
        "id": "vnFi7zXxfZkT",
        "application/vnd.databricks.v1+cell": {
          "title": "",
          "showTitle": false,
          "inputWidgets": {},
          "nuid": "af1b756b-96d9-49f3-92ca-4adc82aedf59"
        }
      }
    },
    {
      "cell_type": "code",
      "source": [
        "%sql\n",
        "SELECT \"Hello Databricks!\";"
      ],
      "metadata": {
        "id": "1SlnGUDMfZkU",
        "application/vnd.databricks.v1+cell": {
          "title": "",
          "showTitle": false,
          "inputWidgets": {},
          "nuid": "c4cb16c1-309a-4904-972c-ca63393a2095"
        }
      },
      "outputs": [],
      "execution_count": null
    },
    {
      "cell_type": "markdown",
      "source": [
        "### Markdown & LaTeX"
      ],
      "metadata": {
        "id": "bBPVcE42fZkW",
        "application/vnd.databricks.v1+cell": {
          "title": "",
          "showTitle": false,
          "inputWidgets": {},
          "nuid": "f4086338-25d6-4267-aece-78811ff5d615"
        }
      }
    },
    {
      "cell_type": "markdown",
      "source": [
        "\\\\(c = \\\\pm\\\\sqrt{a^2 + b^2} \\\\)\n",
        "\n",
        "\\\\(A{_i}{_j}=B{_i}{_j}\\\\)\n",
        "\n",
        "$$c = \\\\pm\\\\sqrt{a^2 + b^2}$$\n",
        "\n",
        "\\\\[A{_i}{_j}=B{_i}{_j}\\\\]"
      ],
      "metadata": {
        "id": "JguaJy8lfZkW",
        "application/vnd.databricks.v1+cell": {
          "title": "",
          "showTitle": false,
          "inputWidgets": {},
          "nuid": "c441f29d-4ade-4072-a55d-19cc9dcdfde0"
        }
      }
    },
    {
      "cell_type": "markdown",
      "source": [
        "### Bash"
      ],
      "metadata": {
        "id": "DoFgMedofZkX",
        "application/vnd.databricks.v1+cell": {
          "title": "",
          "showTitle": false,
          "inputWidgets": {},
          "nuid": "65eb0f5b-d38b-47ab-83cc-f9aa28661303"
        }
      }
    },
    {
      "cell_type": "code",
      "source": [
        "%fs\n",
        "ls dbfs:/"
      ],
      "metadata": {
        "id": "hLTLuiISfZkY",
        "application/vnd.databricks.v1+cell": {
          "title": "",
          "showTitle": false,
          "inputWidgets": {},
          "nuid": "33351f4d-b60f-468d-85eb-4421c258509c"
        }
      },
      "outputs": [],
      "execution_count": null
    },
    {
      "cell_type": "code",
      "source": [
        "# Alternativamente con Python:\n",
        "dbutils.fs.ls(\"dbfs:/\")"
      ],
      "metadata": {
        "id": "0TbWwA2kfZkZ",
        "application/vnd.databricks.v1+cell": {
          "title": "",
          "showTitle": false,
          "inputWidgets": {},
          "nuid": "226a1663-6931-4606-a1bc-e24c4ff61030"
        }
      },
      "outputs": [],
      "execution_count": null
    },
    {
      "cell_type": "code",
      "source": [
        "help(dbutils.fs)"
      ],
      "metadata": {
        "id": "islnuBK-fZka",
        "application/vnd.databricks.v1+cell": {
          "title": "",
          "showTitle": false,
          "inputWidgets": {},
          "nuid": "78a32685-fed7-45db-82f7-1fdbd6066d94"
        }
      },
      "outputs": [],
      "execution_count": null
    },
    {
      "cell_type": "markdown",
      "source": [
        "### Instalación de Librerías"
      ],
      "metadata": {
        "id": "NoPBJr_MfZka",
        "application/vnd.databricks.v1+cell": {
          "title": "",
          "showTitle": false,
          "inputWidgets": {},
          "nuid": "9907a648-17e8-4b74-93f5-fe4e8c1a2d3a"
        }
      }
    },
    {
      "cell_type": "code",
      "source": [
        "import numpy as np\n",
        "import pandas as pd"
      ],
      "metadata": {
        "id": "xzrUb9FLfZkb",
        "application/vnd.databricks.v1+cell": {
          "title": "",
          "showTitle": false,
          "inputWidgets": {},
          "nuid": "01f37b11-8f86-4115-97af-417d49aa0eec"
        }
      },
      "outputs": [],
      "execution_count": null
    },
    {
      "cell_type": "code",
      "source": [
        "import pyspark"
      ],
      "metadata": {
        "id": "gQEzuxQhfZkc",
        "application/vnd.databricks.v1+cell": {
          "title": "",
          "showTitle": false,
          "inputWidgets": {},
          "nuid": "17391b32-5c65-488f-9b61-1029ecabf6df"
        }
      },
      "outputs": [],
      "execution_count": null
    },
    {
      "cell_type": "code",
      "source": [
        "#import tensorflow as tf"
      ],
      "metadata": {
        "id": "eaSfAHzPfZkd",
        "application/vnd.databricks.v1+cell": {
          "title": "",
          "showTitle": false,
          "inputWidgets": {},
          "nuid": "d6c7fc75-adfc-48d8-af32-ba4ca6df0a15"
        }
      },
      "outputs": [],
      "execution_count": null
    },
    {
      "cell_type": "code",
      "source": [
        "#tf.__version__"
      ],
      "metadata": {
        "id": "LHrx8vGffZke",
        "application/vnd.databricks.v1+cell": {
          "title": "",
          "showTitle": false,
          "inputWidgets": {},
          "nuid": "dce6ce6f-3722-4730-b98f-64a13533b1f3"
        }
      },
      "outputs": [],
      "execution_count": null
    }
  ],
  "metadata": {
    "colab": {
      "provenance": [],
      "include_colab_link": true
    },
    "application/vnd.databricks.v1+notebook": {
      "notebookName": "4.5.1 Introducción a Databricks",
      "dashboards": [],
      "notebookMetadata": {
        "pythonIndentUnit": 4
      },
      "language": "python",
      "widgets": {},
      "notebookOrigID": 1838353049573264
    }
  },
  "nbformat": 4,
  "nbformat_minor": 0
}