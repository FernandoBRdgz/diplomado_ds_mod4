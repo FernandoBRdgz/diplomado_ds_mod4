{
  "cells": [
    {
      "cell_type": "markdown",
      "metadata": {
        "id": "view-in-github",
        "colab_type": "text"
      },
      "source": [
        "<a href=\"https://colab.research.google.com/github/FernandoBRdgz/diplomado_ds_mod4/blob/main/4.3%20Redes%20Neuronales%20Convolucionales/4.3.3%20Clasificaci%C3%B3n%20de%20im%C3%A1genes.ipynb\" target=\"_parent\"><img src=\"https://colab.research.google.com/assets/colab-badge.svg\" alt=\"Open In Colab\"/></a>"
      ]
    },
    {
      "cell_type": "code",
      "execution_count": null,
      "metadata": {
        "id": "zLOV37Zd3QDk"
      },
      "outputs": [],
      "source": [
        "import tensorflow as tf"
      ]
    },
    {
      "cell_type": "code",
      "execution_count": null,
      "metadata": {
        "id": "99LmYwVD3QDn",
        "colab": {
          "base_uri": "https://localhost:8080/"
        },
        "outputId": "702dd53b-7eba-4f11-ca3e-3dd141ae82b7"
      },
      "outputs": [
        {
          "output_type": "stream",
          "name": "stdout",
          "text": [
            "Downloading data from https://www.cs.toronto.edu/~kriz/cifar-10-python.tar.gz\n",
            "170498071/170498071 [==============================] - 4s 0us/step\n"
          ]
        }
      ],
      "source": [
        "from tensorflow.keras.datasets import cifar10\n",
        "\n",
        "(X_train, y_train), (X_val, y_val) = cifar10.load_data()"
      ]
    },
    {
      "cell_type": "code",
      "execution_count": null,
      "metadata": {
        "colab": {
          "base_uri": "https://localhost:8080/"
        },
        "id": "1r0z7Mit3QDo",
        "outputId": "4beb85dd-1427-4fa8-e622-c55886b72e46"
      },
      "outputs": [
        {
          "output_type": "execute_result",
          "data": {
            "text/plain": [
              "((50000, 32, 32, 3), (10000, 32, 32, 3), (50000, 1), (10000, 1))"
            ]
          },
          "metadata": {},
          "execution_count": 3
        }
      ],
      "source": [
        "X_train.shape, X_val.shape, y_train.shape, y_val.shape"
      ]
    },
    {
      "cell_type": "code",
      "execution_count": null,
      "metadata": {
        "colab": {
          "base_uri": "https://localhost:8080/"
        },
        "id": "OzSWIK_R3QDq",
        "outputId": "58ec9180-69d1-4ac8-bd62-3f8f85cf8c75"
      },
      "outputs": [
        {
          "output_type": "execute_result",
          "data": {
            "text/plain": [
              "(32, 32, 3)"
            ]
          },
          "metadata": {},
          "execution_count": 4
        }
      ],
      "source": [
        "X_train[0].shape"
      ]
    },
    {
      "cell_type": "code",
      "execution_count": null,
      "metadata": {
        "id": "ghHp-mpi3QDr"
      },
      "outputs": [],
      "source": [
        "import matplotlib.pyplot as plt"
      ]
    },
    {
      "cell_type": "code",
      "execution_count": null,
      "metadata": {
        "colab": {
          "base_uri": "https://localhost:8080/",
          "height": 430
        },
        "id": "zcKnMZIJ3QDr",
        "outputId": "90352c3d-ba05-4874-b153-47ee7206e59e"
      },
      "outputs": [
        {
          "output_type": "display_data",
          "data": {
            "text/plain": [
              "<Figure size 640x480 with 1 Axes>"
            ],
            "image/png": "[encoded data removed]"
          },
          "metadata": {}
        }
      ],
      "source": [
        "# Rana\n",
        "plt.imshow(X_train[0]);"
      ]
    },
    {
      "cell_type": "code",
      "execution_count": null,
      "metadata": {
        "colab": {
          "base_uri": "https://localhost:8080/",
          "height": 430
        },
        "id": "iS8udh-C3QDs",
        "outputId": "1081f22d-13a6-4bd8-e993-0f0b07c29a7c"
      },
      "outputs": [
        {
          "output_type": "display_data",
          "data": {
            "text/plain": [
              "<Figure size 640x480 with 1 Axes>"
            ],
            "image/png": "[encoded data removed]"
          },
          "metadata": {}
        }
      ],
      "source": [
        "# Caballo\n",
        "plt.imshow(X_train[12]);"
      ]
    },
    {
      "cell_type": "markdown",
      "metadata": {
        "id": "yZoXEXO83QDt"
      },
      "source": [
        "# Pre-procesamiento"
      ]
    },
    {
      "cell_type": "code",
      "execution_count": null,
      "metadata": {
        "colab": {
          "base_uri": "https://localhost:8080/"
        },
        "id": "wlMTX8nQ3QDt",
        "outputId": "0d637730-289d-4011-86e7-7534ff1a158b"
      },
      "outputs": [
        {
          "output_type": "execute_result",
          "data": {
            "text/plain": [
              "numpy.ndarray"
            ]
          },
          "metadata": {},
          "execution_count": 8
        }
      ],
      "source": [
        "type(X_train[0])"
      ]
    },
    {
      "cell_type": "code",
      "execution_count": null,
      "metadata": {
        "colab": {
          "base_uri": "https://localhost:8080/"
        },
        "id": "dqcN4PqG3QDu",
        "outputId": "38df305a-0b87-4ac7-9c8c-efa2a6aadc64"
      },
      "outputs": [
        {
          "output_type": "execute_result",
          "data": {
            "text/plain": [
              "(32, 32, 3)"
            ]
          },
          "metadata": {},
          "execution_count": 9
        }
      ],
      "source": [
        "X_train[0].shape"
      ]
    },
    {
      "cell_type": "code",
      "execution_count": null,
      "metadata": {
        "colab": {
          "base_uri": "https://localhost:8080/"
        },
        "id": "wEiH6yNR3QDv",
        "outputId": "9471ee0e-34f1-44a8-f593-1d92b08c62a3"
      },
      "outputs": [
        {
          "output_type": "execute_result",
          "data": {
            "text/plain": [
              "(0, 255)"
            ]
          },
          "metadata": {},
          "execution_count": 10
        }
      ],
      "source": [
        "X_train.min(), X_train.max()"
      ]
    },
    {
      "cell_type": "code",
      "execution_count": null,
      "metadata": {
        "id": "mK21HDEr3QDv"
      },
      "outputs": [],
      "source": [
        "X_train = X_train/255"
      ]
    },
    {
      "cell_type": "code",
      "execution_count": null,
      "metadata": {
        "id": "7W7rAMsi3QDv"
      },
      "outputs": [],
      "source": [
        "X_val = X_val/255"
      ]
    },
    {
      "cell_type": "code",
      "execution_count": null,
      "metadata": {
        "colab": {
          "base_uri": "https://localhost:8080/"
        },
        "id": "c6xQ-nQW3QDw",
        "outputId": "745a8117-532b-4ee0-9111-58d46f7fd557"
      },
      "outputs": [
        {
          "output_type": "execute_result",
          "data": {
            "text/plain": [
              "(50000, 32, 32, 3)"
            ]
          },
          "metadata": {},
          "execution_count": 13
        }
      ],
      "source": [
        "X_train.shape"
      ]
    },
    {
      "cell_type": "code",
      "execution_count": null,
      "metadata": {
        "colab": {
          "base_uri": "https://localhost:8080/"
        },
        "id": "yPpsKlro3QDw",
        "outputId": "8475a71d-a39b-48b5-c1a3-80d63ba8a3bd"
      },
      "outputs": [
        {
          "output_type": "execute_result",
          "data": {
            "text/plain": [
              "(10000, 32, 32, 3)"
            ]
          },
          "metadata": {},
          "execution_count": 14
        }
      ],
      "source": [
        "X_val.shape"
      ]
    },
    {
      "cell_type": "markdown",
      "metadata": {
        "id": "2hS-UmN43QDw"
      },
      "source": [
        "## Variable Objetivo"
      ]
    },
    {
      "cell_type": "code",
      "execution_count": null,
      "metadata": {
        "id": "4ZIxQF-q3QDw"
      },
      "outputs": [],
      "source": [
        "from tensorflow.keras.utils import to_categorical"
      ]
    },
    {
      "cell_type": "code",
      "execution_count": null,
      "metadata": {
        "colab": {
          "base_uri": "https://localhost:8080/"
        },
        "id": "V4gyoUJL3QDx",
        "outputId": "42e6a335-2b8f-4a47-83e2-9c39f0fb62cb"
      },
      "outputs": [
        {
          "output_type": "execute_result",
          "data": {
            "text/plain": [
              "(50000, 1)"
            ]
          },
          "metadata": {},
          "execution_count": 16
        }
      ],
      "source": [
        "y_train.shape"
      ]
    },
    {
      "cell_type": "code",
      "execution_count": null,
      "metadata": {
        "colab": {
          "base_uri": "https://localhost:8080/"
        },
        "id": "__TJHI-O3QDx",
        "outputId": "e8e3a722-6c38-4621-92db-d0f4d3f3416f"
      },
      "outputs": [
        {
          "output_type": "execute_result",
          "data": {
            "text/plain": [
              "array([6], dtype=uint8)"
            ]
          },
          "metadata": {},
          "execution_count": 17
        }
      ],
      "source": [
        "y_train[0]"
      ]
    },
    {
      "cell_type": "code",
      "execution_count": null,
      "metadata": {
        "id": "3_EQu8zE3QDx"
      },
      "outputs": [],
      "source": [
        "y_cat_train = to_categorical(y_train, num_classes=10)"
      ]
    },
    {
      "cell_type": "code",
      "execution_count": null,
      "metadata": {
        "colab": {
          "base_uri": "https://localhost:8080/"
        },
        "id": "KQubwQOX3QDy",
        "outputId": "cf9bc697-80d5-4f46-8127-a8d27aa4c79d"
      },
      "outputs": [
        {
          "output_type": "execute_result",
          "data": {
            "text/plain": [
              "(50000, 10)"
            ]
          },
          "metadata": {},
          "execution_count": 19
        }
      ],
      "source": [
        "y_cat_train.shape"
      ]
    },
    {
      "cell_type": "code",
      "execution_count": null,
      "metadata": {
        "colab": {
          "base_uri": "https://localhost:8080/"
        },
        "id": "W_imyFUM3QDy",
        "outputId": "7d4201a3-cb67-423c-8606-e9896eb90db2"
      },
      "outputs": [
        {
          "output_type": "execute_result",
          "data": {
            "text/plain": [
              "array([0., 0., 0., 0., 0., 0., 1., 0., 0., 0.], dtype=float32)"
            ]
          },
          "metadata": {},
          "execution_count": 20
        }
      ],
      "source": [
        "y_cat_train[0]"
      ]
    },
    {
      "cell_type": "code",
      "execution_count": null,
      "metadata": {
        "id": "kG0C9P3z3QDy"
      },
      "outputs": [],
      "source": [
        "y_cat_val = to_categorical(y_val, num_classes=10)"
      ]
    },
    {
      "cell_type": "markdown",
      "metadata": {
        "id": "DVXdACvR3QDy"
      },
      "source": [
        "# Diseño de arquitectura"
      ]
    },
    {
      "cell_type": "code",
      "execution_count": null,
      "metadata": {
        "id": "ej2VZ2ov3QDz"
      },
      "outputs": [],
      "source": [
        "from tensorflow.keras.models import Sequential\n",
        "from tensorflow.keras.layers import Dense, Conv2D, MaxPool2D, Flatten"
      ]
    },
    {
      "cell_type": "code",
      "execution_count": null,
      "metadata": {
        "id": "UCHppeGH3QDz"
      },
      "outputs": [],
      "source": [
        "model = Sequential()\n",
        "\n",
        "# CAPA CONVOLUCIONAL\n",
        "model.add(Conv2D(filters=32, kernel_size=4, strides=1, padding='same', input_shape=(32, 32, 3), activation='relu'))\n",
        "\n",
        "# CAPA POOLING\n",
        "model.add(MaxPool2D(pool_size=(2,2), strides=2))\n",
        "\n",
        "# CAPA CONVOLUCIONAL\n",
        "model.add(Conv2D(filters=32, kernel_size=4, padding='valid', activation='relu'))\n",
        "\n",
        "# CAPA POOLING\n",
        "model.add(MaxPool2D(pool_size=(2, 2), strides=2))\n",
        "\n",
        "# CAPA FLATTEN (Aplanado de imágenes)\n",
        "model.add(Flatten())\n",
        "\n",
        "# CAPA OCULTA DENSA\n",
        "model.add(Dense(256, activation='relu'))\n",
        "\n",
        "# CAPA DE SALIDA (10 clases posibles)\n",
        "model.add(Dense(10, activation='softmax'))\n",
        "\n",
        "model.compile(loss='categorical_crossentropy', optimizer='adam', metrics=['accuracy'])"
      ]
    },
    {
      "cell_type": "code",
      "execution_count": null,
      "metadata": {
        "colab": {
          "base_uri": "https://localhost:8080/"
        },
        "id": "Wh84R81b3QDz",
        "outputId": "85bc27ba-a3b3-4419-d569-2101c5bb363d"
      },
      "outputs": [
        {
          "output_type": "stream",
          "name": "stdout",
          "text": [
            "Model: \"sequential\"\n",
            "_________________________________________________________________\n",
            " Layer (type)                Output Shape              Param #   \n",
            "=================================================================\n",
            " conv2d (Conv2D)             (None, 32, 32, 32)        1568      \n",
            "                                                                 \n",
            " max_pooling2d (MaxPooling2D  (None, 16, 16, 32)       0         \n",
            " )                                                               \n",
            "                                                                 \n",
            " conv2d_1 (Conv2D)           (None, 13, 13, 32)        16416     \n",
            "                                                                 \n",
            " max_pooling2d_1 (MaxPooling  (None, 6, 6, 32)         0         \n",
            " 2D)                                                             \n",
            "                                                                 \n",
            " flatten (Flatten)           (None, 1152)              0         \n",
            "                                                                 \n",
            " dense (Dense)               (None, 256)               295168    \n",
            "                                                                 \n",
            " dense_1 (Dense)             (None, 10)                2570      \n",
            "                                                                 \n",
            "=================================================================\n",
            "Total params: 315,722\n",
            "Trainable params: 315,722\n",
            "Non-trainable params: 0\n",
            "_________________________________________________________________\n"
          ]
        }
      ],
      "source": [
        "model.summary()"
      ]
    },
    {
      "cell_type": "code",
      "execution_count": null,
      "metadata": {
        "id": "li0KTj6N3QDz"
      },
      "outputs": [],
      "source": [
        "from tensorflow.keras.callbacks import EarlyStopping"
      ]
    },
    {
      "cell_type": "code",
      "execution_count": null,
      "metadata": {
        "id": "Gq5xBeSw3QD0"
      },
      "outputs": [],
      "source": [
        "early_stop = EarlyStopping(monitor='val_loss', patience=3)"
      ]
    },
    {
      "cell_type": "markdown",
      "source": [
        "# Entenamiento de Modelo"
      ],
      "metadata": {
        "id": "mPJzy6yk9L56"
      }
    },
    {
      "cell_type": "code",
      "source": [
        "import numpy as np\n",
        "import pandas as pd\n",
        "from datetime import datetime"
      ],
      "metadata": {
        "id": "kxKCQL5L-Wgm"
      },
      "execution_count": null,
      "outputs": []
    },
    {
      "cell_type": "code",
      "execution_count": null,
      "metadata": {
        "colab": {
          "base_uri": "https://localhost:8080/"
        },
        "id": "CJmO3zpM3QD0",
        "outputId": "63b39412-12bb-41b0-f847-4049909d381d"
      },
      "outputs": [
        {
          "output_type": "stream",
          "name": "stdout",
          "text": [
            "Epoch 1/10\n",
            "1563/1563 [==============================] - 20s 5ms/step - loss: 1.4400 - accuracy: 0.4803 - val_loss: 1.2408 - val_accuracy: 0.5701\n",
            "Epoch 2/10\n",
            "1563/1563 [==============================] - 8s 5ms/step - loss: 1.0905 - accuracy: 0.6156 - val_loss: 1.0744 - val_accuracy: 0.6231\n",
            "Epoch 3/10\n",
            "1563/1563 [==============================] - 9s 5ms/step - loss: 0.9353 - accuracy: 0.6722 - val_loss: 0.9662 - val_accuracy: 0.6608\n",
            "Epoch 4/10\n",
            "1563/1563 [==============================] - 9s 6ms/step - loss: 0.8170 - accuracy: 0.7141 - val_loss: 0.9032 - val_accuracy: 0.6907\n",
            "Epoch 5/10\n",
            "1563/1563 [==============================] - 8s 5ms/step - loss: 0.7214 - accuracy: 0.7485 - val_loss: 0.9174 - val_accuracy: 0.6871\n",
            "Epoch 6/10\n",
            "1563/1563 [==============================] - 8s 5ms/step - loss: 0.6354 - accuracy: 0.7780 - val_loss: 0.9157 - val_accuracy: 0.6981\n",
            "Epoch 7/10\n",
            "1563/1563 [==============================] - 8s 5ms/step - loss: 0.5614 - accuracy: 0.8025 - val_loss: 0.9482 - val_accuracy: 0.6925\n",
            "CPU times: user 1min, sys: 6.73 s, total: 1min 7s\n",
            "Wall time: 1min 10s\n"
          ]
        },
        {
          "output_type": "execute_result",
          "data": {
            "text/plain": [
              "<keras.callbacks.History at 0x7fa75014c100>"
            ]
          },
          "metadata": {},
          "execution_count": 28
        }
      ],
      "source": [
        "%%time\n",
        "model.fit(X_train, y_cat_train, epochs=10, validation_data=(X_val, y_cat_val), callbacks=[early_stop])"
      ]
    },
    {
      "cell_type": "code",
      "execution_count": null,
      "metadata": {
        "id": "snAry-rf3QD0"
      },
      "outputs": [],
      "source": [
        "# Persistencia de modelo\n",
        "model.save('cifar_10epochs.h5')"
      ]
    },
    {
      "cell_type": "code",
      "execution_count": null,
      "metadata": {
        "id": "J_0ENw693QD0"
      },
      "outputs": [],
      "source": [
        "losses = pd.DataFrame(model.history.history)"
      ]
    },
    {
      "cell_type": "code",
      "execution_count": null,
      "metadata": {
        "colab": {
          "base_uri": "https://localhost:8080/",
          "height": 269
        },
        "id": "OBjzJB7S3QD1",
        "outputId": "3e76c93a-5c6e-4724-c8cd-8f422fc81bae"
      },
      "outputs": [
        {
          "output_type": "execute_result",
          "data": {
            "text/plain": [
              "       loss  accuracy  val_loss  val_accuracy\n",
              "0  1.440039   0.48032  1.240781        0.5701\n",
              "1  1.090499   0.61560  1.074408        0.6231\n",
              "2  0.935326   0.67216  0.966188        0.6608\n",
              "3  0.817004   0.71406  0.903192        0.6907\n",
              "4  0.721388   0.74850  0.917368        0.6871\n",
              "5  0.635360   0.77798  0.915717        0.6981\n",
              "6  0.561445   0.80248  0.948172        0.6925"
            ],
            "text/html": [
              "\n",
              "  <div id=\"df-3b1f73e9-0ad4-4df1-8dfb-a88c4c91ba94\">\n",
              "    <div class=\"colab-df-container\">\n",
              "      <div>\n",
              "<style scoped>\n",
              "    .dataframe tbody tr th:only-of-type {\n",
              "        vertical-align: middle;\n",
              "    }\n",
              "\n",
              "    .dataframe tbody tr th {\n",
              "        vertical-align: top;\n",
              "    }\n",
              "\n",
              "    .dataframe thead th {\n",
              "        text-align: right;\n",
              "    }\n",
              "</style>\n",
              "<table border=\"1\" class=\"dataframe\">\n",
              "  <thead>\n",
              "    <tr style=\"text-align: right;\">\n",
              "      <th></th>\n",
              "      <th>loss</th>\n",
              "      <th>accuracy</th>\n",
              "      <th>val_loss</th>\n",
              "      <th>val_accuracy</th>\n",
              "    </tr>\n",
              "  </thead>\n",
              "  <tbody>\n",
              "    <tr>\n",
              "      <th>0</th>\n",
              "      <td>1.440039</td>\n",
              "      <td>0.48032</td>\n",
              "      <td>1.240781</td>\n",
              "      <td>0.5701</td>\n",
              "    </tr>\n",
              "    <tr>\n",
              "      <th>1</th>\n",
              "      <td>1.090499</td>\n",
              "      <td>0.61560</td>\n",
              "      <td>1.074408</td>\n",
              "      <td>0.6231</td>\n",
              "    </tr>\n",
              "    <tr>\n",
              "      <th>2</th>\n",
              "      <td>0.935326</td>\n",
              "      <td>0.67216</td>\n",
              "      <td>0.966188</td>\n",
              "      <td>0.6608</td>\n",
              "    </tr>\n",
              "    <tr>\n",
              "      <th>3</th>\n",
              "      <td>0.817004</td>\n",
              "      <td>0.71406</td>\n",
              "      <td>0.903192</td>\n",
              "      <td>0.6907</td>\n",
              "    </tr>\n",
              "    <tr>\n",
              "      <th>4</th>\n",
              "      <td>0.721388</td>\n",
              "      <td>0.74850</td>\n",
              "      <td>0.917368</td>\n",
              "      <td>0.6871</td>\n",
              "    </tr>\n",
              "    <tr>\n",
              "      <th>5</th>\n",
              "      <td>0.635360</td>\n",
              "      <td>0.77798</td>\n",
              "      <td>0.915717</td>\n",
              "      <td>0.6981</td>\n",
              "    </tr>\n",
              "    <tr>\n",
              "      <th>6</th>\n",
              "      <td>0.561445</td>\n",
              "      <td>0.80248</td>\n",
              "      <td>0.948172</td>\n",
              "      <td>0.6925</td>\n",
              "    </tr>\n",
              "  </tbody>\n",
              "</table>\n",
              "</div>\n",
              "      <button class=\"colab-df-convert\" onclick=\"convertToInteractive('df-3b1f73e9-0ad4-4df1-8dfb-a88c4c91ba94')\"\n",
              "              title=\"Convert this dataframe to an interactive table.\"\n",
              "              style=\"display:none;\">\n",
              "        \n",
              "  <svg xmlns=\"http://www.w3.org/2000/svg\" height=\"24px\"viewBox=\"0 0 24 24\"\n",
              "       width=\"24px\">\n",
              "    <path d=\"M0 0h24v24H0V0z\" fill=\"none\"/>\n",
              "    <path d=\"M18.56 5.44l.94 2.06.94-2.06 2.06-.94-2.06-.94-.94-2.06-.94 2.06-2.06.94zm-11 1L8.5 8.5l.94-2.06 2.06-.94-2.06-.94L8.5 2.5l-.94 2.06-2.06.94zm10 10l.94 2.06.94-2.06 2.06-.94-2.06-.94-.94-2.06-.94 2.06-2.06.94z\"/><path d=\"M17.41 7.96l-1.37-1.37c-.4-.4-.92-.59-1.43-.59-.52 0-1.04.2-1.43.59L10.3 9.45l-7.72 7.72c-.78.78-.78 2.05 0 2.83L4 21.41c.39.39.9.59 1.41.59.51 0 1.02-.2 1.41-.59l7.78-7.78 2.81-2.81c.8-.78.8-2.07 0-2.86zM5.41 20L4 18.59l7.72-7.72 1.47 1.35L5.41 20z\"/>\n",
              "  </svg>\n",
              "      </button>\n",
              "      \n",
              "  <style>\n",
              "    .colab-df-container {\n",
              "      display:flex;\n",
              "      flex-wrap:wrap;\n",
              "      gap: 12px;\n",
              "    }\n",
              "\n",
              "    .colab-df-convert {\n",
              "      background-color: #E8F0FE;\n",
              "      border: none;\n",
              "      border-radius: 50%;\n",
              "      cursor: pointer;\n",
              "      display: none;\n",
              "      fill: #1967D2;\n",
              "      height: 32px;\n",
              "      padding: 0 0 0 0;\n",
              "      width: 32px;\n",
              "    }\n",
              "\n",
              "    .colab-df-convert:hover {\n",
              "      background-color: #E2EBFA;\n",
              "      box-shadow: 0px 1px 2px rgba(60, 64, 67, 0.3), 0px 1px 3px 1px rgba(60, 64, 67, 0.15);\n",
              "      fill: #174EA6;\n",
              "    }\n",
              "\n",
              "    [theme=dark] .colab-df-convert {\n",
              "      background-color: #3B4455;\n",
              "      fill: #D2E3FC;\n",
              "    }\n",
              "\n",
              "    [theme=dark] .colab-df-convert:hover {\n",
              "      background-color: #434B5C;\n",
              "      box-shadow: 0px 1px 3px 1px rgba(0, 0, 0, 0.15);\n",
              "      filter: drop-shadow(0px 1px 2px rgba(0, 0, 0, 0.3));\n",
              "      fill: #FFFFFF;\n",
              "    }\n",
              "  </style>\n",
              "\n",
              "      <script>\n",
              "        const buttonEl =\n",
              "          document.querySelector('#df-3b1f73e9-0ad4-4df1-8dfb-a88c4c91ba94 button.colab-df-convert');\n",
              "        buttonEl.style.display =\n",
              "          google.colab.kernel.accessAllowed ? 'block' : 'none';\n",
              "\n",
              "        async function convertToInteractive(key) {\n",
              "          const element = document.querySelector('#df-3b1f73e9-0ad4-4df1-8dfb-a88c4c91ba94');\n",
              "          const dataTable =\n",
              "            await google.colab.kernel.invokeFunction('convertToInteractive',\n",
              "                                                     [key], {});\n",
              "          if (!dataTable) return;\n",
              "\n",
              "          const docLinkHtml = 'Like what you see? Visit the ' +\n",
              "            '<a target=\"_blank\" href=https://colab.research.google.com/notebooks/data_table.ipynb>data table notebook</a>'\n",
              "            + ' to learn more about interactive tables.';\n",
              "          element.innerHTML = '';\n",
              "          dataTable['output_type'] = 'display_data';\n",
              "          await google.colab.output.renderOutput(dataTable, element);\n",
              "          const docLink = document.createElement('div');\n",
              "          docLink.innerHTML = docLinkHtml;\n",
              "          element.appendChild(docLink);\n",
              "        }\n",
              "      </script>\n",
              "    </div>\n",
              "  </div>\n",
              "  "
            ]
          },
          "metadata": {},
          "execution_count": 31
        }
      ],
      "source": [
        "losses"
      ]
    },
    {
      "cell_type": "code",
      "execution_count": null,
      "metadata": {
        "colab": {
          "base_uri": "https://localhost:8080/",
          "height": 430
        },
        "id": "rajFhPOC3QD1",
        "outputId": "a2fbcdec-59d0-49fe-f221-30733bfe26ef"
      },
      "outputs": [
        {
          "output_type": "display_data",
          "data": {
            "text/plain": [
              "<Figure size 640x480 with 1 Axes>"
            ],
            "image/png": "[encoded data removed]"
          },
          "metadata": {}
        }
      ],
      "source": [
        "losses[['accuracy','val_accuracy']].plot();"
      ]
    },
    {
      "cell_type": "code",
      "execution_count": null,
      "metadata": {
        "colab": {
          "base_uri": "https://localhost:8080/",
          "height": 430
        },
        "id": "xY-eKhzW3QD1",
        "outputId": "cef8ea14-9df8-4b9e-ba6a-d350992a520b"
      },
      "outputs": [
        {
          "output_type": "display_data",
          "data": {
            "text/plain": [
              "<Figure size 640x480 with 1 Axes>"
            ],
            "image/png": "[encoded data removed]"
          },
          "metadata": {}
        }
      ],
      "source": [
        "losses[['loss','val_loss']].plot();"
      ]
    },
    {
      "cell_type": "code",
      "execution_count": null,
      "metadata": {
        "colab": {
          "base_uri": "https://localhost:8080/"
        },
        "id": "F2zD3IMT3QD1",
        "outputId": "71e910a6-edb3-4f3b-94ac-ba492a8483ed"
      },
      "outputs": [
        {
          "output_type": "stream",
          "name": "stdout",
          "text": [
            "['loss', 'accuracy']\n",
            "[0.9481721520423889, 0.6924999952316284]\n"
          ]
        }
      ],
      "source": [
        "print(model.metrics_names)\n",
        "print(model.evaluate(X_val, y_cat_val, verbose=0))"
      ]
    },
    {
      "cell_type": "code",
      "execution_count": null,
      "metadata": {
        "id": "vwUCXVCB3QD2"
      },
      "outputs": [],
      "source": [
        "from sklearn.metrics import classification_report, confusion_matrix"
      ]
    },
    {
      "cell_type": "code",
      "execution_count": null,
      "metadata": {
        "id": "ES4_6hFL3QD2",
        "colab": {
          "base_uri": "https://localhost:8080/"
        },
        "outputId": "10d13a78-02ef-45c1-817b-9f090b357196"
      },
      "outputs": [
        {
          "output_type": "stream",
          "name": "stdout",
          "text": [
            "313/313 [==============================] - 1s 2ms/step\n"
          ]
        }
      ],
      "source": [
        "predictions = model.predict(X_val)\n",
        "predictions = np.argmax(predictions, axis=1).reshape(len(X_val), 1)"
      ]
    },
    {
      "cell_type": "code",
      "source": [
        "y_val.shape, predictions.shape"
      ],
      "metadata": {
        "colab": {
          "base_uri": "https://localhost:8080/"
        },
        "id": "6QYMcnyr-paV",
        "outputId": "449df1a0-ef80-4cb7-b741-082cea8a7a76"
      },
      "execution_count": null,
      "outputs": [
        {
          "output_type": "execute_result",
          "data": {
            "text/plain": [
              "((10000, 1), (10000, 1))"
            ]
          },
          "metadata": {},
          "execution_count": 37
        }
      ]
    },
    {
      "cell_type": "code",
      "source": [
        "print(classification_report(y_val, predictions))"
      ],
      "metadata": {
        "colab": {
          "base_uri": "https://localhost:8080/"
        },
        "id": "V4OfpWK8BCDr",
        "outputId": "082c8710-b94f-4a97-951f-8e6fb21082b2"
      },
      "execution_count": null,
      "outputs": [
        {
          "output_type": "stream",
          "name": "stdout",
          "text": [
            "              precision    recall  f1-score   support\n",
            "\n",
            "           0       0.73      0.70      0.72      1000\n",
            "           1       0.77      0.89      0.82      1000\n",
            "           2       0.62      0.53      0.57      1000\n",
            "           3       0.52      0.48      0.50      1000\n",
            "           4       0.67      0.58      0.62      1000\n",
            "           5       0.56      0.61      0.58      1000\n",
            "           6       0.72      0.82      0.77      1000\n",
            "           7       0.75      0.73      0.74      1000\n",
            "           8       0.76      0.83      0.80      1000\n",
            "           9       0.79      0.76      0.77      1000\n",
            "\n",
            "    accuracy                           0.69     10000\n",
            "   macro avg       0.69      0.69      0.69     10000\n",
            "weighted avg       0.69      0.69      0.69     10000\n",
            "\n"
          ]
        }
      ]
    },
    {
      "cell_type": "code",
      "execution_count": null,
      "metadata": {
        "colab": {
          "base_uri": "https://localhost:8080/"
        },
        "id": "ETFBqC9l3QD2",
        "outputId": "2e512972-0397-4d78-af19-4dd03fbf5698"
      },
      "outputs": [
        {
          "output_type": "execute_result",
          "data": {
            "text/plain": [
              "array([[705,  41,  34,  21,  17,   9,  17,  11, 105,  40],\n",
              "       [ 13, 886,   4,   9,   0,   3,  11,   5,  26,  43],\n",
              "       [ 60,  14, 530,  70,  87,  78,  78,  40,  28,  15],\n",
              "       [ 23,  13,  70, 482,  46, 198,  77,  42,  23,  26],\n",
              "       [ 30,  10,  74,  71, 577,  58,  77,  74,  21,   8],\n",
              "       [ 16,   7,  54, 163,  43, 609,  34,  52,  11,  11],\n",
              "       [  6,   8,  34,  56,  19,  38, 818,   6,   8,   7],\n",
              "       [ 17,   6,  31,  35,  64,  77,   9, 728,  11,  22],\n",
              "       [ 55,  43,  11,  11,   2,   7,   8,   3, 835,  25],\n",
              "       [ 36, 122,   9,  13,   3,  13,   7,  12,  30, 755]])"
            ]
          },
          "metadata": {},
          "execution_count": 39
        }
      ],
      "source": [
        "confusion_matrix(y_val, predictions)"
      ]
    },
    {
      "cell_type": "code",
      "source": [
        "import seaborn as sns\n",
        "\n",
        "plt.figure(figsize=(12,8))\n",
        "sns.heatmap(confusion_matrix(y_val, predictions), annot=True, cmap=\"Blues\", fmt=\".3g\");"
      ],
      "metadata": {
        "colab": {
          "base_uri": "https://localhost:8080/",
          "height": 676
        },
        "id": "GBEnGmDnBKRe",
        "outputId": "981f292e-9df9-407b-c14c-6187c2faf58a"
      },
      "execution_count": null,
      "outputs": [
        {
          "output_type": "display_data",
          "data": {
            "text/plain": [
              "<Figure size 1200x800 with 2 Axes>"
            ],
            "image/png": "[encoded data removed]"
          },
          "metadata": {}
        }
      ]
    },
    {
      "cell_type": "markdown",
      "metadata": {
        "id": "1-qEH2223QD2"
      },
      "source": [
        "# Predicciones"
      ]
    },
    {
      "cell_type": "code",
      "execution_count": null,
      "metadata": {
        "id": "lZn59ZqY3QD3"
      },
      "outputs": [],
      "source": [
        "my_image = X_val[123]"
      ]
    },
    {
      "cell_type": "code",
      "execution_count": null,
      "metadata": {
        "colab": {
          "base_uri": "https://localhost:8080/",
          "height": 430
        },
        "id": "MURzFhrt3QD3",
        "outputId": "699df39a-a014-4fb4-8431-04dc0a23cfb5"
      },
      "outputs": [
        {
          "output_type": "display_data",
          "data": {
            "text/plain": [
              "<Figure size 640x480 with 1 Axes>"
            ],
            "image/png": "[encoded data removed]"
          },
          "metadata": {}
        }
      ],
      "source": [
        "plt.imshow(my_image);"
      ]
    },
    {
      "cell_type": "code",
      "source": [
        "my_image.shape"
      ],
      "metadata": {
        "colab": {
          "base_uri": "https://localhost:8080/"
        },
        "id": "1PUvF8y78bMj",
        "outputId": "4551641a-486c-438a-9593-c3cd65882661"
      },
      "execution_count": null,
      "outputs": [
        {
          "output_type": "execute_result",
          "data": {
            "text/plain": [
              "(32, 32, 3)"
            ]
          },
          "metadata": {},
          "execution_count": 51
        }
      ]
    },
    {
      "cell_type": "code",
      "execution_count": null,
      "metadata": {
        "colab": {
          "base_uri": "https://localhost:8080/"
        },
        "id": "TTds9OVc3QD3",
        "outputId": "1319b3e9-9ee3-4efc-f5ef-4ae2af7bd4aa"
      },
      "outputs": [
        {
          "output_type": "stream",
          "name": "stdout",
          "text": [
            "1/1 [==============================] - 0s 18ms/step\n"
          ]
        },
        {
          "output_type": "execute_result",
          "data": {
            "text/plain": [
              "2"
            ]
          },
          "metadata": {},
          "execution_count": 52
        }
      ],
      "source": [
        "# Dimensiones --> (catidad de imágenes, ancho, alto, canales)\n",
        "np.argmax(model.predict(my_image.reshape(1, 32, 32, 3)))"
      ]
    }
  ],
  "metadata": {
    "kernelspec": {
      "display_name": "Python 3",
      "language": "python",
      "name": "python3"
    },
    "language_info": {
      "codemirror_mode": {
        "name": "ipython",
        "version": 3
      },
      "file_extension": ".py",
      "mimetype": "text/x-python",
      "name": "python",
      "nbconvert_exporter": "python",
      "pygments_lexer": "ipython3",
      "version": "3.7.4"
    },
    "colab": {
      "provenance": [],
      "include_colab_link": true
    },
    "accelerator": "GPU",
    "gpuClass": "standard"
  },
  "nbformat": 4,
  "nbformat_minor": 0
}