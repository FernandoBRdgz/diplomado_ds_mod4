{
  "cells": [
    {
      "cell_type": "markdown",
      "metadata": {
        "id": "view-in-github",
        "colab_type": "text"
      },
      "source": [
        "<a href=\"https://colab.research.google.com/github/FernandoBRdgz/diplomado_ds_mod4/blob/main/4.6%20Modelaci%C3%B3n%20supervisada%20y%20no%20supervisada%20de%20Big%20Data/4.6.5%20Clustering.ipynb\" target=\"_parent\"><img src=\"https://colab.research.google.com/assets/colab-badge.svg\" alt=\"Open In Colab\"/></a>"
      ]
    },
    {
      "cell_type": "markdown",
      "metadata": {
        "application/vnd.databricks.v1+cell": {
          "inputWidgets": {},
          "nuid": "9f5b08bd-9911-4699-b353-dfa4637c8165",
          "showTitle": false,
          "title": ""
        },
        "id": "q9qHyqaDR6x3"
      },
      "source": [
        "## Clustering\n",
        "\n",
        "Los ingenieros de una empresa de tecnología que ha sido hackeada obtuvieron afortunadamente datos valiosos sobre los ataques, incluida información como la hora de la sesión, las ubicaciones, la velocidad de escritura de palabras por minuto, datos de cada sesión que los hackers utilizaron para conectarse a sus servidores.\n",
        "\n",
        "---\n",
        "\n",
        "### Conjunto de Datos\n",
        "\n",
        "* Session_Connection_Time: Duración de la sesión en minutos\n",
        "* Bytes Transferred: Cantidad de MB transferidos durante la sesión\n",
        "* Kali_Trace_Used: Indica si el hacker estaba usando Kali Linux\n",
        "* Servers_Corrupted: Número de servidores corrompidos durante el ataque\n",
        "* Pages_Corrupted: Número de páginas a las que se ha accedido ilegalmente\n",
        "* Location: Ubicación de la que provino el ataque (probablemente inútil por el uso de VPN)\n",
        "* WPM_Typing_Speed: Velocidad de escritura estimada en función de los registros de sesión. (WPM - Words Per Minute)\n",
        "\n",
        "---\n",
        "\n",
        "La firma de tecnología estima que fueron 3 los posibles hackers que perpetraron el ataque. Están seguros de los dos primeros, pero no están muy seguros de si un tercero estuvo involucrado o no. Se busca averiguar si el tercer sospechoso tuvo algo que ver con los ataques o si fueron solo dos.\n",
        "\n",
        "Como último dato clave, uno de los ingenieros sabe que los hackers intercambian ataques, esto significa que cada uno debería tener aproximadamente la misma cantidad de ataques. Por ejemplo, si hubo 100 ataques en total, entonces en el escenario con 2 hackers, cada uno debería tener alrededor de 50 ataques, en un escenario con tres hackers, cada uno tendría alrededor de 33 ataques."
      ]
    },
    {
      "cell_type": "code",
      "execution_count": null,
      "metadata": {
        "application/vnd.databricks.v1+cell": {
          "inputWidgets": {},
          "nuid": "7d9504c8-98ce-4095-8e5c-95c1fba1e830",
          "showTitle": false,
          "title": ""
        },
        "id": "Lu24wqo_ME5u"
      },
      "outputs": [],
      "source": [
        "generation = \"mod4gen<x>\""
      ]
    },
    {
      "cell_type": "code",
      "execution_count": null,
      "metadata": {
        "application/vnd.databricks.v1+cell": {
          "inputWidgets": {},
          "nuid": "eda4c142-52a5-4991-a63d-93c9645274e3",
          "showTitle": false,
          "title": ""
        },
        "collapsed": true,
        "id": "5RBa-jirR6x-"
      },
      "outputs": [],
      "source": [
        "data = spark.read.csv(f\"/mnt/{generation}/input/hack_data.csv\", inferSchema=True, header=True)"
      ]
    },
    {
      "cell_type": "code",
      "execution_count": null,
      "metadata": {
        "application/vnd.databricks.v1+cell": {
          "inputWidgets": {},
          "nuid": "d16e3eff-638e-4d24-8082-09edad813c2d",
          "showTitle": false,
          "title": ""
        },
        "id": "_8936hPlME5x"
      },
      "outputs": [],
      "source": [
        "data.count(), len(data.columns)"
      ]
    },
    {
      "cell_type": "code",
      "execution_count": null,
      "metadata": {
        "application/vnd.databricks.v1+cell": {
          "inputWidgets": {},
          "nuid": "3b6ebdd9-bc2c-4382-8bf0-3ec5fa8009d0",
          "showTitle": false,
          "title": ""
        },
        "id": "KU9GbKSfR6x_"
      },
      "outputs": [],
      "source": [
        "data.display()"
      ]
    },
    {
      "cell_type": "code",
      "execution_count": null,
      "metadata": {
        "application/vnd.databricks.v1+cell": {
          "inputWidgets": {},
          "nuid": "80cbe71f-82f5-472f-bc90-8d18bc721c2f",
          "showTitle": false,
          "title": ""
        },
        "id": "BHJNILwmME5z"
      },
      "outputs": [],
      "source": [
        "data.describe().display()"
      ]
    },
    {
      "cell_type": "markdown",
      "metadata": {
        "application/vnd.databricks.v1+cell": {
          "inputWidgets": {},
          "nuid": "d3f6dd36-0a43-4535-bac7-d89a44748d14",
          "showTitle": false,
          "title": ""
        },
        "id": "DkFy1V1-ME5z"
      },
      "source": [
        "### EDA"
      ]
    },
    {
      "cell_type": "code",
      "execution_count": null,
      "metadata": {
        "application/vnd.databricks.v1+cell": {
          "inputWidgets": {},
          "nuid": "025d7a70-f0ec-462e-b05b-ed0288b6479e",
          "showTitle": false,
          "title": ""
        },
        "id": "IkNZlpRnME5z"
      },
      "outputs": [],
      "source": [
        "data.select(\"Session_Connection_Time\").display()"
      ]
    },
    {
      "cell_type": "code",
      "execution_count": null,
      "metadata": {
        "application/vnd.databricks.v1+cell": {
          "inputWidgets": {},
          "nuid": "f1f6e636-78aa-4f7d-a657-fc63870acb80",
          "showTitle": false,
          "title": ""
        },
        "id": "M4iberTCME50"
      },
      "outputs": [],
      "source": [
        "data.select(\"Bytes Transferred\").display()"
      ]
    },
    {
      "cell_type": "code",
      "execution_count": null,
      "metadata": {
        "application/vnd.databricks.v1+cell": {
          "inputWidgets": {},
          "nuid": "51e20f71-204b-4fd3-8d0b-60409120f98c",
          "showTitle": false,
          "title": ""
        },
        "id": "RHysJJfxME50"
      },
      "outputs": [],
      "source": [
        "data.select(\"Kali_Trace_Used\").display()"
      ]
    },
    {
      "cell_type": "code",
      "execution_count": null,
      "metadata": {
        "application/vnd.databricks.v1+cell": {
          "inputWidgets": {},
          "nuid": "5b1440fb-4829-44d8-93ac-7b0fb5b1d6c9",
          "showTitle": false,
          "title": ""
        },
        "id": "7_w8F9nVME51"
      },
      "outputs": [],
      "source": [
        "data.select(\"Servers_Corrupted\").display()"
      ]
    },
    {
      "cell_type": "code",
      "execution_count": null,
      "metadata": {
        "application/vnd.databricks.v1+cell": {
          "inputWidgets": {},
          "nuid": "9d0d01fd-a0d6-4435-ae86-89f154663e00",
          "showTitle": false,
          "title": ""
        },
        "id": "CCvwclc9ME51"
      },
      "outputs": [],
      "source": [
        "data.select(\"Pages_Corrupted\").orderBy(\"Pages_Corrupted\").display()"
      ]
    },
    {
      "cell_type": "markdown",
      "metadata": {
        "application/vnd.databricks.v1+cell": {
          "inputWidgets": {},
          "nuid": "8a7fdb53-8b6d-4ded-ac40-71d90633423f",
          "showTitle": false,
          "title": ""
        },
        "id": "5Thh8WITME52"
      },
      "source": [
        "### Preprocesamiento"
      ]
    },
    {
      "cell_type": "code",
      "execution_count": null,
      "metadata": {
        "application/vnd.databricks.v1+cell": {
          "inputWidgets": {},
          "nuid": "7f660822-77a2-4adc-ad72-806b7d273734",
          "showTitle": false,
          "title": ""
        },
        "collapsed": true,
        "id": "oyrxJiyWR6yB"
      },
      "outputs": [],
      "source": [
        "from pyspark.ml.feature import VectorAssembler"
      ]
    },
    {
      "cell_type": "code",
      "execution_count": null,
      "metadata": {
        "application/vnd.databricks.v1+cell": {
          "inputWidgets": {},
          "nuid": "29842d5f-ae6c-40f4-9b51-8895eb514013",
          "showTitle": false,
          "title": ""
        },
        "collapsed": true,
        "id": "IYoPZYrzR6yB"
      },
      "outputs": [],
      "source": [
        "cols = ['Session_Connection_Time', 'Bytes Transferred', 'Kali_Trace_Used', 'Servers_Corrupted', 'Pages_Corrupted','WPM_Typing_Speed']"
      ]
    },
    {
      "cell_type": "code",
      "execution_count": null,
      "metadata": {
        "application/vnd.databricks.v1+cell": {
          "inputWidgets": {},
          "nuid": "e9ed2253-10a0-4959-af05-249833a0bc5e",
          "showTitle": false,
          "title": ""
        },
        "collapsed": true,
        "id": "p31a0oHeR6yB"
      },
      "outputs": [],
      "source": [
        "vec_assembler = VectorAssembler(inputCols = cols, outputCol=\"features\")"
      ]
    },
    {
      "cell_type": "code",
      "execution_count": null,
      "metadata": {
        "application/vnd.databricks.v1+cell": {
          "inputWidgets": {},
          "nuid": "baf53de6-f746-47fe-b99f-9152b169631b",
          "showTitle": false,
          "title": ""
        },
        "collapsed": true,
        "id": "fSwlef-RR6yC"
      },
      "outputs": [],
      "source": [
        "final_data = vec_assembler.transform(data)"
      ]
    },
    {
      "cell_type": "code",
      "execution_count": null,
      "metadata": {
        "application/vnd.databricks.v1+cell": {
          "inputWidgets": {},
          "nuid": "7f8b3521-9cae-45f1-81ab-3164546d9b0c",
          "showTitle": false,
          "title": ""
        },
        "id": "FHqLSIgaME54"
      },
      "outputs": [],
      "source": [
        "final_data.display()"
      ]
    },
    {
      "cell_type": "code",
      "execution_count": null,
      "metadata": {
        "application/vnd.databricks.v1+cell": {
          "inputWidgets": {},
          "nuid": "ce93c14a-4dd2-411e-a79a-5e04f96b9c5e",
          "showTitle": false,
          "title": ""
        },
        "collapsed": true,
        "id": "lwuaoyiFR6yC"
      },
      "outputs": [],
      "source": [
        "from pyspark.ml.feature import StandardScaler"
      ]
    },
    {
      "cell_type": "code",
      "execution_count": null,
      "metadata": {
        "application/vnd.databricks.v1+cell": {
          "inputWidgets": {},
          "nuid": "bfde8342-e3b5-4821-bfd2-6c4380758cae",
          "showTitle": false,
          "title": ""
        },
        "id": "rXKj86xoME54"
      },
      "outputs": [],
      "source": [
        "help(StandardScaler)"
      ]
    },
    {
      "cell_type": "code",
      "execution_count": null,
      "metadata": {
        "application/vnd.databricks.v1+cell": {
          "inputWidgets": {},
          "nuid": "4b21c2a8-aa56-42ad-a3f8-a1c83e390f01",
          "showTitle": false,
          "title": ""
        },
        "collapsed": true,
        "id": "_aRkFKv3R6yC"
      },
      "outputs": [],
      "source": [
        "scaler = StandardScaler(inputCol=\"features\", outputCol=\"scaledFeatures\", withStd=True, withMean=False)"
      ]
    },
    {
      "cell_type": "code",
      "execution_count": null,
      "metadata": {
        "application/vnd.databricks.v1+cell": {
          "inputWidgets": {},
          "nuid": "367cb4fa-31c7-489d-9e52-1bb7a9ae96e7",
          "showTitle": false,
          "title": ""
        },
        "collapsed": true,
        "id": "ch9ZmKxZR6yC"
      },
      "outputs": [],
      "source": [
        "scalerModel = scaler.fit(final_data)"
      ]
    },
    {
      "cell_type": "code",
      "execution_count": null,
      "metadata": {
        "application/vnd.databricks.v1+cell": {
          "inputWidgets": {},
          "nuid": "73f75e8c-6dff-4bed-a500-a2c62ee1a3f4",
          "showTitle": false,
          "title": ""
        },
        "collapsed": true,
        "id": "S8Kw3g58R6yC"
      },
      "outputs": [],
      "source": [
        "cluster_final_data = scalerModel.transform(final_data)"
      ]
    },
    {
      "cell_type": "code",
      "execution_count": null,
      "metadata": {
        "application/vnd.databricks.v1+cell": {
          "inputWidgets": {},
          "nuid": "0bf2a8c2-2e6a-4bd1-baac-bf42f5af0d14",
          "showTitle": false,
          "title": ""
        },
        "id": "vExfb-YAME55"
      },
      "outputs": [],
      "source": [
        "cluster_final_data.display()"
      ]
    },
    {
      "cell_type": "markdown",
      "metadata": {
        "application/vnd.databricks.v1+cell": {
          "inputWidgets": {},
          "nuid": "c9b9d463-c107-49fa-b7ce-09bb88175018",
          "showTitle": false,
          "title": ""
        },
        "id": "JXgtvWDhR6yD"
      },
      "source": [
        "### Modelación"
      ]
    },
    {
      "cell_type": "code",
      "execution_count": null,
      "metadata": {
        "application/vnd.databricks.v1+cell": {
          "inputWidgets": {},
          "nuid": "ccf2fd84-76e0-41db-abdd-2743395eac0e",
          "showTitle": false,
          "title": ""
        },
        "id": "oaFp0juDME56"
      },
      "outputs": [],
      "source": [
        "from pyspark.ml.clustering import KMeans"
      ]
    },
    {
      "cell_type": "code",
      "execution_count": null,
      "metadata": {
        "application/vnd.databricks.v1+cell": {
          "inputWidgets": {},
          "nuid": "4ab424cc-a4e6-417e-b156-b4aaebeeb716",
          "showTitle": false,
          "title": ""
        },
        "collapsed": true,
        "id": "wjrLuGNwR6yD"
      },
      "outputs": [],
      "source": [
        "kmeans3 = KMeans(featuresCol=\"scaledFeatures\", k=3)\n",
        "kmeans2 = KMeans(featuresCol=\"scaledFeatures\", k=2)"
      ]
    },
    {
      "cell_type": "code",
      "execution_count": null,
      "metadata": {
        "application/vnd.databricks.v1+cell": {
          "inputWidgets": {},
          "nuid": "d73e29bf-812a-48dc-8097-16d43007973d",
          "showTitle": false,
          "title": ""
        },
        "collapsed": true,
        "id": "xqecHwTeR6yD"
      },
      "outputs": [],
      "source": [
        "model_k3 = kmeans3.fit(cluster_final_data)\n",
        "model_k2 = kmeans2.fit(cluster_final_data)"
      ]
    },
    {
      "cell_type": "code",
      "execution_count": null,
      "metadata": {
        "application/vnd.databricks.v1+cell": {
          "inputWidgets": {},
          "nuid": "8b8afff3-9d16-48ff-8f98-7933b673c237",
          "showTitle": false,
          "title": ""
        },
        "id": "wbtRiz8TME57"
      },
      "outputs": [],
      "source": [
        "from pyspark.ml.evaluation import ClusteringEvaluator"
      ]
    },
    {
      "cell_type": "markdown",
      "metadata": {
        "application/vnd.databricks.v1+cell": {
          "inputWidgets": {},
          "nuid": "398fac8f-4636-43e2-86ed-ad772c1bf92d",
          "showTitle": false,
          "title": ""
        },
        "id": "DdSZ7ptdME57"
      },
      "source": [
        "[ClusteringEvaluator](https://spark.apache.org/docs/latest/api/python/reference/api/pyspark.ml.evaluation.ClusteringEvaluator.html)"
      ]
    },
    {
      "cell_type": "code",
      "execution_count": null,
      "metadata": {
        "application/vnd.databricks.v1+cell": {
          "inputWidgets": {},
          "nuid": "279698d3-ce3e-44a7-874b-0969fde1994a",
          "showTitle": false,
          "title": ""
        },
        "id": "62N2eMPxME57"
      },
      "outputs": [],
      "source": [
        "silhouette_score=[]\n",
        "evaluator = ClusteringEvaluator(predictionCol=\"prediction\", featuresCol=\"scaledFeatures\", metricName=\"silhouette\", distanceMeasure=\"squaredEuclidean\")\n",
        "\n",
        "for k in range(2,9):\n",
        "    kmeans = KMeans(featuresCol=\"scaledFeatures\", k=k)\n",
        "    kmeans_fit = kmeans.fit(cluster_final_data)\n",
        "    output = kmeans_fit.transform(cluster_final_data)\n",
        "    score = evaluator.evaluate(output)\n",
        "    silhouette_score.append(score)\n",
        "    print(f\"Silhouette Score k={k}:\", score)"
      ]
    },
    {
      "cell_type": "code",
      "execution_count": null,
      "metadata": {
        "application/vnd.databricks.v1+cell": {
          "inputWidgets": {},
          "nuid": "ea3c5bf4-167a-4635-9c04-166adb996982",
          "showTitle": false,
          "title": ""
        },
        "id": "DAkPVt78ME58"
      },
      "outputs": [],
      "source": [
        "scores = spark.createDataFrame(list(zip(range(2,9), silhouette_score)), [\"k\", \"score\"])\n",
        "scores.display()"
      ]
    },
    {
      "cell_type": "code",
      "execution_count": null,
      "metadata": {
        "application/vnd.databricks.v1+cell": {
          "inputWidgets": {},
          "nuid": "963fa3b5-8833-4346-9cd2-7320d500a2c4",
          "showTitle": false,
          "title": ""
        },
        "id": "JDdjxtP0ME58"
      },
      "outputs": [],
      "source": [
        "scores.display()"
      ]
    },
    {
      "cell_type": "markdown",
      "metadata": {
        "application/vnd.databricks.v1+cell": {
          "inputWidgets": {},
          "nuid": "79440627-fe2f-487a-b4ff-9b7463d05a5f",
          "showTitle": false,
          "title": ""
        },
        "id": "3dvGcMINR6yE"
      },
      "source": [
        "No se puede tomar una decisión definitiva de lo anterior. Pero recordemos que el ingeniero mencionó que los ataques deberían contarse por igual entre los hackers. Esto se puede responder con los métodos de transformación y predicción."
      ]
    },
    {
      "cell_type": "code",
      "execution_count": null,
      "metadata": {
        "application/vnd.databricks.v1+cell": {
          "inputWidgets": {},
          "nuid": "8a4184e3-c42b-4c13-92c7-eb245c2c4bf8",
          "showTitle": false,
          "title": ""
        },
        "id": "ukI4U-bOR6yE"
      },
      "outputs": [],
      "source": [
        "model_k3.transform(cluster_final_data).groupBy(\"prediction\").count().display()"
      ]
    },
    {
      "cell_type": "code",
      "execution_count": null,
      "metadata": {
        "application/vnd.databricks.v1+cell": {
          "inputWidgets": {},
          "nuid": "82a012eb-b46d-4976-ab31-8cb5d8f2c3d7",
          "showTitle": false,
          "title": ""
        },
        "id": "DcZ_fNOUR6yE"
      },
      "outputs": [],
      "source": [
        "model_k2.transform(cluster_final_data).groupBy(\"prediction\").count().display()"
      ]
    },
    {
      "cell_type": "markdown",
      "metadata": {
        "application/vnd.databricks.v1+cell": {
          "inputWidgets": {},
          "nuid": "3edb26ab-347c-4afc-9a9a-c48e74471f2e",
          "showTitle": false,
          "title": ""
        },
        "id": "VgU50jSQR6yF"
      },
      "source": [
        "En efecto, fueron 2 hackers, de hecho, nuestro algoritmo de clustering creó dos grupos del mismo tamaño con K = 2, ¡no hay forma de que sea una coincidencia!"
      ]
    }
  ],
  "metadata": {
    "anaconda-cloud": {},
    "application/vnd.databricks.v1+notebook": {
      "dashboards": [],
      "language": "python",
      "notebookMetadata": {
        "pythonIndentUnit": 4
      },
      "notebookName": "4.6.5 Clustering",
      "notebookOrigID": 267889027353147,
      "widgets": {}
    },
    "colab": {
      "provenance": [],
      "include_colab_link": true
    },
    "kernelspec": {
      "display_name": "Python [conda root]",
      "language": "python",
      "name": "conda-root-py"
    },
    "language_info": {
      "codemirror_mode": {
        "name": "ipython",
        "version": 3
      },
      "file_extension": ".py",
      "mimetype": "text/x-python",
      "name": "python",
      "nbconvert_exporter": "python",
      "pygments_lexer": "ipython3",
      "version": "3.5.3"
    }
  },
  "nbformat": 4,
  "nbformat_minor": 0
}