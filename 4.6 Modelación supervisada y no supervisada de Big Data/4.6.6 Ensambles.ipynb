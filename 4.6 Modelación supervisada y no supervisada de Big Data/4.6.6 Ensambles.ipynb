{
  "cells": [
    {
      "cell_type": "markdown",
      "metadata": {
        "id": "view-in-github",
        "colab_type": "text"
      },
      "source": [
        "<a href=\"https://colab.research.google.com/github/FernandoBRdgz/diplomado_ds_mod4/blob/main/4.6%20Modelaci%C3%B3n%20supervisada%20y%20no%20supervisada%20de%20Big%20Data/4.6.6%20Ensambles.ipynb\" target=\"_parent\"><img src=\"https://colab.research.google.com/assets/colab-badge.svg\" alt=\"Open In Colab\"/></a>"
      ]
    },
    {
      "cell_type": "markdown",
      "metadata": {
        "application/vnd.databricks.v1+cell": {
          "inputWidgets": {},
          "nuid": "3bf43807-9f08-45f1-adde-3daf46609b2f",
          "showTitle": false,
          "title": ""
        },
        "id": "4Y_-g8OpMLF5"
      },
      "source": [
        "### Ensambles\n",
        "\n",
        "En este notebook se probarán 3 algoritmos diferentes basados en árboles:\n",
        "\n",
        "* Árbol de decisión (Decision Tree)\n",
        "* Bosques aleatorios (Random Forest)\n",
        "* Árboles potenciados por gradiente (Gradient Boosting)\n",
        "\n",
        "---\n",
        "\n",
        "#### Conjunto de Datos\n",
        "\n",
        "Usaremos un conjunto de datos del sector educación para clasificar a las universidades como privadas o públicas en función de estas características:\n",
        "\n",
        "* School: Nombre de la institución\n",
        "* Private: Un factor con niveles No y Sí que indican universidad pública o privada\n",
        "* Apps: Número de solicitudes recibidas\n",
        "* Accept: Número de solicitudes aceptadas\n",
        "* Enroll: Número de nuevos estudiantes matriculados\n",
        "* Top10perc: Porcentaje de nuevos estudiantes del top 10% de las clases de preparatoria\n",
        "* Top25perc: Porcentaje de nuevos estudiantes del top 25% de las clases de preparatoria\n",
        "* F_Undergrad: Número de estudiantes universitarios de tiempo completo\n",
        "* P_Undergrad: Número de estudiantes universitarios a tiempo parcial\n",
        "* Outstate: Matrícula fuera del estado\n",
        "* Room_Board: Costos de alojamiento y comida\n",
        "* Books: Costos estimados de libros\n",
        "* Personal: Gastos personales estimados\n",
        "* PhD: Porcentaje de profesores con doctorado\n",
        "* Terminal: Porcentaje de profesores con título terminal (Terminal degree)\n",
        "* S.F.Ratio: Proporción estudiantes/profesores\n",
        "* Perc_alumni: Porcentaje de ex alumnos que donan\n",
        "* Expend: Gastos por alumno (Incluye salarios y beneficios para maestros, servicios y gastos relacionados con actividades extracurriculares).\n",
        "* Grad_Rate: Tasa de graduación"
      ]
    },
    {
      "cell_type": "code",
      "execution_count": null,
      "metadata": {
        "application/vnd.databricks.v1+cell": {
          "inputWidgets": {},
          "nuid": "8cb201ac-03d5-4999-8888-cf1ec39af72f",
          "showTitle": false,
          "title": ""
        },
        "id": "DBhQCGX5MLGE"
      },
      "outputs": [],
      "source": [
        "generation = \"mod4gen<x>\""
      ]
    },
    {
      "cell_type": "code",
      "execution_count": null,
      "metadata": {
        "application/vnd.databricks.v1+cell": {
          "inputWidgets": {},
          "nuid": "54a26bbd-aa1f-43ea-bd7d-8e6a748b2008",
          "showTitle": false,
          "title": ""
        },
        "collapsed": true,
        "id": "Iap5-FaOMLGG"
      },
      "outputs": [],
      "source": [
        "data = spark.read.csv(f\"/mnt/{generation}/input/college.csv\", inferSchema=True, header=True)"
      ]
    },
    {
      "cell_type": "code",
      "execution_count": null,
      "metadata": {
        "application/vnd.databricks.v1+cell": {
          "inputWidgets": {},
          "nuid": "3249a707-68bd-4421-b10f-606d44173cf7",
          "showTitle": false,
          "title": ""
        },
        "id": "Kat0XWc6MLGG"
      },
      "outputs": [],
      "source": [
        "data.printSchema()"
      ]
    },
    {
      "cell_type": "code",
      "execution_count": null,
      "metadata": {
        "application/vnd.databricks.v1+cell": {
          "inputWidgets": {},
          "nuid": "71492e54-2ca3-459d-9685-8b0657b09cf4",
          "showTitle": false,
          "title": ""
        },
        "id": "pC_i1Xr2MLGH"
      },
      "outputs": [],
      "source": [
        "data.count(), len(data.columns)"
      ]
    },
    {
      "cell_type": "code",
      "execution_count": null,
      "metadata": {
        "application/vnd.databricks.v1+cell": {
          "inputWidgets": {},
          "nuid": "ef2f1bba-d036-4c40-8274-66b8d0d7409a",
          "showTitle": false,
          "title": ""
        },
        "id": "YpkaXu0vMLGH"
      },
      "outputs": [],
      "source": [
        "data.display()"
      ]
    },
    {
      "cell_type": "code",
      "execution_count": null,
      "metadata": {
        "application/vnd.databricks.v1+cell": {
          "inputWidgets": {},
          "nuid": "4b9f4e10-4ab6-409f-b034-79aa4919b5b0",
          "showTitle": false,
          "title": ""
        },
        "id": "bQWwcCGMMLGI"
      },
      "outputs": [],
      "source": [
        "data.show(n=5)"
      ]
    },
    {
      "cell_type": "code",
      "execution_count": null,
      "metadata": {
        "application/vnd.databricks.v1+cell": {
          "inputWidgets": {},
          "nuid": "e7296880-d155-4124-9407-d7fe36f1fbdd",
          "showTitle": false,
          "title": ""
        },
        "id": "T1w_tMTbMLGJ"
      },
      "outputs": [],
      "source": [
        "data.show(n=5, truncate=False)"
      ]
    },
    {
      "cell_type": "markdown",
      "metadata": {
        "application/vnd.databricks.v1+cell": {
          "inputWidgets": {},
          "nuid": "524b6181-83ad-41a4-b138-d5bc8e48341d",
          "showTitle": false,
          "title": ""
        },
        "id": "lqXgC2KGMLGJ"
      },
      "source": [
        "### EDA"
      ]
    },
    {
      "cell_type": "code",
      "execution_count": null,
      "metadata": {
        "application/vnd.databricks.v1+cell": {
          "inputWidgets": {},
          "nuid": "7754ef71-311f-40e1-b756-6a126a2b4918",
          "showTitle": false,
          "title": ""
        },
        "id": "aik8b4RTMLGK"
      },
      "outputs": [],
      "source": [
        "data.groupBy(\"Private\").count().display()"
      ]
    },
    {
      "cell_type": "code",
      "execution_count": null,
      "metadata": {
        "application/vnd.databricks.v1+cell": {
          "inputWidgets": {},
          "nuid": "c81d6b18-6a72-4bfc-b634-b7d17a4c7598",
          "showTitle": false,
          "title": ""
        },
        "id": "Hsi4SpHgMLGL"
      },
      "outputs": [],
      "source": [
        "data.groupBy(\"Private\").count().display()"
      ]
    },
    {
      "cell_type": "markdown",
      "metadata": {
        "application/vnd.databricks.v1+cell": {
          "inputWidgets": {},
          "nuid": "4d7ce93d-5cc2-44b5-9433-03a7992a6b36",
          "showTitle": false,
          "title": ""
        },
        "id": "gdq8TcOyMLGL"
      },
      "source": [
        "### Preprocesamiento"
      ]
    },
    {
      "cell_type": "code",
      "execution_count": null,
      "metadata": {
        "application/vnd.databricks.v1+cell": {
          "inputWidgets": {},
          "nuid": "0ab35b18-f87f-4717-87c0-028efec47827",
          "showTitle": false,
          "title": ""
        },
        "collapsed": true,
        "id": "JDAk4ftJMLGL"
      },
      "outputs": [],
      "source": [
        "from pyspark.ml.feature import VectorAssembler"
      ]
    },
    {
      "cell_type": "code",
      "execution_count": null,
      "metadata": {
        "application/vnd.databricks.v1+cell": {
          "inputWidgets": {},
          "nuid": "3fdb6bc8-e22e-4545-bc4e-667974d56708",
          "showTitle": false,
          "title": ""
        },
        "id": "oFv5Vd7YMLGM"
      },
      "outputs": [],
      "source": [
        "cols = data.columns[2:]\n",
        "cols"
      ]
    },
    {
      "cell_type": "code",
      "execution_count": null,
      "metadata": {
        "application/vnd.databricks.v1+cell": {
          "inputWidgets": {},
          "nuid": "665feae7-3646-4a64-94d7-cf2df668b208",
          "showTitle": false,
          "title": ""
        },
        "id": "QGgQhoyMMLGM"
      },
      "outputs": [],
      "source": [
        "assembler = VectorAssembler(inputCols=cols, outputCol=\"features\")"
      ]
    },
    {
      "cell_type": "code",
      "execution_count": null,
      "metadata": {
        "application/vnd.databricks.v1+cell": {
          "inputWidgets": {},
          "nuid": "ddab36c0-6713-4de9-8409-7cb0f1e8699f",
          "showTitle": false,
          "title": ""
        },
        "id": "TJxHPIjAMLGM"
      },
      "outputs": [],
      "source": [
        "type(assembler)"
      ]
    },
    {
      "cell_type": "code",
      "execution_count": null,
      "metadata": {
        "application/vnd.databricks.v1+cell": {
          "inputWidgets": {},
          "nuid": "b5e66b45-4728-4acf-96bc-c9067eb48c8e",
          "showTitle": false,
          "title": ""
        },
        "id": "8gJZPFdbMLGN"
      },
      "outputs": [],
      "source": [
        "output = assembler.transform(data)"
      ]
    },
    {
      "cell_type": "code",
      "execution_count": null,
      "metadata": {
        "application/vnd.databricks.v1+cell": {
          "inputWidgets": {},
          "nuid": "65398113-a3bf-481b-a614-5d30c7bfec27",
          "showTitle": false,
          "title": ""
        },
        "id": "TjM3phU3MLGN"
      },
      "outputs": [],
      "source": [
        "output.display()"
      ]
    },
    {
      "cell_type": "code",
      "execution_count": null,
      "metadata": {
        "application/vnd.databricks.v1+cell": {
          "inputWidgets": {},
          "nuid": "247d27b7-3d5d-421b-8b2f-afee24b2595d",
          "showTitle": false,
          "title": ""
        },
        "collapsed": true,
        "id": "McU7hzs1MLGN"
      },
      "outputs": [],
      "source": [
        "from pyspark.ml.feature import StringIndexer"
      ]
    },
    {
      "cell_type": "code",
      "execution_count": null,
      "metadata": {
        "application/vnd.databricks.v1+cell": {
          "inputWidgets": {},
          "nuid": "950e0540-ddf1-48af-8176-c63a7fb52875",
          "showTitle": false,
          "title": ""
        },
        "id": "rx8nGrAPMLGN"
      },
      "outputs": [],
      "source": [
        "indexer = StringIndexer(inputCol=\"Private\", outputCol=\"PrivateIndex\")"
      ]
    },
    {
      "cell_type": "code",
      "execution_count": null,
      "metadata": {
        "application/vnd.databricks.v1+cell": {
          "inputWidgets": {},
          "nuid": "ff1e579f-5fe5-4d04-bc57-e3f281f50208",
          "showTitle": false,
          "title": ""
        },
        "id": "b2JNSEJNMLGO"
      },
      "outputs": [],
      "source": [
        "type(indexer)"
      ]
    },
    {
      "cell_type": "code",
      "execution_count": null,
      "metadata": {
        "application/vnd.databricks.v1+cell": {
          "inputWidgets": {},
          "nuid": "82f1dc28-20b8-4b29-9406-173aa3957680",
          "showTitle": false,
          "title": ""
        },
        "id": "vr8Wwi2GMLGO"
      },
      "outputs": [],
      "source": [
        "output_fixed = indexer.fit(output).transform(output)"
      ]
    },
    {
      "cell_type": "code",
      "execution_count": null,
      "metadata": {
        "application/vnd.databricks.v1+cell": {
          "inputWidgets": {},
          "nuid": "ba23f469-83c4-4ed4-8a97-08f694901079",
          "showTitle": false,
          "title": ""
        },
        "id": "HwlnGnqUMLGO"
      },
      "outputs": [],
      "source": [
        "output_fixed.display()"
      ]
    },
    {
      "cell_type": "code",
      "execution_count": null,
      "metadata": {
        "application/vnd.databricks.v1+cell": {
          "inputWidgets": {},
          "nuid": "6f9a85f6-7230-488a-8690-9be6d5f85c3c",
          "showTitle": false,
          "title": ""
        },
        "collapsed": true,
        "id": "mmQ8dpmuMLGO"
      },
      "outputs": [],
      "source": [
        "final_data = output_fixed.select(\"features\", \"PrivateIndex\")"
      ]
    },
    {
      "cell_type": "code",
      "execution_count": null,
      "metadata": {
        "application/vnd.databricks.v1+cell": {
          "inputWidgets": {},
          "nuid": "a943908b-723f-4258-971b-9b06adb003e2",
          "showTitle": false,
          "title": ""
        },
        "id": "aQ5_bd-GMLGP"
      },
      "outputs": [],
      "source": [
        "final_data.display()"
      ]
    },
    {
      "cell_type": "code",
      "execution_count": null,
      "metadata": {
        "application/vnd.databricks.v1+cell": {
          "inputWidgets": {},
          "nuid": "a0f728bd-3fac-4d94-9754-cbcfaba56535",
          "showTitle": false,
          "title": ""
        },
        "collapsed": true,
        "id": "vDtV9u5yMLGP"
      },
      "outputs": [],
      "source": [
        "train_data, val_data = final_data.randomSplit([0.7,0.3])"
      ]
    },
    {
      "cell_type": "markdown",
      "metadata": {
        "application/vnd.databricks.v1+cell": {
          "inputWidgets": {},
          "nuid": "8c943400-db45-49ec-ab51-8632242ae67d",
          "showTitle": false,
          "title": ""
        },
        "id": "NmPZ0z_tMLGP"
      },
      "source": [
        "### Modelación"
      ]
    },
    {
      "cell_type": "code",
      "execution_count": null,
      "metadata": {
        "application/vnd.databricks.v1+cell": {
          "inputWidgets": {},
          "nuid": "d5b5dc8e-26bf-46ca-a663-97f86380b930",
          "showTitle": false,
          "title": ""
        },
        "collapsed": true,
        "id": "htSv59SxMLGP"
      },
      "outputs": [],
      "source": [
        "from pyspark.ml.classification import DecisionTreeClassifier, GBTClassifier, RandomForestClassifier"
      ]
    },
    {
      "cell_type": "code",
      "execution_count": null,
      "metadata": {
        "application/vnd.databricks.v1+cell": {
          "inputWidgets": {},
          "nuid": "6958b4d2-8279-4529-8751-a8ffe10f0218",
          "showTitle": false,
          "title": ""
        },
        "id": "ZZLp1ozIMLGQ"
      },
      "outputs": [],
      "source": [
        "help(RandomForestClassifier)"
      ]
    },
    {
      "cell_type": "code",
      "execution_count": null,
      "metadata": {
        "application/vnd.databricks.v1+cell": {
          "inputWidgets": {},
          "nuid": "9bbdcc8d-ec1b-4fa3-ab4c-e2a27a7e2e56",
          "showTitle": false,
          "title": ""
        },
        "collapsed": true,
        "id": "99hPIfklMLGQ"
      },
      "outputs": [],
      "source": [
        "# Se utilizan los hiperparámetros predeterminados para que la comparación sea \"justa\"\n",
        "\n",
        "dtc = DecisionTreeClassifier(labelCol=\"PrivateIndex\", featuresCol=\"features\")\n",
        "rfc = RandomForestClassifier(labelCol=\"PrivateIndex\", featuresCol=\"features\")\n",
        "gbt = GBTClassifier(labelCol=\"PrivateIndex\", featuresCol=\"features\")"
      ]
    },
    {
      "cell_type": "code",
      "execution_count": null,
      "metadata": {
        "application/vnd.databricks.v1+cell": {
          "inputWidgets": {},
          "nuid": "dfabb14a-5d0b-4976-90a3-31ddaf5d9a0a",
          "showTitle": false,
          "title": ""
        },
        "id": "kfzIl59kMLGQ"
      },
      "outputs": [],
      "source": [
        "dtc_model = dtc.fit(train_data)\n",
        "rfc_model = rfc.fit(train_data)\n",
        "gbt_model = gbt.fit(train_data)"
      ]
    },
    {
      "cell_type": "markdown",
      "metadata": {
        "application/vnd.databricks.v1+cell": {
          "inputWidgets": {},
          "nuid": "0445c1dc-7f64-48f5-a2f2-28e691de6de0",
          "showTitle": false,
          "title": ""
        },
        "id": "uCi59KgSMLGR"
      },
      "source": [
        "### Importancia de variables"
      ]
    },
    {
      "cell_type": "code",
      "execution_count": null,
      "metadata": {
        "application/vnd.databricks.v1+cell": {
          "inputWidgets": {},
          "nuid": "4a0eab60-5ed4-4ccf-88df-36b480861b31",
          "showTitle": false,
          "title": ""
        },
        "id": "C34XQBD0MLGR"
      },
      "outputs": [],
      "source": [
        "dtc_model.featureImportances"
      ]
    },
    {
      "cell_type": "code",
      "execution_count": null,
      "metadata": {
        "application/vnd.databricks.v1+cell": {
          "inputWidgets": {},
          "nuid": "ee047f99-aa58-4d01-970f-206a07025fef",
          "showTitle": false,
          "title": ""
        },
        "id": "7FORHu4iMLGR"
      },
      "outputs": [],
      "source": [
        "len(cols), len(rfc_model.featureImportances)"
      ]
    },
    {
      "cell_type": "code",
      "execution_count": null,
      "metadata": {
        "application/vnd.databricks.v1+cell": {
          "inputWidgets": {},
          "nuid": "9613c70d-dc7b-4505-8934-c56eb56e26e7",
          "showTitle": false,
          "title": ""
        },
        "id": "xlx29O62MLGR"
      },
      "outputs": [],
      "source": [
        "list(zip(cols, gbt_model.featureImportances))"
      ]
    },
    {
      "cell_type": "markdown",
      "metadata": {
        "application/vnd.databricks.v1+cell": {
          "inputWidgets": {},
          "nuid": "d60c609a-bc3c-44b7-9daa-79aa54e86cf2",
          "showTitle": false,
          "title": ""
        },
        "id": "Rw84YnuAMLGR"
      },
      "source": [
        "### Comparativa de modelos"
      ]
    },
    {
      "cell_type": "code",
      "execution_count": null,
      "metadata": {
        "application/vnd.databricks.v1+cell": {
          "inputWidgets": {},
          "nuid": "065797ce-9063-46c5-986a-935079d59f69",
          "showTitle": false,
          "title": ""
        },
        "id": "yiHTnYxnMLGS"
      },
      "outputs": [],
      "source": [
        "dtc_predictions = dtc_model.transform(val_data)\n",
        "rfc_predictions = rfc_model.transform(val_data)\n",
        "gbt_predictions = gbt_model.transform(val_data)"
      ]
    },
    {
      "cell_type": "code",
      "execution_count": null,
      "metadata": {
        "application/vnd.databricks.v1+cell": {
          "inputWidgets": {},
          "nuid": "5690e7e7-36a3-4629-b820-1e73a1b32889",
          "showTitle": false,
          "title": ""
        },
        "collapsed": true,
        "id": "WJ46TjVeMLGS"
      },
      "outputs": [],
      "source": [
        "from pyspark.ml.evaluation import MulticlassClassificationEvaluator"
      ]
    },
    {
      "cell_type": "markdown",
      "metadata": {
        "application/vnd.databricks.v1+cell": {
          "inputWidgets": {},
          "nuid": "d2960f6d-0eda-43bd-8a3b-52beaffd8b60",
          "showTitle": false,
          "title": ""
        },
        "id": "7U8-TqErMLGS"
      },
      "source": [
        "[MulticlassClassificationEvaluator](https://spark.apache.org/docs/latest/api/python/reference/api/pyspark.ml.evaluation.MulticlassClassificationEvaluator.html)"
      ]
    },
    {
      "cell_type": "code",
      "execution_count": null,
      "metadata": {
        "application/vnd.databricks.v1+cell": {
          "inputWidgets": {},
          "nuid": "ac810e2f-ba8e-4ab2-b03c-5c178b077928",
          "showTitle": false,
          "title": ""
        },
        "collapsed": true,
        "id": "34dOMLh9MLGT"
      },
      "outputs": [],
      "source": [
        "# Se evalúa el real contra el predicho calculando el error en la porción de prueba\n",
        "f1_evaluator = MulticlassClassificationEvaluator(labelCol=\"PrivateIndex\", predictionCol=\"prediction\", metricName=\"f1\")\n",
        "# acc_evaluator = MulticlassClassificationEvaluator(labelCol=\"PrivateIndex\", predictionCol=\"prediction\", metricName=\"accuracy\")"
      ]
    },
    {
      "cell_type": "code",
      "execution_count": null,
      "metadata": {
        "application/vnd.databricks.v1+cell": {
          "inputWidgets": {},
          "nuid": "43ea0e4c-5e69-4682-bd3c-32acc97868bb",
          "showTitle": false,
          "title": ""
        },
        "id": "Nd77dJ2-MLGT"
      },
      "outputs": [],
      "source": [
        "import numpy as np"
      ]
    },
    {
      "cell_type": "code",
      "execution_count": null,
      "metadata": {
        "application/vnd.databricks.v1+cell": {
          "inputWidgets": {},
          "nuid": "41fe02ff-0861-46f5-ba88-6502de9a3cf7",
          "showTitle": false,
          "title": ""
        },
        "id": "85FBrE3oMLGT"
      },
      "outputs": [],
      "source": [
        "dtc_f1 = f1_evaluator.evaluate(dtc_predictions)\n",
        "rfc_f1 = f1_evaluator.evaluate(rfc_predictions)\n",
        "gbt_f1 = f1_evaluator.evaluate(gbt_predictions)"
      ]
    },
    {
      "cell_type": "code",
      "execution_count": null,
      "metadata": {
        "application/vnd.databricks.v1+cell": {
          "inputWidgets": {},
          "nuid": "a3ddb11d-0116-46d9-8c12-2ab93a2f95df",
          "showTitle": false,
          "title": ""
        },
        "id": "EKXfDzPYMLGT"
      },
      "outputs": [],
      "source": [
        "print(f\"F1-score: Decisión Tree: {np.round(dtc_f1, 2)}\")\n",
        "print(f\"F1-score: Random Forest: {np.round(rfc_f1, 2)}\")\n",
        "print(f\"F1-score: Grad Boosting: {np.round(gbt_f1, 2)}\")"
      ]
    }
  ],
  "metadata": {
    "anaconda-cloud": {},
    "application/vnd.databricks.v1+notebook": {
      "dashboards": [],
      "language": "python",
      "notebookMetadata": {
        "pythonIndentUnit": 4
      },
      "notebookName": "4.6.6 Ensambles",
      "notebookOrigID": 267889027353186,
      "widgets": {}
    },
    "kernelspec": {
      "display_name": "Python [conda root]",
      "language": "python",
      "name": "conda-root-py"
    },
    "language_info": {
      "codemirror_mode": {
        "name": "ipython",
        "version": 3
      },
      "file_extension": ".py",
      "mimetype": "text/x-python",
      "name": "python",
      "nbconvert_exporter": "python",
      "pygments_lexer": "ipython3",
      "version": "3.5.3"
    },
    "colab": {
      "provenance": [],
      "include_colab_link": true
    }
  },
  "nbformat": 4,
  "nbformat_minor": 0
}