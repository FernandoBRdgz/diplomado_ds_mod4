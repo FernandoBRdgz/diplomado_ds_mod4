{
  "cells": [
    {
      "cell_type": "markdown",
      "metadata": {
        "id": "view-in-github",
        "colab_type": "text"
      },
      "source": [
        "<a href=\"https://colab.research.google.com/github/FernandoBRdgz/diplomado_ds_mod4/blob/main/4.6%20Modelaci%C3%B3n%20supervisada%20y%20no%20supervisada%20de%20Big%20Data/4.6.1%20Spark%20MLlib.ipynb\" target=\"_parent\"><img src=\"https://colab.research.google.com/assets/colab-badge.svg\" alt=\"Open In Colab\"/></a>"
      ]
    },
    {
      "cell_type": "markdown",
      "metadata": {
        "application/vnd.databricks.v1+cell": {
          "inputWidgets": {},
          "nuid": "a75e5b7a-a6fd-41ff-90d2-3b6314baf482",
          "showTitle": false,
          "title": ""
        },
        "id": "C-XYE3PqQ9mL"
      },
      "source": [
        "## Ejemplo Introductorio"
      ]
    },
    {
      "cell_type": "code",
      "execution_count": null,
      "metadata": {
        "application/vnd.databricks.v1+cell": {
          "inputWidgets": {},
          "nuid": "cd34d1cd-4045-4d47-a8c1-ba0d388c6063",
          "showTitle": false,
          "title": ""
        },
        "id": "tvVnW4mEnGE-"
      },
      "outputs": [],
      "source": [
        "generation = \"mod4gen<x>\""
      ]
    },
    {
      "cell_type": "code",
      "execution_count": null,
      "metadata": {
        "application/vnd.databricks.v1+cell": {
          "inputWidgets": {},
          "nuid": "6c25dbcb-ec45-456f-86a3-a81b42d79a1e",
          "showTitle": false,
          "title": ""
        },
        "collapsed": true,
        "id": "ni0pGeu1Q9mU"
      },
      "outputs": [],
      "source": [
        "data = spark.read.format(\"libsvm\").load(f\"/mnt/{generation}/input/sample_linear_regression_data.txt\", inferSchema=True, header=True)"
      ]
    },
    {
      "cell_type": "code",
      "execution_count": null,
      "metadata": {
        "application/vnd.databricks.v1+cell": {
          "inputWidgets": {},
          "nuid": "3263a7fe-d67e-45fd-8f4f-48a2ea1a7613",
          "showTitle": false,
          "title": ""
        },
        "id": "ifhKdtUdnGE_"
      },
      "outputs": [],
      "source": [
        "data.count(), data.columns"
      ]
    },
    {
      "cell_type": "markdown",
      "metadata": {
        "application/vnd.databricks.v1+cell": {
          "inputWidgets": {},
          "nuid": "222c1529-77d9-4a16-914a-3c15ca63b2a4",
          "showTitle": false,
          "title": ""
        },
        "id": "xaJTfWb1Q9mU"
      },
      "source": [
        "Es común en la práctica tener datos de entrenamiento poco densos. MLlib admite la lectura de registros de entrenamiento almacenados en formato `LIBSVM`, que es un formato de texto predeterminado en el que cada línea representa un vector de características dispersas etiquetadas."
      ]
    },
    {
      "cell_type": "code",
      "execution_count": null,
      "metadata": {
        "application/vnd.databricks.v1+cell": {
          "inputWidgets": {},
          "nuid": "9ca7d21b-1226-4558-a95f-42213aa5cc9d",
          "showTitle": false,
          "title": ""
        },
        "id": "Hh2L_1pVQ9mV"
      },
      "outputs": [],
      "source": [
        "data.display()"
      ]
    },
    {
      "cell_type": "code",
      "execution_count": null,
      "metadata": {
        "application/vnd.databricks.v1+cell": {
          "inputWidgets": {},
          "nuid": "cbac88cf-208c-436a-8eeb-1555024f441e",
          "showTitle": false,
          "title": ""
        },
        "id": "l8-oHHOvnGFA"
      },
      "outputs": [],
      "source": [
        "data.show()"
      ]
    },
    {
      "cell_type": "code",
      "execution_count": null,
      "metadata": {
        "application/vnd.databricks.v1+cell": {
          "inputWidgets": {},
          "nuid": "8e9705aa-9c3c-4c45-9ad7-ade5e49f5952",
          "showTitle": false,
          "title": ""
        },
        "id": "x24tiQtNnGFB"
      },
      "outputs": [],
      "source": [
        "type(data)"
      ]
    },
    {
      "cell_type": "code",
      "execution_count": null,
      "metadata": {
        "application/vnd.databricks.v1+cell": {
          "inputWidgets": {},
          "nuid": "e378524f-c060-442e-b27f-c37d7c7f763c",
          "showTitle": false,
          "title": ""
        },
        "id": "ljEu9ey7Q9md"
      },
      "outputs": [],
      "source": [
        "# Train/val split\n",
        "train, val = data.randomSplit([0.8, 0.2])"
      ]
    },
    {
      "cell_type": "code",
      "execution_count": null,
      "metadata": {
        "application/vnd.databricks.v1+cell": {
          "inputWidgets": {},
          "nuid": "34fd36bd-d817-4496-a95b-2d3003f6dc7a",
          "showTitle": false,
          "title": ""
        },
        "id": "0j5dfUh1nGFB"
      },
      "outputs": [],
      "source": [
        "train.count(), val.count()"
      ]
    },
    {
      "cell_type": "code",
      "execution_count": null,
      "metadata": {
        "application/vnd.databricks.v1+cell": {
          "inputWidgets": {},
          "nuid": "eaf7a9c7-1a39-4b5b-8797-3c150587a874",
          "showTitle": false,
          "title": ""
        },
        "id": "omeXsNkOQ9md"
      },
      "outputs": [],
      "source": [
        "train.show()"
      ]
    },
    {
      "cell_type": "code",
      "execution_count": null,
      "metadata": {
        "application/vnd.databricks.v1+cell": {
          "inputWidgets": {},
          "nuid": "feac9ddf-53b1-401d-b48f-3fe6273ffaf5",
          "showTitle": false,
          "title": ""
        },
        "id": "LD0LsxFtQ9me"
      },
      "outputs": [],
      "source": [
        "val.show()"
      ]
    },
    {
      "cell_type": "code",
      "execution_count": null,
      "metadata": {
        "application/vnd.databricks.v1+cell": {
          "inputWidgets": {},
          "nuid": "84d519ab-a381-4afd-bf00-0329e8b6ef55",
          "showTitle": false,
          "title": ""
        },
        "collapsed": true,
        "id": "_Ds2NQaRQ9me"
      },
      "outputs": [],
      "source": [
        "unlabeled_val = val.select(\"features\")"
      ]
    },
    {
      "cell_type": "code",
      "execution_count": null,
      "metadata": {
        "application/vnd.databricks.v1+cell": {
          "inputWidgets": {},
          "nuid": "6600c4c5-d283-4f81-a943-37695ac7cce0",
          "showTitle": false,
          "title": ""
        },
        "id": "nWc3_pFXQ9mf"
      },
      "outputs": [],
      "source": [
        "unlabeled_val.show()"
      ]
    },
    {
      "cell_type": "markdown",
      "metadata": {
        "application/vnd.databricks.v1+cell": {
          "inputWidgets": {},
          "nuid": "6651dfa9-e215-4783-9e89-45e200e17bc6",
          "showTitle": false,
          "title": ""
        },
        "id": "9SOZdU0BQ9mW"
      },
      "source": [
        "El formato que espera Spark MLlib son dos columnas, una con la variable objetivo y otra con el listado de variables.\n",
        "\n",
        "La columna asociada a la variable objetivo debe ser de tipo numérico, ya sea un valor continuo para regresión o un valor discreto que coincida con una categoría de clasificación. Más adelante hablaremos de algoritmos de aprendizaje no supervisado que por su naturaleza no utilizan ni requieren etiquetas.\n",
        "\n",
        "La columna de características tiene dentro un vector con todas las variables que pertenecen a esa fila. Por lo general, lo que se suele hacer es combinar las diversas variables con las que contamos en una sola columna de características."
      ]
    },
    {
      "cell_type": "code",
      "execution_count": null,
      "metadata": {
        "application/vnd.databricks.v1+cell": {
          "inputWidgets": {},
          "nuid": "f0fba456-eb8f-40db-9ee4-ca9c73d91f5c",
          "showTitle": false,
          "title": ""
        },
        "collapsed": true,
        "id": "DGrtGsp1Q9mT"
      },
      "outputs": [],
      "source": [
        "from pyspark.ml.regression import LinearRegression"
      ]
    },
    {
      "cell_type": "code",
      "execution_count": null,
      "metadata": {
        "application/vnd.databricks.v1+cell": {
          "inputWidgets": {},
          "nuid": "23c4993a-ca07-4199-9a59-9b984e5d3698",
          "showTitle": false,
          "title": ""
        },
        "id": "TfdQQTOEnGFD"
      },
      "outputs": [],
      "source": [
        "help(LinearRegression)"
      ]
    },
    {
      "cell_type": "code",
      "execution_count": null,
      "metadata": {
        "application/vnd.databricks.v1+cell": {
          "inputWidgets": {},
          "nuid": "852f146b-962c-4477-8936-1a8006cc2de4",
          "showTitle": false,
          "title": ""
        },
        "collapsed": true,
        "id": "-_zs_rpHQ9mX"
      },
      "outputs": [],
      "source": [
        "# Estos son los valores predeterminados para 'featuresCol', 'labelCol' y 'predictionCol'\n",
        "lr = LinearRegression(featuresCol=\"features\", labelCol=\"label\", predictionCol=\"prediction\")"
      ]
    },
    {
      "cell_type": "code",
      "execution_count": null,
      "metadata": {
        "application/vnd.databricks.v1+cell": {
          "inputWidgets": {},
          "nuid": "8405209c-1a70-4397-9363-7ba12533cc90",
          "showTitle": false,
          "title": ""
        },
        "collapsed": true,
        "id": "7rmsiI9eQ9mY"
      },
      "outputs": [],
      "source": [
        "# Entrenamiento de modelo\n",
        "lr_model = lr.fit(train)"
      ]
    },
    {
      "cell_type": "code",
      "execution_count": null,
      "metadata": {
        "application/vnd.databricks.v1+cell": {
          "inputWidgets": {},
          "nuid": "d0b4c12c-e96a-45eb-9246-5b1330d79692",
          "showTitle": false,
          "title": ""
        },
        "id": "PZps1XeDQ9mY"
      },
      "outputs": [],
      "source": [
        "# Imprime los coeficientes y el intercepto para la regresión lineal\n",
        "print(\"Coefficientes: {}\".format(str(lr_model.coefficients)))\n",
        "print(\"Intercepto:{}\".format(str(lr_model.intercept)))"
      ]
    },
    {
      "cell_type": "code",
      "execution_count": null,
      "metadata": {
        "application/vnd.databricks.v1+cell": {
          "inputWidgets": {},
          "nuid": "bc7027f4-23e9-4ed0-9e68-0244cd2f7b05",
          "showTitle": false,
          "title": ""
        },
        "collapsed": true,
        "id": "NpfpTzyiQ9ma"
      },
      "outputs": [],
      "source": [
        "# Resumen del modelo\n",
        "train_results = lr_model.summary"
      ]
    },
    {
      "cell_type": "code",
      "execution_count": null,
      "metadata": {
        "application/vnd.databricks.v1+cell": {
          "inputWidgets": {},
          "nuid": "caa5071f-7979-4f2b-805d-a17d0f2d8765",
          "showTitle": false,
          "title": ""
        },
        "id": "dOTPQZjwnGFE"
      },
      "outputs": [],
      "source": [
        "type(train_results)"
      ]
    },
    {
      "cell_type": "code",
      "execution_count": null,
      "metadata": {
        "application/vnd.databricks.v1+cell": {
          "inputWidgets": {},
          "nuid": "066f7627-934f-4c0f-a1de-246e4e07e49a",
          "showTitle": false,
          "title": ""
        },
        "id": "u1zZU6fynGFE"
      },
      "outputs": [],
      "source": [
        "train_results.residuals.display()"
      ]
    },
    {
      "cell_type": "code",
      "execution_count": null,
      "metadata": {
        "application/vnd.databricks.v1+cell": {
          "inputWidgets": {},
          "nuid": "91dc339e-bff1-40b1-ba03-5a107220cbb2",
          "showTitle": false,
          "title": ""
        },
        "id": "9g2R79VaQ9mi"
      },
      "outputs": [],
      "source": [
        "# Predicciones\n",
        "predictions = lr_model.transform(unlabeled_val)"
      ]
    },
    {
      "cell_type": "code",
      "execution_count": null,
      "metadata": {
        "application/vnd.databricks.v1+cell": {
          "inputWidgets": {},
          "nuid": "d22cd273-f999-4443-a2db-fd28eb57c7d0",
          "showTitle": false,
          "title": ""
        },
        "id": "uonhs5N3Q9mi"
      },
      "outputs": [],
      "source": [
        "predictions.show()"
      ]
    },
    {
      "cell_type": "code",
      "execution_count": null,
      "metadata": {
        "application/vnd.databricks.v1+cell": {
          "inputWidgets": {},
          "nuid": "cf9460c2-7d50-4391-92ad-0358e4a731ff",
          "showTitle": false,
          "title": ""
        },
        "id": "zUYVigjzQ9mh"
      },
      "outputs": [],
      "source": [
        "val_results = lr_model.evaluate(val)"
      ]
    },
    {
      "cell_type": "code",
      "execution_count": null,
      "metadata": {
        "application/vnd.databricks.v1+cell": {
          "inputWidgets": {},
          "nuid": "9d51eda4-d507-4973-bb77-ac05a7a63afd",
          "showTitle": false,
          "title": ""
        },
        "id": "3kYWVqBfQ9ma"
      },
      "outputs": [],
      "source": [
        "# Evaluación train\n",
        "print(\"RMSE: {}\".format(train_results.rootMeanSquaredError))\n",
        "print(\"r2: {}\".format(train_results.r2))"
      ]
    },
    {
      "cell_type": "code",
      "execution_count": null,
      "metadata": {
        "application/vnd.databricks.v1+cell": {
          "inputWidgets": {},
          "nuid": "7b188d92-895b-486c-a422-8783c549c3dc",
          "showTitle": false,
          "title": ""
        },
        "id": "ZnzHntjrnGFF"
      },
      "outputs": [],
      "source": [
        "# Evaluación test\n",
        "print(\"RMSE: {}\".format(val_results.rootMeanSquaredError))\n",
        "print(\"r2: {}\".format(val_results.r2))"
      ]
    }
  ],
  "metadata": {
    "anaconda-cloud": {},
    "application/vnd.databricks.v1+notebook": {
      "dashboards": [],
      "language": "python",
      "notebookMetadata": {
        "pythonIndentUnit": 4
      },
      "notebookName": "4.6.1 Spark MLlib",
      "notebookOrigID": 267889027353015,
      "widgets": {}
    },
    "colab": {
      "provenance": [],
      "include_colab_link": true
    },
    "kernelspec": {
      "display_name": "Python [conda root]",
      "language": "python",
      "name": "conda-root-py"
    },
    "language_info": {
      "codemirror_mode": {
        "name": "ipython",
        "version": 3
      },
      "file_extension": ".py",
      "mimetype": "text/x-python",
      "name": "python",
      "nbconvert_exporter": "python",
      "pygments_lexer": "ipython3",
      "version": "3.5.3"
    }
  },
  "nbformat": 4,
  "nbformat_minor": 0
}