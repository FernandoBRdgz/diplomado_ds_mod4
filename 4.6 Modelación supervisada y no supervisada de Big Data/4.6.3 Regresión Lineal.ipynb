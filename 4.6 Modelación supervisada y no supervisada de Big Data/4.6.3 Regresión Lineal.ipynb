{
  "cells": [
    {
      "cell_type": "markdown",
      "metadata": {
        "id": "view-in-github",
        "colab_type": "text"
      },
      "source": [
        "<a href=\"https://colab.research.google.com/github/FernandoBRdgz/diplomado_ds_mod4/blob/main/4.6%20Modelaci%C3%B3n%20supervisada%20y%20no%20supervisada%20de%20Big%20Data/4.6.3%20Regresi%C3%B3n%20Lineal.ipynb\" target=\"_parent\"><img src=\"https://colab.research.google.com/assets/colab-badge.svg\" alt=\"Open In Colab\"/></a>"
      ]
    },
    {
      "cell_type": "markdown",
      "metadata": {
        "application/vnd.databricks.v1+cell": {
          "inputWidgets": {},
          "nuid": "dca97c91-084d-44d8-9899-451554041186",
          "showTitle": false,
          "title": ""
        },
        "id": "ngyNHi0hRLBV"
      },
      "source": [
        "## Regresión Lineal"
      ]
    },
    {
      "cell_type": "markdown",
      "metadata": {
        "application/vnd.databricks.v1+cell": {
          "inputWidgets": {},
          "nuid": "f27774c3-e046-4c6c-b7ef-a11c02b93b8d",
          "showTitle": false,
          "title": ""
        },
        "id": "_5se-9DqRLBY"
      },
      "source": [
        "Se desea examinar un conjunto de datos de clientes de e-commerce para el sitio web y la aplicación móvil de una empresa y se busca construir un modelo de regresión que prediga el gasto anual del cliente en el producto de la empresa."
      ]
    },
    {
      "cell_type": "code",
      "execution_count": null,
      "metadata": {
        "application/vnd.databricks.v1+cell": {
          "inputWidgets": {},
          "nuid": "328ee13f-cabd-429e-97cd-9ed50697d34e",
          "showTitle": false,
          "title": ""
        },
        "id": "OrYW4kDgLngA"
      },
      "outputs": [],
      "source": [
        "generation = \"mod4gen<x>\""
      ]
    },
    {
      "cell_type": "code",
      "execution_count": null,
      "metadata": {
        "application/vnd.databricks.v1+cell": {
          "inputWidgets": {},
          "nuid": "780d9e83-79d9-4e15-bf3e-87e03a583feb",
          "showTitle": false,
          "title": ""
        },
        "collapsed": true,
        "id": "Rkw9uza-RLBb"
      },
      "outputs": [],
      "source": [
        "data = spark.read.csv(f\"/mnt/{generation}/input/ecommerce_customers.csv\", inferSchema=True, header=True)"
      ]
    },
    {
      "cell_type": "code",
      "execution_count": null,
      "metadata": {
        "application/vnd.databricks.v1+cell": {
          "inputWidgets": {},
          "nuid": "34b185b6-00b3-4391-9897-bc9d503d67ca",
          "showTitle": false,
          "title": ""
        },
        "id": "pgDPWXp7RLBc"
      },
      "outputs": [],
      "source": [
        "# Print the Schema of the DataFrame\n",
        "data.printSchema()"
      ]
    },
    {
      "cell_type": "code",
      "execution_count": null,
      "metadata": {
        "application/vnd.databricks.v1+cell": {
          "inputWidgets": {},
          "nuid": "4b2e7aee-c2cd-4c70-86a3-0353ae44f61a",
          "showTitle": false,
          "title": ""
        },
        "id": "u7ZcjyWJRLBd"
      },
      "outputs": [],
      "source": [
        "data.display()"
      ]
    },
    {
      "cell_type": "code",
      "execution_count": null,
      "metadata": {
        "application/vnd.databricks.v1+cell": {
          "inputWidgets": {},
          "nuid": "e71c2837-2f67-445a-8f78-ddd3454c0cc9",
          "showTitle": false,
          "title": ""
        },
        "id": "3VZXF9BORLBe"
      },
      "outputs": [],
      "source": [
        "data.head()"
      ]
    },
    {
      "cell_type": "code",
      "execution_count": null,
      "metadata": {
        "application/vnd.databricks.v1+cell": {
          "inputWidgets": {},
          "nuid": "7212cc55-9f8b-4063-95b0-db2caf473f62",
          "showTitle": false,
          "title": ""
        },
        "id": "dgsg3xJyRLBe"
      },
      "outputs": [],
      "source": [
        "for item in data.head():\n",
        "    print(item)"
      ]
    },
    {
      "cell_type": "markdown",
      "metadata": {
        "application/vnd.databricks.v1+cell": {
          "inputWidgets": {},
          "nuid": "d5d3a0ab-951a-4063-baed-80191f8adcd6",
          "showTitle": false,
          "title": ""
        },
        "id": "3-s86nESLngF"
      },
      "source": [
        "#### VectorAssembler\n",
        "\n",
        "Se requiere aplicar algunas transformaciones antes de que Spark pueda modelar. Nuestro DataFrame debe contar con dos columnas de la forma `(\"target\", \"features\")`"
      ]
    },
    {
      "cell_type": "code",
      "execution_count": null,
      "metadata": {
        "application/vnd.databricks.v1+cell": {
          "inputWidgets": {},
          "nuid": "7389a598-37f2-4f17-aa9c-68ba53272c63",
          "showTitle": false,
          "title": ""
        },
        "collapsed": true,
        "id": "rNFKh3nIRLBf"
      },
      "outputs": [],
      "source": [
        "from pyspark.ml.feature import VectorAssembler"
      ]
    },
    {
      "cell_type": "code",
      "execution_count": null,
      "metadata": {
        "application/vnd.databricks.v1+cell": {
          "inputWidgets": {},
          "nuid": "28aaa291-49d8-4533-9e3e-c11e24b79674",
          "showTitle": false,
          "title": ""
        },
        "id": "_wIsIAWLRLBg"
      },
      "outputs": [],
      "source": [
        "data.columns"
      ]
    },
    {
      "cell_type": "code",
      "execution_count": null,
      "metadata": {
        "application/vnd.databricks.v1+cell": {
          "inputWidgets": {},
          "nuid": "5339486d-5f38-4899-9bf1-f1481d62fc6a",
          "showTitle": false,
          "title": ""
        },
        "collapsed": true,
        "id": "0-9mTUXXRLBg"
      },
      "outputs": [],
      "source": [
        "assembler = VectorAssembler(inputCols=[\"Avg Session Length\", \"Time on App\", \"Time on Website\", \"Length of Membership\"], outputCol=\"features\")"
      ]
    },
    {
      "cell_type": "code",
      "execution_count": null,
      "metadata": {
        "application/vnd.databricks.v1+cell": {
          "inputWidgets": {},
          "nuid": "67e507dd-1d4f-4832-899b-221dab349420",
          "showTitle": false,
          "title": ""
        },
        "id": "QmErOpR7LngG"
      },
      "outputs": [],
      "source": [
        "type(assembler)"
      ]
    },
    {
      "cell_type": "code",
      "execution_count": null,
      "metadata": {
        "application/vnd.databricks.v1+cell": {
          "inputWidgets": {},
          "nuid": "010dbf0c-da12-48ac-ac36-8c62b7ad4d01",
          "showTitle": false,
          "title": ""
        },
        "id": "rYveKmtwRLBg"
      },
      "outputs": [],
      "source": [
        "output = assembler.transform(data)"
      ]
    },
    {
      "cell_type": "code",
      "execution_count": null,
      "metadata": {
        "application/vnd.databricks.v1+cell": {
          "inputWidgets": {},
          "nuid": "30f188db-612a-4e4c-be54-4b40394a833c",
          "showTitle": false,
          "title": ""
        },
        "id": "9FHpIOXnRLBg"
      },
      "outputs": [],
      "source": [
        "output.select(\"features\").show()"
      ]
    },
    {
      "cell_type": "code",
      "execution_count": null,
      "metadata": {
        "application/vnd.databricks.v1+cell": {
          "inputWidgets": {},
          "nuid": "3b227293-1082-4e39-9666-59a90a8a39c0",
          "showTitle": false,
          "title": ""
        },
        "id": "UyAIlHoxRLBh"
      },
      "outputs": [],
      "source": [
        "output.display()"
      ]
    },
    {
      "cell_type": "code",
      "execution_count": null,
      "metadata": {
        "application/vnd.databricks.v1+cell": {
          "inputWidgets": {},
          "nuid": "536b4475-42ac-42f0-a8b0-50b679607804",
          "showTitle": false,
          "title": ""
        },
        "collapsed": true,
        "id": "RFuIgsIFRLBh"
      },
      "outputs": [],
      "source": [
        "final_data = output.select(\"features\", \"Yearly Amount Spent\")"
      ]
    },
    {
      "cell_type": "code",
      "execution_count": null,
      "metadata": {
        "application/vnd.databricks.v1+cell": {
          "inputWidgets": {},
          "nuid": "783dcfc4-cf53-484e-8b9e-d8197c5b1500",
          "showTitle": false,
          "title": ""
        },
        "id": "u6h8UWAQLngI"
      },
      "outputs": [],
      "source": [
        "final_data.show()"
      ]
    },
    {
      "cell_type": "code",
      "execution_count": null,
      "metadata": {
        "application/vnd.databricks.v1+cell": {
          "inputWidgets": {},
          "nuid": "e2b6ad63-6f85-4913-89e4-82b04b6fcd43",
          "showTitle": false,
          "title": ""
        },
        "collapsed": true,
        "id": "MiPzUE3vRLBh"
      },
      "outputs": [],
      "source": [
        "train_data, val_data = final_data.randomSplit([0.7, 0.3])"
      ]
    },
    {
      "cell_type": "code",
      "execution_count": null,
      "metadata": {
        "application/vnd.databricks.v1+cell": {
          "inputWidgets": {},
          "nuid": "3d9ea575-d28c-46c3-b249-67ba3031c099",
          "showTitle": false,
          "title": ""
        },
        "id": "WtNuORgpRLBh"
      },
      "outputs": [],
      "source": [
        "train_data.describe().show()"
      ]
    },
    {
      "cell_type": "code",
      "execution_count": null,
      "metadata": {
        "application/vnd.databricks.v1+cell": {
          "inputWidgets": {},
          "nuid": "92f2a18e-cf89-4e89-9afd-6a3a5f972b9e",
          "showTitle": false,
          "title": ""
        },
        "id": "uKco_d1wRLBh"
      },
      "outputs": [],
      "source": [
        "val_data.describe().show()"
      ]
    },
    {
      "cell_type": "code",
      "execution_count": null,
      "metadata": {
        "application/vnd.databricks.v1+cell": {
          "inputWidgets": {},
          "nuid": "dca55490-cba1-4ba7-a6d8-08d869825035",
          "showTitle": false,
          "title": ""
        },
        "collapsed": true,
        "id": "kCk9pvylRLBb"
      },
      "outputs": [],
      "source": [
        "from pyspark.ml.regression import LinearRegression"
      ]
    },
    {
      "cell_type": "code",
      "execution_count": null,
      "metadata": {
        "application/vnd.databricks.v1+cell": {
          "inputWidgets": {},
          "nuid": "d0cbe944-5691-4c75-847f-95e0024fcf65",
          "showTitle": false,
          "title": ""
        },
        "id": "5SanT7oRRLBi"
      },
      "outputs": [],
      "source": [
        "# Se instancia el modelo LinearRegression\n",
        "lr = LinearRegression(labelCol=\"Yearly Amount Spent\")"
      ]
    },
    {
      "cell_type": "code",
      "execution_count": null,
      "metadata": {
        "application/vnd.databricks.v1+cell": {
          "inputWidgets": {},
          "nuid": "a92cafa3-511d-4bb5-86d0-7fe4857295f6",
          "showTitle": false,
          "title": ""
        },
        "id": "W4PfD-y-LngJ"
      },
      "outputs": [],
      "source": [
        "type(lr)"
      ]
    },
    {
      "cell_type": "code",
      "execution_count": null,
      "metadata": {
        "application/vnd.databricks.v1+cell": {
          "inputWidgets": {},
          "nuid": "89b18e73-f5e5-4e3a-bdc1-6b029eecc89a",
          "showTitle": false,
          "title": ""
        },
        "id": "2QvaKMH9RLBi"
      },
      "outputs": [],
      "source": [
        "# Ajuste del modelo\n",
        "lr_model = lr.fit(train_data)"
      ]
    },
    {
      "cell_type": "code",
      "execution_count": null,
      "metadata": {
        "application/vnd.databricks.v1+cell": {
          "inputWidgets": {},
          "nuid": "f6364505-b10e-4168-9c36-0de39de3fdec",
          "showTitle": false,
          "title": ""
        },
        "id": "DhiSws_gRLBi"
      },
      "outputs": [],
      "source": [
        "# Coeficientes y el intercepto de la regresión lineal\n",
        "print(f\"Coefficients: {lr_model.coefficients} Intercept: {lr_model.intercept}\")"
      ]
    },
    {
      "cell_type": "code",
      "execution_count": null,
      "metadata": {
        "application/vnd.databricks.v1+cell": {
          "inputWidgets": {},
          "nuid": "d06e289d-ad6e-4ee0-a07b-757d5b86158a",
          "showTitle": false,
          "title": ""
        },
        "id": "hYKF-8gCRLBj"
      },
      "outputs": [],
      "source": [
        "# Evaluación del modelo\n",
        "val_results = lr_model.evaluate(val_data)"
      ]
    },
    {
      "cell_type": "code",
      "execution_count": null,
      "metadata": {
        "application/vnd.databricks.v1+cell": {
          "inputWidgets": {},
          "nuid": "def3276b-94c5-40c7-b752-450452954a17",
          "showTitle": false,
          "title": ""
        },
        "id": "e6xd0WvYLngL"
      },
      "outputs": [],
      "source": [
        "type(val_results)"
      ]
    },
    {
      "cell_type": "code",
      "execution_count": null,
      "metadata": {
        "application/vnd.databricks.v1+cell": {
          "inputWidgets": {},
          "nuid": "b401b4dc-3ae0-4e45-b478-a798de441b44",
          "showTitle": false,
          "title": ""
        },
        "id": "HLMAtQ6NRLBj"
      },
      "outputs": [],
      "source": [
        "val_results.residuals.show()"
      ]
    },
    {
      "cell_type": "code",
      "execution_count": null,
      "metadata": {
        "application/vnd.databricks.v1+cell": {
          "inputWidgets": {},
          "nuid": "00a21353-8690-4e91-a62b-4cff75e2dc2b",
          "showTitle": false,
          "title": ""
        },
        "collapsed": true,
        "id": "l0w6HtNhRLBj"
      },
      "outputs": [],
      "source": [
        "unlabeled_data = val_data.select(\"features\")"
      ]
    },
    {
      "cell_type": "code",
      "execution_count": null,
      "metadata": {
        "application/vnd.databricks.v1+cell": {
          "inputWidgets": {},
          "nuid": "e0d6495b-ce57-4f68-82ab-93f3e9ab06df",
          "showTitle": false,
          "title": ""
        },
        "id": "ZoN3aBVnRLBk"
      },
      "outputs": [],
      "source": [
        "predictions = lr_model.transform(unlabeled_data)"
      ]
    },
    {
      "cell_type": "code",
      "execution_count": null,
      "metadata": {
        "application/vnd.databricks.v1+cell": {
          "inputWidgets": {},
          "nuid": "d3ddbf67-ba39-4b4e-aae3-0c71604849e4",
          "showTitle": false,
          "title": ""
        },
        "id": "6-mGtpLgRLBk"
      },
      "outputs": [],
      "source": [
        "predictions.show()"
      ]
    },
    {
      "cell_type": "code",
      "execution_count": null,
      "metadata": {
        "application/vnd.databricks.v1+cell": {
          "inputWidgets": {},
          "nuid": "3c4ff331-34d6-4b34-a9ee-332720d23dc0",
          "showTitle": false,
          "title": ""
        },
        "id": "IjVgBSIbLngM"
      },
      "outputs": [],
      "source": [
        "val_data.show()"
      ]
    },
    {
      "cell_type": "code",
      "execution_count": null,
      "metadata": {
        "application/vnd.databricks.v1+cell": {
          "inputWidgets": {},
          "nuid": "448bb7b8-4c53-47b3-96a6-cffeece3bef6",
          "showTitle": false,
          "title": ""
        },
        "id": "KLuulNjFLngM"
      },
      "outputs": [],
      "source": [
        "final_df = val_data.join(predictions, on=\"features\", how=\"inner\")"
      ]
    },
    {
      "cell_type": "code",
      "execution_count": null,
      "metadata": {
        "application/vnd.databricks.v1+cell": {
          "inputWidgets": {},
          "nuid": "363cd7f1-c70b-416d-98fc-8bf464c0c7ad",
          "showTitle": false,
          "title": ""
        },
        "id": "L1SBgQNpLngN"
      },
      "outputs": [],
      "source": [
        "final_df.select(\"Yearly Amount Spent\", \"prediction\").display()"
      ]
    },
    {
      "cell_type": "code",
      "execution_count": null,
      "metadata": {
        "application/vnd.databricks.v1+cell": {
          "inputWidgets": {},
          "nuid": "c81ea9a2-33a0-4e9c-b443-86df40fac5d6",
          "showTitle": false,
          "title": ""
        },
        "id": "WJjkmoJBLngN"
      },
      "outputs": [],
      "source": [
        "final_df.select(\"Yearly Amount Spent\", \"prediction\").display()"
      ]
    },
    {
      "cell_type": "code",
      "execution_count": null,
      "metadata": {
        "application/vnd.databricks.v1+cell": {
          "inputWidgets": {},
          "nuid": "dd26c61f-a259-4db8-b691-c39b5746522d",
          "showTitle": false,
          "title": ""
        },
        "id": "ySqnz0BPLngN"
      },
      "outputs": [],
      "source": [
        "print(f\"R2: {val_results.r2}\")\n",
        "print(f\"MAE: {val_results.meanAbsoluteError}\")\n",
        "print(f\"RMSE: {val_results.rootMeanSquaredError}\")"
      ]
    }
  ],
  "metadata": {
    "anaconda-cloud": {},
    "application/vnd.databricks.v1+notebook": {
      "dashboards": [],
      "language": "python",
      "notebookMetadata": {
        "pythonIndentUnit": 4
      },
      "notebookName": "4.6.3 Regresión Lineal",
      "notebookOrigID": 267889027353063,
      "widgets": {}
    },
    "colab": {
      "provenance": [],
      "include_colab_link": true
    },
    "kernelspec": {
      "display_name": "Python [conda root]",
      "language": "python",
      "name": "conda-root-py"
    },
    "language_info": {
      "codemirror_mode": {
        "name": "ipython",
        "version": 3
      },
      "file_extension": ".py",
      "mimetype": "text/x-python",
      "name": "python",
      "nbconvert_exporter": "python",
      "pygments_lexer": "ipython3",
      "version": "3.5.3"
    }
  },
  "nbformat": 4,
  "nbformat_minor": 0
}