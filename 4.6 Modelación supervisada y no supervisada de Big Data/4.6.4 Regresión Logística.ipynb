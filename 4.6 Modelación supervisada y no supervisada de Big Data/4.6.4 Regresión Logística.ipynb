{
  "cells": [
    {
      "cell_type": "markdown",
      "metadata": {
        "id": "view-in-github",
        "colab_type": "text"
      },
      "source": [
        "<a href=\"https://colab.research.google.com/github/FernandoBRdgz/diplomado_ds_mod4/blob/main/4.6%20Modelaci%C3%B3n%20supervisada%20y%20no%20supervisada%20de%20Big%20Data/4.6.4%20Regresi%C3%B3n%20Log%C3%ADstica.ipynb\" target=\"_parent\"><img src=\"https://colab.research.google.com/assets/colab-badge.svg\" alt=\"Open In Colab\"/></a>"
      ]
    },
    {
      "cell_type": "markdown",
      "metadata": {
        "application/vnd.databricks.v1+cell": {
          "inputWidgets": {},
          "nuid": "ad55773d-4b0e-4895-8bfd-73ef828deaa9",
          "showTitle": false,
          "title": ""
        },
        "id": "r6Q-0OoFL88a"
      },
      "source": [
        "### Regresión Logística"
      ]
    },
    {
      "cell_type": "code",
      "execution_count": null,
      "metadata": {
        "application/vnd.databricks.v1+cell": {
          "inputWidgets": {},
          "nuid": "b9371832-cde3-48a2-b008-4f50107edb98",
          "showTitle": false,
          "title": ""
        },
        "id": "uYhZ8Om3L88d"
      },
      "outputs": [],
      "source": [
        "generation = \"mod4gen<x>\""
      ]
    },
    {
      "cell_type": "code",
      "execution_count": null,
      "metadata": {
        "application/vnd.databricks.v1+cell": {
          "inputWidgets": {},
          "nuid": "3f1e6bf3-1768-43e5-881d-c055ce67bada",
          "showTitle": false,
          "title": ""
        },
        "collapsed": true,
        "id": "xq_XVSvHL88e"
      },
      "outputs": [],
      "source": [
        "data = spark.read.csv(f\"/mnt/{generation}/input/titanic.csv\", inferSchema=True, header=True)"
      ]
    },
    {
      "cell_type": "code",
      "execution_count": null,
      "metadata": {
        "application/vnd.databricks.v1+cell": {
          "inputWidgets": {},
          "nuid": "0f948e34-380c-4c42-9ffd-0bb7142515f7",
          "showTitle": false,
          "title": ""
        },
        "id": "bYMufUW3L88f"
      },
      "outputs": [],
      "source": [
        "data.count(), len(data.columns)"
      ]
    },
    {
      "cell_type": "code",
      "execution_count": null,
      "metadata": {
        "application/vnd.databricks.v1+cell": {
          "inputWidgets": {},
          "nuid": "73e217e9-fdef-4110-8445-1be2834bdf27",
          "showTitle": false,
          "title": ""
        },
        "id": "yhMpNEqyL88f"
      },
      "outputs": [],
      "source": [
        "data.printSchema()"
      ]
    },
    {
      "cell_type": "code",
      "execution_count": null,
      "metadata": {
        "application/vnd.databricks.v1+cell": {
          "inputWidgets": {},
          "nuid": "bdd49ce3-6066-452b-b0d8-3c5a19b8e806",
          "showTitle": false,
          "title": ""
        },
        "id": "npgjw9SrL88f"
      },
      "outputs": [],
      "source": [
        "data.display()"
      ]
    },
    {
      "cell_type": "markdown",
      "metadata": {
        "application/vnd.databricks.v1+cell": {
          "inputWidgets": {},
          "nuid": "b0a8fad6-733d-42b4-bdb1-f71e9f0a8ebe",
          "showTitle": false,
          "title": ""
        },
        "id": "P24QGDhWL88f"
      },
      "source": [
        "**EDA**"
      ]
    },
    {
      "cell_type": "code",
      "execution_count": null,
      "metadata": {
        "application/vnd.databricks.v1+cell": {
          "inputWidgets": {},
          "nuid": "c934332e-a1d2-40e9-a13a-7e4ddcc33a71",
          "showTitle": false,
          "title": ""
        },
        "id": "ph6yfEpQL88g"
      },
      "outputs": [],
      "source": [
        "data.groupBy(\"Survived\").count().display()"
      ]
    },
    {
      "cell_type": "code",
      "execution_count": null,
      "metadata": {
        "application/vnd.databricks.v1+cell": {
          "inputWidgets": {},
          "nuid": "0fe2c253-2ad0-40f6-9737-3121f3405aba",
          "showTitle": false,
          "title": ""
        },
        "id": "Il8wAtamL88g"
      },
      "outputs": [],
      "source": [
        "data.groupBy(\"Survived\").count().display()"
      ]
    },
    {
      "cell_type": "code",
      "execution_count": null,
      "metadata": {
        "application/vnd.databricks.v1+cell": {
          "inputWidgets": {},
          "nuid": "1641997b-f328-4292-a548-a72f200f3f75",
          "showTitle": false,
          "title": ""
        },
        "id": "PIKChFr1L88g"
      },
      "outputs": [],
      "source": [
        "data.select(\"Sex\").display()"
      ]
    },
    {
      "cell_type": "code",
      "execution_count": null,
      "metadata": {
        "application/vnd.databricks.v1+cell": {
          "inputWidgets": {},
          "nuid": "bdd9a0ed-a4a6-4adf-9168-1c0d44e8acd0",
          "showTitle": false,
          "title": ""
        },
        "id": "9-cMH0hWL88h"
      },
      "outputs": [],
      "source": [
        "data.summary(\"count\", \"mean\", \"min\", \"10%\", \"20%\", \"30%\", \"40%\", \"50%\", \"60%\", \"70%\", \"80%\", \"90%\", \"max\").select(\"summary\", \"Age\", \"Fare\").display()"
      ]
    },
    {
      "cell_type": "code",
      "execution_count": null,
      "metadata": {
        "application/vnd.databricks.v1+cell": {
          "inputWidgets": {},
          "nuid": "9811373f-f990-444c-bae0-fcf01f3e1c28",
          "showTitle": false,
          "title": ""
        },
        "id": "GxIdD0z4L88h"
      },
      "outputs": [],
      "source": [
        "data.select(\"Age\").display()"
      ]
    },
    {
      "cell_type": "code",
      "execution_count": null,
      "metadata": {
        "application/vnd.databricks.v1+cell": {
          "inputWidgets": {},
          "nuid": "e8dc8c4e-7481-4a91-9ebf-faef55554e04",
          "showTitle": false,
          "title": ""
        },
        "id": "QysIBIolL88h"
      },
      "outputs": [],
      "source": [
        "data.select(\"Fare\").display()"
      ]
    },
    {
      "cell_type": "markdown",
      "metadata": {
        "application/vnd.databricks.v1+cell": {
          "inputWidgets": {},
          "nuid": "13641931-e809-449d-a405-34c748a69b5c",
          "showTitle": false,
          "title": ""
        },
        "id": "mlN911dVL88h"
      },
      "source": [
        "**Pre-procesamiento**"
      ]
    },
    {
      "cell_type": "code",
      "execution_count": null,
      "metadata": {
        "application/vnd.databricks.v1+cell": {
          "inputWidgets": {},
          "nuid": "5fbf797d-d6da-4e9b-8569-e070c24b4b13",
          "showTitle": false,
          "title": ""
        },
        "collapsed": true,
        "id": "L6vWQL_SL88h"
      },
      "outputs": [],
      "source": [
        "from pyspark.ml.feature import VectorAssembler, VectorIndexer, OneHotEncoder, StringIndexer"
      ]
    },
    {
      "cell_type": "code",
      "execution_count": null,
      "metadata": {
        "application/vnd.databricks.v1+cell": {
          "inputWidgets": {},
          "nuid": "9df3db0d-1c38-4173-8941-0ee12dd61ad8",
          "showTitle": false,
          "title": ""
        },
        "id": "_6tT7eEhL88i"
      },
      "outputs": [],
      "source": [
        "data.columns"
      ]
    },
    {
      "cell_type": "code",
      "execution_count": null,
      "metadata": {
        "application/vnd.databricks.v1+cell": {
          "inputWidgets": {},
          "nuid": "ff2c4dd8-f32e-4b80-9a82-807fa1052c39",
          "showTitle": false,
          "title": ""
        },
        "collapsed": true,
        "id": "EHR5cpQHL88i"
      },
      "outputs": [],
      "source": [
        "my_cols = data.select([\"Survived\", \"Pclass\", \"Sex\", \"Age\", \"SibSp\", \"Parch\", \"Fare\", \"Embarked\"])"
      ]
    },
    {
      "cell_type": "code",
      "execution_count": null,
      "metadata": {
        "application/vnd.databricks.v1+cell": {
          "inputWidgets": {},
          "nuid": "5a073e7a-f113-4f67-8ec5-df1c8f448aa7",
          "showTitle": false,
          "title": ""
        },
        "id": "-QnfbaJBL88i"
      },
      "outputs": [],
      "source": [
        "my_final_data = my_cols.na.drop()"
      ]
    },
    {
      "cell_type": "code",
      "execution_count": null,
      "metadata": {
        "application/vnd.databricks.v1+cell": {
          "inputWidgets": {},
          "nuid": "2869d364-0b6e-437d-8e2c-7c3373699f51",
          "showTitle": false,
          "title": ""
        },
        "collapsed": true,
        "id": "izvdlY6RL88i"
      },
      "outputs": [],
      "source": [
        "gender_indexer = StringIndexer(inputCol=\"Sex\", outputCol=\"SexIndex\")\n",
        "gender_encoder = OneHotEncoder(inputCol=\"SexIndex\", outputCol=\"SexVec\")"
      ]
    },
    {
      "cell_type": "code",
      "execution_count": null,
      "metadata": {
        "application/vnd.databricks.v1+cell": {
          "inputWidgets": {},
          "nuid": "192ee2c1-b01a-4207-b9ed-9348d792c027",
          "showTitle": false,
          "title": ""
        },
        "collapsed": true,
        "id": "sDLoCXa1L88i"
      },
      "outputs": [],
      "source": [
        "embark_indexer = StringIndexer(inputCol=\"Embarked\", outputCol=\"EmbarkIndex\")\n",
        "embark_encoder = OneHotEncoder(inputCol=\"EmbarkIndex\", outputCol=\"EmbarkVec\")"
      ]
    },
    {
      "cell_type": "code",
      "execution_count": null,
      "metadata": {
        "application/vnd.databricks.v1+cell": {
          "inputWidgets": {},
          "nuid": "74a014c6-7678-4702-9de6-4a0995f98389",
          "showTitle": false,
          "title": ""
        },
        "collapsed": true,
        "id": "guD2Dk-2L88j"
      },
      "outputs": [],
      "source": [
        "assembler = VectorAssembler(inputCols=[\"Pclass\", \"SexVec\", \"Age\", \"SibSp\", \"Parch\", \"Fare\", \"EmbarkVec\"], outputCol=\"features\")"
      ]
    },
    {
      "cell_type": "markdown",
      "metadata": {
        "application/vnd.databricks.v1+cell": {
          "inputWidgets": {},
          "nuid": "0fc408cc-e0cf-4cbb-9768-8e23bbe5a007",
          "showTitle": false,
          "title": ""
        },
        "id": "ZFGFlMVCL88j"
      },
      "source": [
        "**Modelación**"
      ]
    },
    {
      "cell_type": "code",
      "execution_count": null,
      "metadata": {
        "application/vnd.databricks.v1+cell": {
          "inputWidgets": {},
          "nuid": "23b70415-3fe3-407e-915a-4998adaf841e",
          "showTitle": false,
          "title": ""
        },
        "collapsed": true,
        "id": "zGygiLriL88j"
      },
      "outputs": [],
      "source": [
        "from pyspark.ml import Pipeline\n",
        "from pyspark.ml.classification import LogisticRegression"
      ]
    },
    {
      "cell_type": "code",
      "execution_count": null,
      "metadata": {
        "application/vnd.databricks.v1+cell": {
          "inputWidgets": {},
          "nuid": "b613e207-0cb8-427c-9154-08dbf75fc534",
          "showTitle": false,
          "title": ""
        },
        "collapsed": true,
        "id": "9TL_mfy6L88j"
      },
      "outputs": [],
      "source": [
        "log_reg = LogisticRegression(featuresCol=\"features\", labelCol=\"Survived\")"
      ]
    },
    {
      "cell_type": "code",
      "execution_count": null,
      "metadata": {
        "application/vnd.databricks.v1+cell": {
          "inputWidgets": {},
          "nuid": "a907ea67-a2b5-44f7-afa6-75780b803ad5",
          "showTitle": false,
          "title": ""
        },
        "collapsed": true,
        "id": "Ge-9MUZ3L88j"
      },
      "outputs": [],
      "source": [
        "pipeline = Pipeline(stages=[gender_indexer,\n",
        "                            embark_indexer,\n",
        "                            gender_encoder,\n",
        "                            embark_encoder,\n",
        "                            assembler,\n",
        "                            log_reg])"
      ]
    },
    {
      "cell_type": "code",
      "execution_count": null,
      "metadata": {
        "application/vnd.databricks.v1+cell": {
          "inputWidgets": {},
          "nuid": "558b0eb6-55fc-4b95-81b6-6dad7464f460",
          "showTitle": false,
          "title": ""
        },
        "collapsed": true,
        "id": "4xVcRv32L88k"
      },
      "outputs": [],
      "source": [
        "train_titanic_data, val_titanic_data = my_final_data.randomSplit([0.8, 0.2])"
      ]
    },
    {
      "cell_type": "code",
      "execution_count": null,
      "metadata": {
        "application/vnd.databricks.v1+cell": {
          "inputWidgets": {},
          "nuid": "585e8eaf-a276-43c7-8558-03ae98879754",
          "showTitle": false,
          "title": ""
        },
        "collapsed": true,
        "id": "U2BBgkRbL88k"
      },
      "outputs": [],
      "source": [
        "fit_model = pipeline.fit(train_titanic_data)"
      ]
    },
    {
      "cell_type": "code",
      "execution_count": null,
      "metadata": {
        "application/vnd.databricks.v1+cell": {
          "inputWidgets": {},
          "nuid": "b92af477-2edf-43a5-a01e-ce4420570762",
          "showTitle": false,
          "title": ""
        },
        "id": "sHokb_VWL88k"
      },
      "outputs": [],
      "source": [
        "type(fit_model)"
      ]
    },
    {
      "cell_type": "code",
      "execution_count": null,
      "metadata": {
        "application/vnd.databricks.v1+cell": {
          "inputWidgets": {},
          "nuid": "43422a55-6ed3-4285-8453-173bb83e75d7",
          "showTitle": false,
          "title": ""
        },
        "collapsed": true,
        "id": "re9IBzidL88k"
      },
      "outputs": [],
      "source": [
        "results = fit_model.transform(val_titanic_data)"
      ]
    },
    {
      "cell_type": "code",
      "execution_count": null,
      "metadata": {
        "application/vnd.databricks.v1+cell": {
          "inputWidgets": {},
          "nuid": "414f4225-c6fd-4721-96e3-3360c2b6f8ab",
          "showTitle": false,
          "title": ""
        },
        "id": "qQXB2bVxL88k"
      },
      "outputs": [],
      "source": [
        "results.display()"
      ]
    },
    {
      "cell_type": "markdown",
      "metadata": {
        "application/vnd.databricks.v1+cell": {
          "inputWidgets": {},
          "nuid": "eaba5946-fd7b-43ad-8058-b4f7d6056f44",
          "showTitle": false,
          "title": ""
        },
        "id": "oGcGB3NiL88k"
      },
      "source": [
        "**Evaluación**"
      ]
    },
    {
      "cell_type": "code",
      "execution_count": null,
      "metadata": {
        "application/vnd.databricks.v1+cell": {
          "inputWidgets": {},
          "nuid": "531dd3ba-2a8c-4809-8ffb-8d8ba1c4b306",
          "showTitle": false,
          "title": ""
        },
        "collapsed": true,
        "id": "LnCrgciuL88l"
      },
      "outputs": [],
      "source": [
        "from pyspark.ml.evaluation import BinaryClassificationEvaluator"
      ]
    },
    {
      "cell_type": "code",
      "execution_count": null,
      "metadata": {
        "application/vnd.databricks.v1+cell": {
          "inputWidgets": {},
          "nuid": "14393180-e31c-4e04-ac2f-235be3d2ffd5",
          "showTitle": false,
          "title": ""
        },
        "collapsed": true,
        "id": "KMsjjCC-L88l"
      },
      "outputs": [],
      "source": [
        "my_eval = BinaryClassificationEvaluator(rawPredictionCol=\"prediction\", labelCol=\"Survived\")"
      ]
    },
    {
      "cell_type": "code",
      "execution_count": null,
      "metadata": {
        "application/vnd.databricks.v1+cell": {
          "inputWidgets": {},
          "nuid": "d19d12db-e629-4e7c-a0e6-713397041000",
          "showTitle": false,
          "title": ""
        },
        "id": "OcgYYOtgL88l"
      },
      "outputs": [],
      "source": [
        "type(my_eval)"
      ]
    },
    {
      "cell_type": "code",
      "execution_count": null,
      "metadata": {
        "application/vnd.databricks.v1+cell": {
          "inputWidgets": {},
          "nuid": "f9b8f5fe-4210-4481-97cc-dfc9cf182c70",
          "showTitle": false,
          "title": ""
        },
        "id": "gbyJJQnEL88l"
      },
      "outputs": [],
      "source": [
        "results.select(\"Survived\", \"prediction\").display()"
      ]
    },
    {
      "cell_type": "code",
      "execution_count": null,
      "metadata": {
        "application/vnd.databricks.v1+cell": {
          "inputWidgets": {},
          "nuid": "330e5a91-ddf9-4360-bd97-8c47a9d29564",
          "showTitle": false,
          "title": ""
        },
        "id": "AOpPv439L88l"
      },
      "outputs": [],
      "source": [
        "my_eval.getMetricName()"
      ]
    },
    {
      "cell_type": "code",
      "execution_count": null,
      "metadata": {
        "application/vnd.databricks.v1+cell": {
          "inputWidgets": {},
          "nuid": "f32f65bd-b93f-40d7-8f39-121028608bbd",
          "showTitle": false,
          "title": ""
        },
        "collapsed": true,
        "id": "dd6otuNzL88m"
      },
      "outputs": [],
      "source": [
        "auc = my_eval.evaluate(dataset=results)\n",
        "auc"
      ]
    },
    {
      "cell_type": "markdown",
      "metadata": {
        "application/vnd.databricks.v1+cell": {
          "inputWidgets": {},
          "nuid": "460f9c7e-65c5-47e0-a30d-2b3f8be3d234",
          "showTitle": false,
          "title": ""
        },
        "id": "URYJGUpBL88m"
      },
      "source": [
        "**Persistencia de modelo**"
      ]
    },
    {
      "cell_type": "code",
      "execution_count": null,
      "metadata": {
        "application/vnd.databricks.v1+cell": {
          "inputWidgets": {},
          "nuid": "ea391c37-fd97-4016-9f1f-298836ad9b83",
          "showTitle": false,
          "title": ""
        },
        "id": "W_wQ8BloL88m"
      },
      "outputs": [],
      "source": [
        "fit_model.save(f\"/mnt/{generation}/output/lr_model/\")"
      ]
    },
    {
      "cell_type": "code",
      "execution_count": null,
      "metadata": {
        "application/vnd.databricks.v1+cell": {
          "inputWidgets": {},
          "nuid": "0412a366-a693-45fe-b19a-5ff6e5cedf7c",
          "showTitle": false,
          "title": ""
        },
        "id": "NB7PVtDGL88m"
      },
      "outputs": [],
      "source": [
        "from pyspark.ml import PipelineModel"
      ]
    },
    {
      "cell_type": "code",
      "execution_count": null,
      "metadata": {
        "application/vnd.databricks.v1+cell": {
          "inputWidgets": {},
          "nuid": "42408d88-26b8-4fd6-b7fd-3410ffbcfc9f",
          "showTitle": false,
          "title": ""
        },
        "id": "LYa4yfHHL88n"
      },
      "outputs": [],
      "source": [
        "loaded_model = PipelineModel.load(f\"/mnt/{generation}/output/lr_model/\")"
      ]
    },
    {
      "cell_type": "code",
      "execution_count": null,
      "metadata": {
        "application/vnd.databricks.v1+cell": {
          "inputWidgets": {},
          "nuid": "82e915c4-02f5-43e8-8e90-9760699f7553",
          "showTitle": false,
          "title": ""
        },
        "id": "TypSQl8JL88n"
      },
      "outputs": [],
      "source": [
        "new_results = loaded_model.transform(val_titanic_data)"
      ]
    },
    {
      "cell_type": "code",
      "execution_count": null,
      "metadata": {
        "application/vnd.databricks.v1+cell": {
          "inputWidgets": {},
          "nuid": "ab70467f-6222-4f14-98d4-150a5bcf0e6e",
          "showTitle": false,
          "title": ""
        },
        "id": "-9V25fwIL88n"
      },
      "outputs": [],
      "source": [
        "new_results.display()"
      ]
    }
  ],
  "metadata": {
    "anaconda-cloud": {},
    "application/vnd.databricks.v1+notebook": {
      "dashboards": [],
      "language": "python",
      "notebookMetadata": {
        "pythonIndentUnit": 4
      },
      "notebookName": "4.6.4 Regresión Logística",
      "notebookOrigID": 267889027353102,
      "widgets": {}
    },
    "kernelspec": {
      "display_name": "Python [conda root]",
      "language": "python",
      "name": "conda-root-py"
    },
    "language_info": {
      "codemirror_mode": {
        "name": "ipython",
        "version": 3
      },
      "file_extension": ".py",
      "mimetype": "text/x-python",
      "name": "python",
      "nbconvert_exporter": "python",
      "pygments_lexer": "ipython3",
      "version": "3.5.3"
    },
    "colab": {
      "provenance": [],
      "include_colab_link": true
    }
  },
  "nbformat": 4,
  "nbformat_minor": 0
}