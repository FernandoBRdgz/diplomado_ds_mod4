{
  "cells": [
    {
      "cell_type": "markdown",
      "metadata": {
        "id": "view-in-github",
        "colab_type": "text"
      },
      "source": [
        "<a href=\"https://colab.research.google.com/github/FernandoBRdgz/diplomado_ds_mod4/blob/main/4.6%20Modelaci%C3%B3n%20supervisada%20y%20no%20supervisada%20de%20Big%20Data/4.6.2%20Pre-procesamiento.ipynb\" target=\"_parent\"><img src=\"https://colab.research.google.com/assets/colab-badge.svg\" alt=\"Open In Colab\"/></a>"
      ]
    },
    {
      "cell_type": "markdown",
      "source": [
        "## Transformaciones de datos\n",
        "\n",
        "No siempre se obtendrán datos en un formato conveniente, Spark cuenta con algunos métodos integrados para lidiar con transformaciones: https://spark.apache.org/docs/latest/api/python/reference/pyspark.ml.html"
      ],
      "metadata": {
        "id": "hxBBuC03QzXT",
        "application/vnd.databricks.v1+cell": {
          "title": "",
          "showTitle": false,
          "inputWidgets": {},
          "nuid": "2bf280b2-56ae-4b5f-b9d5-0196a7736016"
        }
      }
    },
    {
      "cell_type": "markdown",
      "source": [
        "#### StringIndexer\n",
        "\n",
        "A menudo se debe convertir información de cadenas de caracteres en valores numéricos como una variable categórica. Esto se puede hacer con el método `StringIndexer` de la siguiente forma."
      ],
      "metadata": {
        "id": "2eg71fO8QzXg",
        "application/vnd.databricks.v1+cell": {
          "title": "",
          "showTitle": false,
          "inputWidgets": {},
          "nuid": "964d48da-747f-4dd9-8058-d21229b11bc5"
        }
      }
    },
    {
      "cell_type": "code",
      "source": [
        "from pyspark.ml.feature import StringIndexer"
      ],
      "metadata": {
        "application/vnd.databricks.v1+cell": {
          "title": "",
          "showTitle": false,
          "inputWidgets": {},
          "nuid": "79bc4f9d-3c0d-4aba-8ca0-e87735a87487"
        },
        "id": "FQD8fMhUK37u"
      },
      "outputs": [],
      "execution_count": null
    },
    {
      "cell_type": "code",
      "source": [
        "df = spark.createDataFrame(data=[(0, \"a\"), (1, \"b\"), (2, \"c\"), (3, \"a\"), (4, \"a\"), (5, \"c\")], schema=[\"user_id\", \"category\"])\n",
        "df.display()"
      ],
      "metadata": {
        "id": "DnS6UMJwQzXg",
        "application/vnd.databricks.v1+cell": {
          "title": "",
          "showTitle": false,
          "inputWidgets": {},
          "nuid": "be857ef9-591a-4c67-abd7-8dafb704bc50"
        }
      },
      "outputs": [],
      "execution_count": null
    },
    {
      "cell_type": "code",
      "source": [
        "indexer = StringIndexer(inputCol=\"category\", outputCol=\"categoryIndex\")"
      ],
      "metadata": {
        "application/vnd.databricks.v1+cell": {
          "title": "",
          "showTitle": false,
          "inputWidgets": {},
          "nuid": "74559d0e-f6b5-4d5b-bc70-488e03943c40"
        },
        "id": "3Vk_wOokK37w"
      },
      "outputs": [],
      "execution_count": null
    },
    {
      "cell_type": "code",
      "source": [
        "type(indexer)"
      ],
      "metadata": {
        "application/vnd.databricks.v1+cell": {
          "title": "",
          "showTitle": false,
          "inputWidgets": {},
          "nuid": "b2ca5ab8-b651-437a-8706-8ce5d260faaf"
        },
        "id": "t2uIsXQZK37x"
      },
      "outputs": [],
      "execution_count": null
    },
    {
      "cell_type": "code",
      "source": [
        "indexed = indexer.fit(df).transform(df)\n",
        "indexed.display()"
      ],
      "metadata": {
        "application/vnd.databricks.v1+cell": {
          "title": "",
          "showTitle": false,
          "inputWidgets": {},
          "nuid": "753c0eba-6d1c-4471-9456-0d707e947569"
        },
        "id": "rDmcV1RJK37x"
      },
      "outputs": [],
      "execution_count": null
    },
    {
      "cell_type": "code",
      "source": [
        "indexed.printSchema()"
      ],
      "metadata": {
        "application/vnd.databricks.v1+cell": {
          "title": "",
          "showTitle": false,
          "inputWidgets": {},
          "nuid": "a35b7af9-d3d3-43af-9c79-221969aa888f"
        },
        "id": "kXXakgOtK37y"
      },
      "outputs": [],
      "execution_count": null
    },
    {
      "cell_type": "markdown",
      "source": [
        "### VectorAssembler\n",
        "\n",
        "VectorAssembler es una transformación que combina una lista dada de variables en una sola columna vectorial. Es útil para combinar variables en un solo vector de características para entrenar modelos de ML.\n",
        "\n",
        "VectorAssembler acepta los siguientes tipos de columnas de entrada: todos los tipos numéricos, tipo booleano y tipo vectorial.\n",
        "\n",
        "En cada fila, los valores de las columnas de entrada se concatenarán en un vector en el orden especificado.\n",
        "\n",
        "---\n",
        "\n",
        "Ejemplo: Supongamos que tenemos un DataFrame con las siguientes variables:\n",
        "\n",
        "     id | hour | mobile | userFeatures     | clicked\n",
        "    ----|------|--------|------------------|---------\n",
        "     0  | 18   | 1.0    | [0.0, 10.0, 0.5] | 1.0\n",
        "     \n",
        "Queremos combinar \"hour\", \"mobile\" y \"userFeatures\" en un solo vector de características llamado \"features\" y usarlo para predecir si se hizo clic o no. Si establecemos las columnas de entrada de VectorAssembler como \"hour\", \"mobile\" y \"userFeatures\" y la columna de salida como \"features\", después de la transformación se obtiene el siguiente DataFrame:\n",
        "\n",
        "     id | hour | mobile | userFeatures     | clicked | features\n",
        "    ----|------|--------|------------------|---------|-----------------------------\n",
        "     0  | 18   | 1.0    | [0.0, 10.0, 0.5] | 1.0     | [18.0, 1.0, 0.0, 10.0, 0.5]"
      ],
      "metadata": {
        "id": "5bWt6NPnQzXj",
        "application/vnd.databricks.v1+cell": {
          "title": "",
          "showTitle": false,
          "inputWidgets": {},
          "nuid": "3fa9f021-0cb4-4c34-b6eb-f0c175424058"
        }
      }
    },
    {
      "cell_type": "code",
      "source": [
        "from pyspark.ml.linalg import Vectors\n",
        "from pyspark.ml.feature import VectorAssembler"
      ],
      "metadata": {
        "application/vnd.databricks.v1+cell": {
          "title": "",
          "showTitle": false,
          "inputWidgets": {},
          "nuid": "db110baa-c1d8-48d3-a932-191b9bd6fab8"
        },
        "id": "rxgezOjIK37z"
      },
      "outputs": [],
      "execution_count": null
    },
    {
      "cell_type": "code",
      "source": [
        "dataset = spark.createDataFrame([(0, 18, 1.0, Vectors.dense([0.0, 10.0, 0.5]), 1.0)], [\"id\", \"hour\", \"mobile\", \"userFeatures\", \"clicked\"])\n",
        "dataset.display()"
      ],
      "metadata": {
        "id": "Ka262kwjQzXk",
        "application/vnd.databricks.v1+cell": {
          "title": "",
          "showTitle": false,
          "inputWidgets": {},
          "nuid": "837f1566-ed07-49ab-b649-26e3813e3f9a"
        }
      },
      "outputs": [],
      "execution_count": null
    },
    {
      "cell_type": "code",
      "source": [
        "dataset.show()"
      ],
      "metadata": {
        "application/vnd.databricks.v1+cell": {
          "title": "",
          "showTitle": false,
          "inputWidgets": {},
          "nuid": "641c7d64-e788-421e-b897-5b6793029f63"
        },
        "id": "3Egb-GkhK370"
      },
      "outputs": [],
      "execution_count": null
    },
    {
      "cell_type": "code",
      "source": [
        "assembler = VectorAssembler(inputCols=[\"hour\", \"mobile\", \"userFeatures\"], outputCol=\"features\")"
      ],
      "metadata": {
        "id": "h0rYKtl_QzXl",
        "application/vnd.databricks.v1+cell": {
          "title": "",
          "showTitle": false,
          "inputWidgets": {},
          "nuid": "842be27d-b2ec-48e9-a135-01ae040c81ab"
        }
      },
      "outputs": [],
      "execution_count": null
    },
    {
      "cell_type": "code",
      "source": [
        "type(assembler)"
      ],
      "metadata": {
        "application/vnd.databricks.v1+cell": {
          "title": "",
          "showTitle": false,
          "inputWidgets": {},
          "nuid": "dcf8172f-cd4d-43ba-9b4d-5c54f364e786"
        },
        "id": "KqIfQj1-K371"
      },
      "outputs": [],
      "execution_count": null
    },
    {
      "cell_type": "code",
      "source": [
        "output = assembler.transform(dataset)\n",
        "output.show()"
      ],
      "metadata": {
        "application/vnd.databricks.v1+cell": {
          "title": "",
          "showTitle": false,
          "inputWidgets": {},
          "nuid": "19bef156-d191-4255-a3d0-f1969c5953d9"
        },
        "id": "TJUIej-mK371"
      },
      "outputs": [],
      "execution_count": null
    },
    {
      "cell_type": "code",
      "source": [
        "output.select(\"features\", \"clicked\").show()"
      ],
      "metadata": {
        "application/vnd.databricks.v1+cell": {
          "title": "",
          "showTitle": false,
          "inputWidgets": {},
          "nuid": "2a029727-0d19-452c-af23-e02fdaaa83ed"
        },
        "id": "5ypc3XfdK371"
      },
      "outputs": [],
      "execution_count": null
    }
  ],
  "metadata": {
    "language_info": {
      "mimetype": "text/x-python",
      "name": "python",
      "pygments_lexer": "ipython3",
      "codemirror_mode": {
        "name": "ipython",
        "version": 3
      },
      "version": "3.5.3",
      "nbconvert_exporter": "python",
      "file_extension": ".py"
    },
    "kernelspec": {
      "display_name": "Python [conda root]",
      "language": "python",
      "name": "conda-root-py"
    },
    "anaconda-cloud": {},
    "application/vnd.databricks.v1+notebook": {
      "notebookName": "4.6.2 Pre-procesamiento",
      "dashboards": [],
      "notebookMetadata": {
        "pythonIndentUnit": 4
      },
      "language": "python",
      "widgets": {},
      "notebookOrigID": 267889027353045
    },
    "colab": {
      "provenance": [],
      "include_colab_link": true
    }
  },
  "nbformat": 4,
  "nbformat_minor": 0
}