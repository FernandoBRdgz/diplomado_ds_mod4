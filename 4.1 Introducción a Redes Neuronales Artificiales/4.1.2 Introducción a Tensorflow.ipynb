{
  "nbformat": 4,
  "nbformat_minor": 0,
  "metadata": {
    "colab": {
      "provenance": [],
      "include_colab_link": true
    },
    "kernelspec": {
      "name": "python3",
      "display_name": "Python 3"
    },
    "language_info": {
      "name": "python"
    }
  },
  "cells": [
    {
      "cell_type": "markdown",
      "metadata": {
        "id": "view-in-github",
        "colab_type": "text"
      },
      "source": [
        "<a href=\"https://colab.research.google.com/github/FernandoBRdgz/diplomado_ds_mod4/blob/main/4.1%20Introducci%C3%B3n%20a%20Redes%20Neuronales%20Artificiales/4.1.2%20Introducci%C3%B3n%20a%20Tensorflow.ipynb\" target=\"_parent\"><img src=\"https://colab.research.google.com/assets/colab-badge.svg\" alt=\"Open In Colab\"/></a>"
      ]
    },
    {
      "cell_type": "code",
      "source": [
        "#!pip install tensorflow==1.11.0"
      ],
      "metadata": {
        "id": "GZdVF-3RUoBH"
      },
      "execution_count": 1,
      "outputs": []
    },
    {
      "cell_type": "code",
      "execution_count": 2,
      "metadata": {
        "id": "ijeAYKpUOH6j"
      },
      "outputs": [],
      "source": [
        "import numpy as np\n",
        "import tensorflow as tf"
      ]
    },
    {
      "cell_type": "code",
      "source": [
        "tf.__version__"
      ],
      "metadata": {
        "id": "BBMxDeTwMVoZ",
        "colab": {
          "base_uri": "https://localhost:8080/",
          "height": 36
        },
        "outputId": "d1098ce0-1b06-4763-b950-e5195b4cfae9"
      },
      "execution_count": 3,
      "outputs": [
        {
          "output_type": "execute_result",
          "data": {
            "text/plain": [
              "'2.12.0'"
            ],
            "application/vnd.google.colaboratory.intrinsic+json": {
              "type": "string"
            }
          },
          "metadata": {},
          "execution_count": 3
        }
      ]
    },
    {
      "cell_type": "markdown",
      "source": [
        "Se crea una matriz de numpy de una sola dimensión de tamaño 25 sobre la que se aplicarán algunas operación."
      ],
      "metadata": {
        "id": "fGbo_XixObm4"
      }
    },
    {
      "cell_type": "code",
      "source": [
        "x = np.arange(0, 25)\n",
        "x"
      ],
      "metadata": {
        "id": "QKMI5xFTOUGK",
        "colab": {
          "base_uri": "https://localhost:8080/"
        },
        "outputId": "d238045c-e545-4db6-fe98-58f511632f5e"
      },
      "execution_count": 4,
      "outputs": [
        {
          "output_type": "execute_result",
          "data": {
            "text/plain": [
              "array([ 0,  1,  2,  3,  4,  5,  6,  7,  8,  9, 10, 11, 12, 13, 14, 15, 16,\n",
              "       17, 18, 19, 20, 21, 22, 23, 24])"
            ]
          },
          "metadata": {},
          "execution_count": 4
        }
      ]
    },
    {
      "cell_type": "code",
      "source": [
        "# Convertir arreglo de numpy a Tensor usando `tf.Variable` (Mutable)\n",
        "z = tf.Variable(x)\n",
        "z"
      ],
      "metadata": {
        "id": "_vy0ktonctAG",
        "colab": {
          "base_uri": "https://localhost:8080/"
        },
        "outputId": "b56d648c-cdc9-49e0-e9f4-141f479410c0"
      },
      "execution_count": 5,
      "outputs": [
        {
          "output_type": "execute_result",
          "data": {
            "text/plain": [
              "<tf.Variable 'Variable:0' shape=(25,) dtype=int64, numpy=\n",
              "array([ 0,  1,  2,  3,  4,  5,  6,  7,  8,  9, 10, 11, 12, 13, 14, 15, 16,\n",
              "       17, 18, 19, 20, 21, 22, 23, 24])>"
            ]
          },
          "metadata": {},
          "execution_count": 5
        }
      ]
    },
    {
      "cell_type": "code",
      "source": [
        "# Convertir arreglo de numpy a Tensor usando `tf.constant` (Inmutable)\n",
        "x = tf.constant(x)\n",
        "x"
      ],
      "metadata": {
        "id": "BRjZmWTCOd_I",
        "colab": {
          "base_uri": "https://localhost:8080/"
        },
        "outputId": "68b5bcbb-eb7e-4567-f466-cef51ce174b5"
      },
      "execution_count": 6,
      "outputs": [
        {
          "output_type": "execute_result",
          "data": {
            "text/plain": [
              "<tf.Tensor: shape=(25,), dtype=int64, numpy=\n",
              "array([ 0,  1,  2,  3,  4,  5,  6,  7,  8,  9, 10, 11, 12, 13, 14, 15, 16,\n",
              "       17, 18, 19, 20, 21, 22, 23, 24])>"
            ]
          },
          "metadata": {},
          "execution_count": 6
        }
      ]
    },
    {
      "cell_type": "code",
      "source": [
        "# Elevar al cuadrado el tensor de entrada x\n",
        "x = tf.square(x)\n",
        "x"
      ],
      "metadata": {
        "id": "vHElr7FtOilS",
        "colab": {
          "base_uri": "https://localhost:8080/"
        },
        "outputId": "b5d556fa-c4fa-45f2-a255-3a8cef700874"
      },
      "execution_count": 7,
      "outputs": [
        {
          "output_type": "execute_result",
          "data": {
            "text/plain": [
              "<tf.Tensor: shape=(25,), dtype=int64, numpy=\n",
              "array([  0,   1,   4,   9,  16,  25,  36,  49,  64,  81, 100, 121, 144,\n",
              "       169, 196, 225, 256, 289, 324, 361, 400, 441, 484, 529, 576])>"
            ]
          },
          "metadata": {},
          "execution_count": 7
        }
      ]
    },
    {
      "cell_type": "markdown",
      "source": [
        "Una característica de los tensores es que se pueden redimensionar.\n",
        "\n",
        "Al redimensionar, asegúrese de considerar las dimensiones que incluirán todos los valores del tensor."
      ],
      "metadata": {
        "id": "MuqSut52Opwp"
      }
    },
    {
      "cell_type": "code",
      "source": [
        "# Redimensionamiento del tensor x en una matriz de 5 x 5\n",
        "x = tf.reshape(x, (5, 5))\n",
        "x"
      ],
      "metadata": {
        "id": "t08AAy5sOm3h",
        "colab": {
          "base_uri": "https://localhost:8080/"
        },
        "outputId": "3d019a79-6c25-4697-9bec-0c82cd00d65a"
      },
      "execution_count": 8,
      "outputs": [
        {
          "output_type": "execute_result",
          "data": {
            "text/plain": [
              "<tf.Tensor: shape=(5, 5), dtype=int64, numpy=\n",
              "array([[  0,   1,   4,   9,  16],\n",
              "       [ 25,  36,  49,  64,  81],\n",
              "       [100, 121, 144, 169, 196],\n",
              "       [225, 256, 289, 324, 361],\n",
              "       [400, 441, 484, 529, 576]])>"
            ]
          },
          "metadata": {},
          "execution_count": 8
        }
      ]
    },
    {
      "cell_type": "markdown",
      "source": [
        "Tenga en cuenta que recibirá un mensaje de error si elige una forma que\n",
        "no se puede llenar exactamente con los valores del tensor dado."
      ],
      "metadata": {
        "id": "Lc90cp7rOuPn"
      }
    },
    {
      "cell_type": "code",
      "source": [
        "# Intente cambiar los valores para el parámetro `shape`\n",
        "tmp = tf.constant([1,2,3,4])\n",
        "tf.reshape(tmp, shape=(2,2))"
      ],
      "metadata": {
        "id": "PrjwSq1kOr6o",
        "colab": {
          "base_uri": "https://localhost:8080/"
        },
        "outputId": "e0e905aa-fb2c-484d-950f-85154b254435"
      },
      "execution_count": 9,
      "outputs": [
        {
          "output_type": "execute_result",
          "data": {
            "text/plain": [
              "<tf.Tensor: shape=(2, 2), dtype=int32, numpy=\n",
              "array([[1, 2],\n",
              "       [3, 4]], dtype=int32)>"
            ]
          },
          "metadata": {},
          "execution_count": 9
        }
      ]
    },
    {
      "cell_type": "markdown",
      "source": [
        "También es posible cambiar el tipo de dato de los valores dentro\n",
        "el tensor. Ejecute la celda a continuación para cambiar el tipo de datos de `int` a `float`."
      ],
      "metadata": {
        "id": "VWdZCkPxPAY9"
      }
    },
    {
      "cell_type": "code",
      "source": [
        "# Observe el cambio en el dtype tras modificar el tipo de dato\n",
        "x = tf.cast(x, tf.float32)\n",
        "x"
      ],
      "metadata": {
        "id": "Wo3JF74WOxO_",
        "colab": {
          "base_uri": "https://localhost:8080/"
        },
        "outputId": "f6de7de3-edd2-48df-f959-5a5b53b423a6"
      },
      "execution_count": 10,
      "outputs": [
        {
          "output_type": "execute_result",
          "data": {
            "text/plain": [
              "<tf.Tensor: shape=(5, 5), dtype=float32, numpy=\n",
              "array([[  0.,   1.,   4.,   9.,  16.],\n",
              "       [ 25.,  36.,  49.,  64.,  81.],\n",
              "       [100., 121., 144., 169., 196.],\n",
              "       [225., 256., 289., 324., 361.],\n",
              "       [400., 441., 484., 529., 576.]], dtype=float32)>"
            ]
          },
          "metadata": {},
          "execution_count": 10
        }
      ]
    },
    {
      "cell_type": "code",
      "source": [
        "# Se define una constante para en la siguiente celda ver cómo funciona la vectorización y el broadcasting\n",
        "y = tf.constant(2, dtype=tf.float32)\n",
        "y"
      ],
      "metadata": {
        "id": "faN41fvpPDPz",
        "colab": {
          "base_uri": "https://localhost:8080/"
        },
        "outputId": "09088e15-91da-46ee-a2c8-b4451c2f3fbd"
      },
      "execution_count": 11,
      "outputs": [
        {
          "output_type": "execute_result",
          "data": {
            "text/plain": [
              "<tf.Tensor: shape=(), dtype=float32, numpy=2.0>"
            ]
          },
          "metadata": {},
          "execution_count": 11
        }
      ]
    },
    {
      "cell_type": "code",
      "source": [
        "# Multiplica el tensor 'x' con 'y'. Note como 'y' se multiplica por cada elemento de x\n",
        "result = tf.multiply(x, y)\n",
        "result"
      ],
      "metadata": {
        "id": "4Ky3kM9ZPLBZ",
        "colab": {
          "base_uri": "https://localhost:8080/"
        },
        "outputId": "9d784d68-bc6e-4f37-e4d5-8fab96d3b07c"
      },
      "execution_count": 12,
      "outputs": [
        {
          "output_type": "execute_result",
          "data": {
            "text/plain": [
              "<tf.Tensor: shape=(5, 5), dtype=float32, numpy=\n",
              "array([[   0.,    2.,    8.,   18.,   32.],\n",
              "       [  50.,   72.,   98.,  128.,  162.],\n",
              "       [ 200.,  242.,  288.,  338.,  392.],\n",
              "       [ 450.,  512.,  578.,  648.,  722.],\n",
              "       [ 800.,  882.,  968., 1058., 1152.]], dtype=float32)>"
            ]
          },
          "metadata": {},
          "execution_count": 12
        }
      ]
    },
    {
      "cell_type": "code",
      "source": [
        "# Ahora se define una matriz que coincide con el número de elementos de fila en la matriz 'x'\n",
        "y = tf.constant([1, 2, 3, 4, 5], dtype=tf.float32)\n",
        "y"
      ],
      "metadata": {
        "id": "-iiTp4LePPLk",
        "colab": {
          "base_uri": "https://localhost:8080/"
        },
        "outputId": "30d3e4cb-f67d-46a8-b843-8761d2b90767"
      },
      "execution_count": 13,
      "outputs": [
        {
          "output_type": "execute_result",
          "data": {
            "text/plain": [
              "<tf.Tensor: shape=(5,), dtype=float32, numpy=array([1., 2., 3., 4., 5.], dtype=float32)>"
            ]
          },
          "metadata": {},
          "execution_count": 13
        }
      ]
    },
    {
      "cell_type": "code",
      "source": [
        "# Resultado actualizado\n",
        "x"
      ],
      "metadata": {
        "id": "9-jJ1n9wPTSu",
        "colab": {
          "base_uri": "https://localhost:8080/"
        },
        "outputId": "62f975ad-23a8-41f2-b0b8-71dce2de34e0"
      },
      "execution_count": 14,
      "outputs": [
        {
          "output_type": "execute_result",
          "data": {
            "text/plain": [
              "<tf.Tensor: shape=(5, 5), dtype=float32, numpy=\n",
              "array([[  0.,   1.,   4.,   9.,  16.],\n",
              "       [ 25.,  36.,  49.,  64.,  81.],\n",
              "       [100., 121., 144., 169., 196.],\n",
              "       [225., 256., 289., 324., 361.],\n",
              "       [400., 441., 484., 529., 576.]], dtype=float32)>"
            ]
          },
          "metadata": {},
          "execution_count": 14
        }
      ]
    },
    {
      "cell_type": "code",
      "source": [
        "# Ahora se suma 'y' como elemento a cada fila de 'x'\n",
        "result = tf.add(x, y)\n",
        "result"
      ],
      "metadata": {
        "id": "su-ocYtJLzWF",
        "colab": {
          "base_uri": "https://localhost:8080/"
        },
        "outputId": "e7f92b5a-70f0-4e5e-a293-974777f0b1d9"
      },
      "execution_count": 15,
      "outputs": [
        {
          "output_type": "execute_result",
          "data": {
            "text/plain": [
              "<tf.Tensor: shape=(5, 5), dtype=float32, numpy=\n",
              "array([[  1.,   3.,   7.,  13.,  21.],\n",
              "       [ 26.,  38.,  52.,  68.,  86.],\n",
              "       [101., 123., 147., 173., 201.],\n",
              "       [226., 258., 292., 328., 366.],\n",
              "       [401., 443., 487., 533., 581.]], dtype=float32)>"
            ]
          },
          "metadata": {},
          "execution_count": 15
        }
      ]
    },
    {
      "cell_type": "code",
      "source": [
        "# Otra forma de realizar la misma operación es sobrecargando el operador '+', de esta manera la operación resulta \"más natural\"\n",
        "result = x + y\n",
        "result"
      ],
      "metadata": {
        "id": "sTGY-4WUPXSq",
        "colab": {
          "base_uri": "https://localhost:8080/"
        },
        "outputId": "f78ac697-755f-4fc7-b446-ff509a5ab849"
      },
      "execution_count": 16,
      "outputs": [
        {
          "output_type": "execute_result",
          "data": {
            "text/plain": [
              "<tf.Tensor: shape=(5, 5), dtype=float32, numpy=\n",
              "array([[  1.,   3.,   7.,  13.,  21.],\n",
              "       [ 26.,  38.,  52.,  68.,  86.],\n",
              "       [101., 123., 147., 173., 201.],\n",
              "       [226., 258., 292., 328., 366.],\n",
              "       [401., 443., 487., 533., 581.]], dtype=float32)>"
            ]
          },
          "metadata": {},
          "execution_count": 16
        }
      ]
    }
  ]
}