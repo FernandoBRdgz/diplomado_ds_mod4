{
  "nbformat": 4,
  "nbformat_minor": 0,
  "metadata": {
    "kernelspec": {
      "name": "python3",
      "display_name": "Python 3"
    },
    "colab": {
      "provenance": [],
      "include_colab_link": true
    },
    "language_info": {
      "name": "python"
    },
    "gpuClass": "standard"
  },
  "cells": [
    {
      "cell_type": "markdown",
      "metadata": {
        "id": "view-in-github",
        "colab_type": "text"
      },
      "source": [
        "<a href=\"https://colab.research.google.com/github/FernandoBRdgz/diplomado_ds_mod4/blob/main/4.1%20Introducci%C3%B3n%20a%20Redes%20Neuronales%20Artificiales/4.1.1%20Vectorizaci%C3%B3n.ipynb\" target=\"_parent\"><img src=\"https://colab.research.google.com/assets/colab-badge.svg\" alt=\"Open In Colab\"/></a>"
      ]
    },
    {
      "cell_type": "code",
      "metadata": {
        "id": "JjwWPUslv5tE"
      },
      "source": [
        "import numpy as np"
      ],
      "execution_count": null,
      "outputs": []
    },
    {
      "cell_type": "markdown",
      "source": [
        "## Broadcasting"
      ],
      "metadata": {
        "id": "-nTgXYiWXBLm"
      }
    },
    {
      "cell_type": "markdown",
      "source": [
        "Los arreglos de numpy se diferencian de las listas normales de Python debido a su capacidad para hacer broadcasting. Con las listas, solo puede operar con objetos del mismo tamaño y forma. Es decir, si se quisiera reemplazar los primeros 5 elementos de una lista con un nuevo valor, tendría que iterar sobre los 5 elementos de la lista. Con los arreglos de numpy, puede \"transmitir\" un solo valor a través de un conjunto más grande de valores."
      ],
      "metadata": {
        "id": "p9d27gdcW-Js"
      }
    },
    {
      "cell_type": "code",
      "metadata": {
        "id": "fkgp6Ig8v5tF",
        "colab": {
          "base_uri": "https://localhost:8080/"
        },
        "outputId": "3f781d0e-1524-427f-fc2c-ecee4271b6eb"
      },
      "source": [
        "arr = np.arange(0,10)\n",
        "arr"
      ],
      "execution_count": null,
      "outputs": [
        {
          "output_type": "execute_result",
          "data": {
            "text/plain": [
              "array([0, 1, 2, 3, 4, 5, 6, 7, 8, 9])"
            ]
          },
          "metadata": {},
          "execution_count": 27
        }
      ]
    },
    {
      "cell_type": "code",
      "metadata": {
        "id": "9DZT8XgFv5tN",
        "colab": {
          "base_uri": "https://localhost:8080/"
        },
        "outputId": "fc188453-acac-4b9f-8f4f-3e9d73565f8f"
      },
      "source": [
        "arr ** 3"
      ],
      "execution_count": null,
      "outputs": [
        {
          "output_type": "execute_result",
          "data": {
            "text/plain": [
              "array([  0,   1,   8,  27,  64, 125, 216, 343, 512, 729])"
            ]
          },
          "metadata": {},
          "execution_count": 28
        }
      ]
    },
    {
      "cell_type": "code",
      "metadata": {
        "id": "ylHN-mYKv5tH",
        "colab": {
          "base_uri": "https://localhost:8080/"
        },
        "outputId": "ce5568bc-fd28-49f1-b1ae-6f715cc3865f"
      },
      "source": [
        "arr + arr"
      ],
      "execution_count": null,
      "outputs": [
        {
          "output_type": "execute_result",
          "data": {
            "text/plain": [
              "array([ 0,  2,  4,  6,  8, 10, 12, 14, 16, 18])"
            ]
          },
          "metadata": {},
          "execution_count": 29
        }
      ]
    },
    {
      "cell_type": "code",
      "metadata": {
        "id": "SyjU6uKsv5tI",
        "colab": {
          "base_uri": "https://localhost:8080/"
        },
        "outputId": "a1813ae6-08c5-4cfe-97ca-8289c0fda50d"
      },
      "source": [
        "arr * arr"
      ],
      "execution_count": null,
      "outputs": [
        {
          "output_type": "execute_result",
          "data": {
            "text/plain": [
              "array([ 0,  1,  4,  9, 16, 25, 36, 49, 64, 81])"
            ]
          },
          "metadata": {},
          "execution_count": 30
        }
      ]
    },
    {
      "cell_type": "code",
      "metadata": {
        "id": "s6M9GbCVv5tI",
        "colab": {
          "base_uri": "https://localhost:8080/"
        },
        "outputId": "7153d718-99fe-4423-d700-89f592d7fdda"
      },
      "source": [
        "arr - arr"
      ],
      "execution_count": null,
      "outputs": [
        {
          "output_type": "execute_result",
          "data": {
            "text/plain": [
              "array([0, 0, 0, 0, 0, 0, 0, 0, 0, 0])"
            ]
          },
          "metadata": {},
          "execution_count": 31
        }
      ]
    },
    {
      "cell_type": "markdown",
      "metadata": {
        "id": "EzKLflQWv5tJ"
      },
      "source": [
        "La siguiente celda generará un *Warning* sobre la división por cero, ¡pero no un arrojará *Error*! Simplemente llena la posición con *nan*."
      ]
    },
    {
      "cell_type": "code",
      "metadata": {
        "id": "XspmkjpPv5tL",
        "colab": {
          "base_uri": "https://localhost:8080/"
        },
        "outputId": "3896664e-bde9-4bda-cee6-2b73bb4d86ce"
      },
      "source": [
        "arr / arr"
      ],
      "execution_count": null,
      "outputs": [
        {
          "output_type": "stream",
          "name": "stderr",
          "text": [
            "<ipython-input-32-7f952cd3e0ce>:1: RuntimeWarning: invalid value encountered in true_divide\n",
            "  arr / arr\n"
          ]
        },
        {
          "output_type": "execute_result",
          "data": {
            "text/plain": [
              "array([nan,  1.,  1.,  1.,  1.,  1.,  1.,  1.,  1.,  1.])"
            ]
          },
          "metadata": {},
          "execution_count": 32
        }
      ]
    },
    {
      "cell_type": "code",
      "metadata": {
        "id": "XspNjTotv5tM",
        "colab": {
          "base_uri": "https://localhost:8080/"
        },
        "outputId": "586405bc-1a79-4baa-aeb8-1d991f715c20"
      },
      "source": [
        "1 / arr"
      ],
      "execution_count": null,
      "outputs": [
        {
          "output_type": "stream",
          "name": "stderr",
          "text": [
            "<ipython-input-33-e66ae8057bc3>:1: RuntimeWarning: divide by zero encountered in true_divide\n",
            "  1 / arr\n"
          ]
        },
        {
          "output_type": "execute_result",
          "data": {
            "text/plain": [
              "array([       inf, 1.        , 0.5       , 0.33333333, 0.25      ,\n",
              "       0.2       , 0.16666667, 0.14285714, 0.125     , 0.11111111])"
            ]
          },
          "metadata": {},
          "execution_count": 33
        }
      ]
    },
    {
      "cell_type": "markdown",
      "metadata": {
        "id": "qsH7HBIzv5tO"
      },
      "source": [
        "#### Funciones Universales"
      ]
    },
    {
      "cell_type": "code",
      "metadata": {
        "id": "6TbkiNz8v5tO",
        "colab": {
          "base_uri": "https://localhost:8080/"
        },
        "outputId": "ffb914e1-4406-4d93-e120-922d0efed6c6"
      },
      "source": [
        "arr"
      ],
      "execution_count": null,
      "outputs": [
        {
          "output_type": "execute_result",
          "data": {
            "text/plain": [
              "array([0, 1, 2, 3, 4, 5, 6, 7, 8, 9])"
            ]
          },
          "metadata": {},
          "execution_count": 34
        }
      ]
    },
    {
      "cell_type": "code",
      "metadata": {
        "id": "ByxbSUR1v5tP",
        "colab": {
          "base_uri": "https://localhost:8080/"
        },
        "outputId": "bd94972a-8d59-405b-99ac-8a3a61ab1d09"
      },
      "source": [
        "np.sqrt(arr)"
      ],
      "execution_count": null,
      "outputs": [
        {
          "output_type": "execute_result",
          "data": {
            "text/plain": [
              "array([0.        , 1.        , 1.41421356, 1.73205081, 2.        ,\n",
              "       2.23606798, 2.44948974, 2.64575131, 2.82842712, 3.        ])"
            ]
          },
          "metadata": {},
          "execution_count": 35
        }
      ]
    },
    {
      "cell_type": "code",
      "metadata": {
        "id": "ZVk-3B7av5tP",
        "colab": {
          "base_uri": "https://localhost:8080/"
        },
        "outputId": "47d2dced-1308-4848-bfb1-c177d1ddb05c"
      },
      "source": [
        "np.exp(arr)"
      ],
      "execution_count": null,
      "outputs": [
        {
          "output_type": "execute_result",
          "data": {
            "text/plain": [
              "array([1.00000000e+00, 2.71828183e+00, 7.38905610e+00, 2.00855369e+01,\n",
              "       5.45981500e+01, 1.48413159e+02, 4.03428793e+02, 1.09663316e+03,\n",
              "       2.98095799e+03, 8.10308393e+03])"
            ]
          },
          "metadata": {},
          "execution_count": 36
        }
      ]
    },
    {
      "cell_type": "code",
      "metadata": {
        "id": "KSiV0Y5zv5tQ",
        "colab": {
          "base_uri": "https://localhost:8080/"
        },
        "outputId": "6368b769-0b1e-475c-8b63-70619157961f"
      },
      "source": [
        "np.sin(arr)"
      ],
      "execution_count": null,
      "outputs": [
        {
          "output_type": "execute_result",
          "data": {
            "text/plain": [
              "array([ 0.        ,  0.84147098,  0.90929743,  0.14112001, -0.7568025 ,\n",
              "       -0.95892427, -0.2794155 ,  0.6569866 ,  0.98935825,  0.41211849])"
            ]
          },
          "metadata": {},
          "execution_count": 37
        }
      ]
    },
    {
      "cell_type": "code",
      "metadata": {
        "id": "k8vNrpb5v5tQ",
        "colab": {
          "base_uri": "https://localhost:8080/"
        },
        "outputId": "dbb76cc6-9be1-4c7d-b466-047af48e182a"
      },
      "source": [
        "np.log(arr)"
      ],
      "execution_count": null,
      "outputs": [
        {
          "output_type": "stream",
          "name": "stderr",
          "text": [
            "<ipython-input-38-a67b4ae04e95>:1: RuntimeWarning: divide by zero encountered in log\n",
            "  np.log(arr)\n"
          ]
        },
        {
          "output_type": "execute_result",
          "data": {
            "text/plain": [
              "array([      -inf, 0.        , 0.69314718, 1.09861229, 1.38629436,\n",
              "       1.60943791, 1.79175947, 1.94591015, 2.07944154, 2.19722458])"
            ]
          },
          "metadata": {},
          "execution_count": 38
        }
      ]
    },
    {
      "cell_type": "markdown",
      "metadata": {
        "id": "0ULnVkiNv5tR"
      },
      "source": [
        "#### Funciones Estadísticas"
      ]
    },
    {
      "cell_type": "code",
      "metadata": {
        "id": "zn9RulVrv5tR",
        "colab": {
          "base_uri": "https://localhost:8080/"
        },
        "outputId": "888c373a-96c6-4ae5-ebc7-40c69287f233"
      },
      "source": [
        "arr = np.arange(0,10)\n",
        "arr"
      ],
      "execution_count": null,
      "outputs": [
        {
          "output_type": "execute_result",
          "data": {
            "text/plain": [
              "array([0, 1, 2, 3, 4, 5, 6, 7, 8, 9])"
            ]
          },
          "metadata": {},
          "execution_count": 39
        }
      ]
    },
    {
      "cell_type": "code",
      "metadata": {
        "id": "pGl97nQqv5tR",
        "colab": {
          "base_uri": "https://localhost:8080/"
        },
        "outputId": "bca8a840-6943-4632-9b44-e06029b660a1"
      },
      "source": [
        "arr.mean()"
      ],
      "execution_count": null,
      "outputs": [
        {
          "output_type": "execute_result",
          "data": {
            "text/plain": [
              "4.5"
            ]
          },
          "metadata": {},
          "execution_count": 40
        }
      ]
    },
    {
      "cell_type": "code",
      "metadata": {
        "id": "qLoKhHdjv5tS",
        "colab": {
          "base_uri": "https://localhost:8080/"
        },
        "outputId": "09c4c729-ba0b-4631-fdf2-68bb198aabf0"
      },
      "source": [
        "arr.max()"
      ],
      "execution_count": null,
      "outputs": [
        {
          "output_type": "execute_result",
          "data": {
            "text/plain": [
              "9"
            ]
          },
          "metadata": {},
          "execution_count": 41
        }
      ]
    },
    {
      "cell_type": "code",
      "metadata": {
        "id": "2fX3SQ1fv5tS",
        "colab": {
          "base_uri": "https://localhost:8080/"
        },
        "outputId": "afd1dd31-3918-4571-a24a-50110e62722a"
      },
      "source": [
        "arr.min()"
      ],
      "execution_count": null,
      "outputs": [
        {
          "output_type": "execute_result",
          "data": {
            "text/plain": [
              "0"
            ]
          },
          "metadata": {},
          "execution_count": 42
        }
      ]
    },
    {
      "cell_type": "code",
      "metadata": {
        "id": "KopvQ5A0v5tS",
        "colab": {
          "base_uri": "https://localhost:8080/"
        },
        "outputId": "c7b497f3-1a71-4dfb-dd56-a935639fd0a8"
      },
      "source": [
        "arr.var()"
      ],
      "execution_count": null,
      "outputs": [
        {
          "output_type": "execute_result",
          "data": {
            "text/plain": [
              "8.25"
            ]
          },
          "metadata": {},
          "execution_count": 43
        }
      ]
    },
    {
      "cell_type": "code",
      "metadata": {
        "id": "sNQb77oYv5tT",
        "colab": {
          "base_uri": "https://localhost:8080/"
        },
        "outputId": "c6fff199-17b6-43a6-91e8-2855ab0e2187"
      },
      "source": [
        "arr.std()"
      ],
      "execution_count": null,
      "outputs": [
        {
          "output_type": "execute_result",
          "data": {
            "text/plain": [
              "2.8722813232690143"
            ]
          },
          "metadata": {},
          "execution_count": 44
        }
      ]
    },
    {
      "cell_type": "markdown",
      "metadata": {
        "id": "LJZbbqViCI3h"
      },
      "source": [
        "### Vectorización"
      ]
    },
    {
      "cell_type": "markdown",
      "metadata": {
        "id": "CTqGbS2lGzDh"
      },
      "source": [
        "La vectorización es un método para lograr el paralelismo dentro de un solo núcleo de procesador.\n",
        "\n",
        "Para expresarlo en términos sencillos, una sola instrucción se realiza sobre cada elemento individual de una matriz en un solo núcleo de CPU de manera paralela. La operación vectorizada puede reemplazar los bucles *for* tradicionales , ejecutarse más rápido, trabajar en diferentes tamaños de dimensión de matriz. Es una solución matricial que reemplaza explícitamente el bucle *for*."
      ]
    },
    {
      "cell_type": "code",
      "metadata": {
        "id": "HadnO2jyCLWr"
      },
      "source": [
        "import time\n",
        "import numpy as np"
      ],
      "execution_count": null,
      "outputs": []
    },
    {
      "cell_type": "code",
      "metadata": {
        "id": "0wRCtopXGNT8"
      },
      "source": [
        "size = 100000"
      ],
      "execution_count": null,
      "outputs": []
    },
    {
      "cell_type": "code",
      "metadata": {
        "id": "ofRSIRctMaqG"
      },
      "source": [
        "np.random.seed(0)\n",
        "vec_1 = np.random.random(size)\n",
        "vec_2 = np.random.random(size)"
      ],
      "execution_count": null,
      "outputs": []
    },
    {
      "cell_type": "code",
      "metadata": {
        "id": "uHFgh22hGRoF",
        "colab": {
          "base_uri": "https://localhost:8080/"
        },
        "outputId": "88f56c18-82a2-4859-d5e4-bd076b108c79"
      },
      "source": [
        "# SIN Vectorización\n",
        "\n",
        "tic = time.process_time()\n",
        "\n",
        "python_product = np.zeros((size, size))\n",
        "\n",
        "for i in range(size):\n",
        "    for j in range(size):\n",
        "        python_product[i][j] = vec_1[i] * vec_2[j]\n",
        "\n",
        "phyton_time = time.process_time() - tic\n",
        "print('Tiempo de Python', phyton_time)"
      ],
      "execution_count": null,
      "outputs": [
        {
          "output_type": "stream",
          "name": "stdout",
          "text": [
            "Tiempo de Python 42.84706878\n"
          ]
        }
      ]
    },
    {
      "cell_type": "code",
      "metadata": {
        "id": "H3EdnsMdGWRZ",
        "colab": {
          "base_uri": "https://localhost:8080/"
        },
        "outputId": "7bb1d514-0099-4325-8fce-6699a7f47ac8"
      },
      "source": [
        "# CON Vectorización\n",
        "\n",
        "tic = time.process_time()\n",
        "numpy_product = np.outer(vec_1, vec_2)\n",
        "\n",
        "numpy_time = time.process_time() - tic\n",
        "print('Tiempo de Numpy', numpy_time)"
      ],
      "execution_count": null,
      "outputs": [
        {
          "output_type": "stream",
          "name": "stdout",
          "text": [
            "Tiempo de Numpy 0.09762745399999062\n"
          ]
        }
      ]
    },
    {
      "cell_type": "code",
      "metadata": {
        "id": "6pS-lJEKJNKO",
        "colab": {
          "base_uri": "https://localhost:8080/"
        },
        "outputId": "e6148266-293e-4c24-d31e-e6bf34b8fa65"
      },
      "source": [
        "np.sum(python_product != numpy_product)"
      ],
      "execution_count": null,
      "outputs": [
        {
          "output_type": "execute_result",
          "data": {
            "text/plain": [
              "0"
            ]
          },
          "metadata": {},
          "execution_count": 50
        }
      ]
    },
    {
      "cell_type": "code",
      "metadata": {
        "id": "MXOvEavuGY31",
        "colab": {
          "base_uri": "https://localhost:8080/"
        },
        "outputId": "1099ee7f-3ad9-48e0-fe11-f988da9a91a8"
      },
      "source": [
        "print('Mejora con Numpy', phyton_time / numpy_time)"
      ],
      "execution_count": null,
      "outputs": [
        {
          "output_type": "stream",
          "name": "stdout",
          "text": [
            "Mejora con Numpy 438.88339831134095\n"
          ]
        }
      ]
    },
    {
      "cell_type": "code",
      "source": [],
      "metadata": {
        "id": "Ly4VMo8lWxkd"
      },
      "execution_count": null,
      "outputs": []
    }
  ]
}